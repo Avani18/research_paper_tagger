{
  "cells": [
    {
      "cell_type": "code",
      "source": [
        "from google.colab import drive\n",
        "drive.mount('/content/drive')"
      ],
      "metadata": {
        "colab": {
          "base_uri": "https://localhost:8080/"
        },
        "id": "Asjm3IG1KB5c",
        "outputId": "21ce6dac-784c-4962-a0b8-1ee904939e24"
      },
      "execution_count": 1,
      "outputs": [
        {
          "output_type": "stream",
          "name": "stdout",
          "text": [
            "Drive already mounted at /content/drive; to attempt to forcibly remount, call drive.mount(\"/content/drive\", force_remount=True).\n"
          ]
        }
      ]
    },
    {
      "cell_type": "code",
      "execution_count": 2,
      "metadata": {
        "id": "SsZcKwaJPMX4"
      },
      "outputs": [],
      "source": [
        "import numpy as np\n",
        "import tensorflow as tf\n",
        "from tensorflow import keras\n",
        "from tensorflow.keras import layers\n",
        "import pandas as pd\n",
        "import json\n",
        "from keras.preprocessing.text import Tokenizer\n",
        "import numpy as np \n",
        "import matplotlib.pyplot as plt\n",
        "from keras.preprocessing.text import Tokenizer\n",
        "from keras.preprocessing.sequence import pad_sequences\n",
        "from keras.models import Sequential\n",
        "from keras.layers import Dense, Embedding, LSTM, SpatialDropout1D,Input\n",
        "from sklearn.model_selection import train_test_split\n",
        "from keras.utils.np_utils import to_categorical\n",
        "from keras.callbacks import EarlyStopping\n",
        "from keras.layers import Dropout\n",
        "import re\n",
        "import nltk\n",
        "from nltk.corpus import stopwords\n"
      ]
    },
    {
      "cell_type": "code",
      "source": [
        "nltk.download('stopwords')\n",
        "STOPWORDS = set(stopwords.words('english'))"
      ],
      "metadata": {
        "colab": {
          "base_uri": "https://localhost:8080/"
        },
        "id": "lN-ABr9nP60i",
        "outputId": "44d326a0-af7a-439b-96b4-5cffd5757e82"
      },
      "execution_count": 3,
      "outputs": [
        {
          "output_type": "stream",
          "name": "stdout",
          "text": [
            "[nltk_data] Downloading package stopwords to /root/nltk_data...\n",
            "[nltk_data]   Package stopwords is already up-to-date!\n"
          ]
        }
      ]
    },
    {
      "cell_type": "code",
      "execution_count": 4,
      "metadata": {
        "id": "s7cn_kwIPMX6"
      },
      "outputs": [],
      "source": [
        "with open(\"training_data.jsonl\") as f:\n",
        "    training_data = json.load(f)\n",
        "with open(\"test_data.jsonl\") as f:\n",
        "    testing_data = json.load(f)\n",
        "with open(\"validation_data.jsonl\") as f:\n",
        "    valid_data = json.load(f)"
      ]
    },
    {
      "cell_type": "code",
      "execution_count": 5,
      "metadata": {
        "colab": {
          "base_uri": "https://localhost:8080/"
        },
        "id": "dhOxixQTPMX7",
        "outputId": "01e523fa-1df4-4739-8ad9-0c0f2fc51277"
      },
      "outputs": [
        {
          "output_type": "stream",
          "name": "stdout",
          "text": [
            "1386\n"
          ]
        }
      ],
      "source": [
        "train_data = []\n",
        "\n",
        "for i in range(len(training_data)):\n",
        "    train_data.append(training_data[i][0][0] + ' ' + training_data[0][0][1] + ' ' + training_data[i][0][2])\n",
        "    \n",
        "print(len(train_data))"
      ]
    },
    {
      "cell_type": "code",
      "execution_count": 6,
      "metadata": {
        "colab": {
          "base_uri": "https://localhost:8080/"
        },
        "id": "RnQdb3WYPMX8",
        "outputId": "9698ad1f-c96c-4fc8-f0e4-9a7f052a71eb"
      },
      "outputs": [
        {
          "output_type": "stream",
          "name": "stdout",
          "text": [
            "175\n"
          ]
        }
      ],
      "source": [
        "val_data = []\n",
        "\n",
        "for i in range(len(valid_data)):\n",
        "    val_data.append(valid_data[i][0][0] + ' ' + valid_data[i][0][1] + ' ' + valid_data[i][0][2])\n",
        "    \n",
        "print(len(val_data))"
      ]
    },
    {
      "cell_type": "code",
      "execution_count": 7,
      "metadata": {
        "colab": {
          "base_uri": "https://localhost:8080/"
        },
        "id": "JGOxCU3iPMX9",
        "outputId": "46ff21fe-f618-463d-c153-8b03394d764b"
      },
      "outputs": [
        {
          "output_type": "stream",
          "name": "stdout",
          "text": [
            "1386\n",
            "175\n"
          ]
        }
      ],
      "source": [
        "REPLACE_BY_SPACE = re.compile('[/(){}\\[\\]\\|@,;.-_-—]')\n",
        "\n",
        "def clean_text(text):\n",
        "    \n",
        "    text = text.lower()\n",
        "    text = REPLACE_BY_SPACE.sub(' ', text)\n",
        "    text = ' '.join(word for word in text.split() if word not in STOPWORDS)\n",
        "    return text\n",
        "\n",
        "train_data = list(map(clean_text, train_data))\n",
        "val_data = list(map(clean_text, val_data))\n",
        "\n",
        "print(len(train_data))\n",
        "print(len(val_data))"
      ]
    },
    {
      "cell_type": "code",
      "source": [
        "print(training_data[0][0][1])\n",
        "print(train_data[0])"
      ],
      "metadata": {
        "colab": {
          "base_uri": "https://localhost:8080/"
        },
        "id": "zRvST8oEV0h1",
        "outputId": "42bbf1a8-6e0c-4bb6-af19-6136447df360"
      },
      "execution_count": 8,
      "outputs": [
        {
          "output_type": "stream",
          "name": "stdout",
          "text": [
            "daphne ippolito | daniel duckworth | chris callison-burch | douglas eck\n",
            "automatic detection generated text easiest humans fooled daphne ippolito daniel duckworth chris callison burch douglas eck recent advancements neural language modelling make possible rapidly generate vast amounts human sounding text capabilities humans automatic discriminators detect machine generated text large source research interest humans machines rely different cues make decisions perform careful benchmarking analysis three popular sampling based decoding strategies top k nucleus sampling untruncated random sampling show improvements decoding methods primarily optimized fooling humans comes expense introducing statistical abnormalities make detection easy automatic systems also show though human automatic detector performance improve longer excerpt length even multi sentence excerpts fool expert human raters % time findings reveal importance using human automatic detectors assess humanness text generation systems\n"
          ]
        }
      ]
    },
    {
      "cell_type": "code",
      "execution_count": 9,
      "metadata": {
        "colab": {
          "base_uri": "https://localhost:8080/"
        },
        "id": "xw1TfVFZPMX9",
        "outputId": "1d24fb19-8a00-4cbf-c97b-af2b62e3d453"
      },
      "outputs": [
        {
          "output_type": "stream",
          "name": "stdout",
          "text": [
            "20\n",
            "{'generation': 1, 'sentiment analysis, stylistic analysis, and argument mining': 2, 'information extraction, retrieval and text mining': 3, 'resources and evaluation': 4, 'machine learning for nlp': 5, 'interpretability and analysis of models for nlp': 6, 'question answering': 7, 'linguistic theories, cognitive modeling and psycholinguistics': 8, 'discourse and pragmatics': 9, 'machine translation and multilinguality': 10, 'ethics in nlp': 11, 'summarization': 12, 'tagging, chunking, syntax and parsing': 13, 'dialogue and interactive systems': 14, 'semantics': 15, 'computational social science, social media and cultural analytics': 16, 'nlp applications': 17, 'language grounding to vision, robotics and beyond': 18, 'phonology, morphology and word segmentation': 19, 'speech and multimodality': 20}\n"
          ]
        }
      ],
      "source": [
        "diction = {}\n",
        "for i in training_data:\n",
        "    diction[i[1]] = 1\n",
        "    \n",
        "print(len(diction))\n",
        "\n",
        "j = 1\n",
        "for i in diction:\n",
        "    diction[i] = j\n",
        "    j += 1\n",
        "\n",
        "print(diction)"
      ]
    },
    {
      "cell_type": "code",
      "execution_count": 10,
      "metadata": {
        "colab": {
          "base_uri": "https://localhost:8080/"
        },
        "id": "MZBVvBOuPMX-",
        "outputId": "b3e17ccd-42c1-46d0-fff2-9358a5de76c3"
      },
      "outputs": [
        {
          "output_type": "stream",
          "name": "stdout",
          "text": [
            "1386\n",
            "175\n"
          ]
        }
      ],
      "source": [
        "train_labels = []\n",
        "for i in range(len(training_data)):\n",
        "    train_labels.append(diction[training_data[i][1]])\n",
        "    \n",
        "print(len(train_labels))\n",
        "\n",
        "val_labels = []\n",
        "for i in range(len(valid_data)):\n",
        "    val_labels.append(diction[valid_data[i][1]])\n",
        "    \n",
        "print(len(val_labels))"
      ]
    },
    {
      "cell_type": "code",
      "execution_count": 11,
      "metadata": {
        "id": "1kYjIdadPMX-"
      },
      "outputs": [],
      "source": [
        "y_train = tf.convert_to_tensor(train_labels, dtype = tf.int64)\n",
        "y_val = tf.convert_to_tensor(val_labels, dtype = tf.int64)"
      ]
    },
    {
      "cell_type": "code",
      "execution_count": 12,
      "metadata": {
        "colab": {
          "base_uri": "https://localhost:8080/"
        },
        "id": "gslXc3UyPMX_",
        "outputId": "c24eacb0-614c-412e-d6ac-10497c62e553"
      },
      "outputs": [
        {
          "output_type": "stream",
          "name": "stdout",
          "text": [
            "Number of unique tokens ['model', 'models', 'daniel', 'chris', 'daphne', 'ippolito', 'duckworth', 'callison', 'burch', 'douglas', 'eck', 'language', 'data', 'task', 'based', 'neural', 'show', 'propose', 'learning', 'text', 'training', 'performance', 'tasks', 'information', 'state', 'results', 'paper', 'art', 'word', 'translation', 'two', 'dataset', 'approach', 'method', 'using', 'knowledge', 'new', 'domain', 'datasets', 'generation', 'methods', 'sentence', 'multi', 'attention', 'also', 'experiments', 'human', 'representations', 'work', 'graph', 'level', 'different', 'proposed', 'however', 'natural', 'machine', 'large', 'semantic', 'trained', 'existing', 'question', 'evaluation', 'context', 'embeddings', 'use', 'novel', 'framework', 'dialogue', 'problem', 'network', 'entity', 'first', 'words', 'cross', 'languages', 'better', 'sequence', 'previous', 'systems', 'end', 'e', 'english', 'multiple', 'well', 'pre', 'target', 'demonstrate', 'classification', 'document', 'present', 'one', 'approaches', 'bert', 'sentences', 'unsupervised', 'analysis', 'used', 'outperforms', 'features', 'representation', 'modeling', 'source', 'improve', 'set', 'introduce', 'quality', 'extraction', 'corpus', 'transformer', 'nlp', 'input', 'high', 'achieves', 'across', 'system', 'fine', 'learn', 'experimental', 'without', 'available', 'time', 'transfer', 'many', 'structure', 'networks', 'summarization', 'accuracy', 'several', 'relation', 'relations', 'prediction', 'given', 'embedding', 'automatic', 'via', 'significantly', 'study', 'sentiment', 'benchmark', 'questions', 'generate', 'inference', 'supervised', 'three', 'baselines', 'effective', 'research', 'resource', 'parsing', 'recent', 'detection', 'code', 'answering', 'specific', 'non', 'scale', 'find', 'understanding', 'often', 'encoder', 'generated', 'reasoning', 'low', 'deep', 'lingual', 'topic', 'pairs', 'answer', 'open', 'simple', 'multilingual', 'self', 'evidence', 'dialog', 'entities', 'test', 'news', 'challenging', 'domains', 'latent', 'speech', 'linguistic', 'metrics', 'qa', 'syntactic', 'nmt', 'single', 'address', 'best', 'user', 'long', 'baseline', 'evaluate', 'aware', 'provide', 'visual', 'architecture', 'decoder', 'compared', 'current', 'dependency', 'g', 'named', 'perform', 'recognition', 'strong', 'content', 'generating', 'significant', 'process', 'chinese', 'even', 'bias', 'order', 'various', 'processing', 'social', 'achieve', 'adversarial', 'response', 'extensive', 'label', 'capture', 'f', 'space', 'train', 'improvement', 'annotated', 'real', 'corpora', 'improvements', 'effectiveness', 'important', 'ner', 'textual', 'memory', 'due', 'improves', 'automatically', 'may', 'terms', 'reading', 'alignment', 'joint', 'labels', 'types', 'standard', 'mechanism', 'aspect', 'specifically', 'number', 'make', 'labeled', 'supervision', 'texts', 'studies', 'parallel', 'selection', 'image', 'multimodal', 'documents', 'emotion', 'towards', 'contextual', 'discourse', 'diverse', 'like', 'limited', 'event', 'still', 'retrieval', 'shot', 'including', 'style', 'examples', 'monolingual', 'score', 'step', 'distribution', 'improving', 'effectively', 'comprehension', 'prior', 'predict', 'structured', 'similarity', 'techniques', 'downstream', 'recently', 'complex', 'bleu', 'k', 'focus', 'way', 'hierarchical', 'conversation', 'annotation', 'matching', 'conversational', 'related', 'common', 'form', 'learned', 'thus', 'tuning', 'learns', 'challenge', 'able', 'explore', 'al', 'world', 'applications', 'requires', 'particular', 'summaries', 'github', 'jointly', 'lexical', 'finally', 'generative', 'competitive', 'small', 'output', 'responses', 'key', 'help', 'whether', 'grained', 'ability', 'slot', 'tree', 'error', 'et', 'https', 'token', 'general', 'annotations', 'shown', 'conversations', 'design', 'explanations', 'much', 'addition', 'media', 'obtain', 'module', 'com', 'problems', 'fact', 'relevant', 'decoding', 'pretrained', 'empirical', 'aims', 'directly', 'sense', 'scores', 'provides', 'structures', 'adaptation', 'range', 'robust', 'setting', 'additional', 'extract', 'works', 'predicting', 'augmentation', 'generalization', 'algorithm', 'outperform', 'loss', 'online', 'turn', 'investigate', 'biases', 'future', 'local', 'furthermore', 'among', 'goal', 'vector', 'meta', 'labeling', 'rich', 'search', 'feature', 'uses', 'predictions', 'issue', 'points', 'span', 'similar', 'within', 'achieved', 'graphs', 'architectures', 'especially', 'argument', 'aspects', 'abstractive', 'benchmarks', 'type', 'conduct', 'efficient', 'zero', 'shows', 'moreover', 'create', 'higher', 'oriented', 'shared', 'importance', 'require', 'usually', 'semantics', 'sets', 'construct', 'evaluating', 'lack', 'difficult', 'parameters', 'consider', 'develop', 'pair', 'improved', 'answers', 'global', 'errors', 'contexts', 'summary', 'unseen', 'encoding', 'semi', 'since', 'popular', 'settings', 'interpretable', 'short', 'need', 'users', 'corresponding', 'metric', 'measure', 'interaction', 'robustness', 'allows', 'promising', 'bilingual', 'character', 'parser', 'meaning', 'support', 'seq', 'class', 'term', 'role', 'build', 'explicitly', 'structural', 'designed', 'topics', 'samples', 'possible', 'identify', 'mt', 'making', 'humans', 'case', 'tokens', 'query', 'four', 'publicly', 'coreference', 'challenges', 'could', 'hop', 'strategy', 'modal', 'cases', 'consistent', 'called', 'contextualized', 'average', 'despite', 'utterance', 'traditional', 'gap', 'tagging', 'external', 'temporal', 'useful', 'either', 'objective', 'mechanisms', 'apply', 'segmentation', 'commonsense', 'driven', 'original', 'negative', 'applied', 'encode', 'widely', 'yet', 'size', 'leveraging', 'compare', 'patterns', 'strategies', 'typically', 'individual', 'trees', 'interactions', 'coherence', 'less', 'crucial', 'resources', 'good', 'leads', 'consistency', 'evaluations', 'reference', 'gains', 'function', 'fully', 'leverage', 'relative', 'produce', 'unlabeled', 'instances', 'computational', 'makes', 'progress', 'incorporate', 'instead', 'layer', 'phrase', 'gender', 'grounded', 'concepts', 'highly', 'base', 'instance', 'descriptions', 'critical', 'known', 'performs', 'dependencies', 'identification', 'facts', 'generates', 'explicit', 'success', 'induction', 'resolution', 'variational', 'sources', 'extractive', 'issues', 'dual', 'second', 'relationships', 'overall', 'autoregressive', 'rely', 'comparable', 'layers', 'german', 'resulting', 'distributions', 'model’s', 'comparison', 'vectors', 'potential', 'noise', 'pretraining', 'transformers', 'implicit', 'dynamic', 'empirically', 'lstm', 'candidates', 'n', 'amount', 'difficulty', 'candidate', 'statistical', 'although', 'noisy', 'ones', 'scenarios', 'full', 'manner', 'alleviate', 'convolutional', 'extracting', 'inter', 'events', 'us', 'accurate', 'sequences', 'diversity', 'incorporating', 'mentions', 'recurrent', 'unified', 'images', 'policy', 'regularization', 'informative', 'adaptive', 'variety', 'encoders', 'ranking', 'made', 'result', 'enhance', 'achieving', 'example', 'procedure', 'collected', 'manually', 'comprehensive', 'logical', 'aim', 'modalities', 'claim', 'part', 'stage', 'syntax', 'inputs', 'understand', 'five', 'reduce', 'relationship', 'utterances', 'correct', 'variable', 'technique', 'lexicon', 'masked', 'distant', 'extracted', 'automated', 'coherent', 'opinion', 'sampling', 'top', 'control', 'margin', 'rather', 'contain', 'focused', 'suggest', 'sequential', 'larger', 'presents', 'relational', 'video', 'concept', 'represent', 'little', 'explanation', 'synthetic', 'exploit', 'classifier', 'intent', 'sarcasm', 'agents', 'along', 'missing', 'nli', 'review', 'parsers', 'paradigm', 'ground', 'impact', 'remains', 'vocabulary', 'medical', 'speed', 'respectively', 'agreement', 'morphological', 'length', 'alternative', 'optimization', 'tackle', 'take', 'generalize', 'proposes', 'next', 'evaluated', 'components', 'additionally', 'levels', 'nested', 'stance', 'recommendation', 'identifying', 'inspired', 'agnostic', 'benefits', 'hard', 'attribute', 'wide', 'performing', 'consists', 'algorithms', 'simultaneously', 'point', 'post', 'become', 'collection', 'contains', 'consistently', 'substantially', 'wikipedia', 'conditional', '–', 'kg', 'main', 'found', 'fixed', 'utilize', 'observe', 'solve', 'detecting', 'wmt', 'release', 'report', 'claims', 'measures', 'distillation', 'sql', 'increasing', 'extend', 'weights', 'dialogues', 'benefit', 'r', 'functions', 'contrast', 'providing', 'final', 'obtained', 'articles', 'spans', 'amr', 'spaces', 'reviews', 'detect', 'findings', 'easily', 'augmented', 'facilitate', 'properties', 'behavior', 'fail', 'previously', 'outputs', 'effect', 'analyze', 'substantial', 'public', 'building', 'translations', 'web', 'efficiently', 'predicted', 'experiment', 'sub', 'decisions', 'another', 'people', 'describe', 'paraphrase', 'capturing', 'forms', 'relevance', 'years', 'free', 'therefore', 'discrete', 'iterative', 'cause', 'auxiliary', 'cost', 'particularly', 'aligned', 'far', 'leverages', 'tuned', 'positive', 'conducted', 'linking', 'constraints', 'mention', 'sparse', 'lead', 'application', 'variables', 'bidirectional', 'mrc', 'literature', 'analyses', 'community', 'entailment', 'mining', 'co', 'reinforcement', 'probing', 'introduced', 'considering', 'weak', 'suffer', 'enhanced', 'development', 'respect', 'sensitive', 'essential', 'phrases', 'showing', 'arguments', 'hypothesis', 'tracking', 'classes', 'differences', 'teacher', 'helps', 'advantage', 'increase', 'hence', 'correlation', 'nlg', 'position', 'fast', 'compositional', 'scoring', 'consisting', 'outperforming', 'generator', 'major', 'attributes', 'beyond', 'conventional', 'head', 'change', 'back', 'hand', 'employ', 'nature', 'coverage', 'enable', 'view', 'select', 'universal', 'persona', 'wang', 'introducing', 'leading', 'uncertainty', 'guide', 'truth', 'capable', 'namely', 'solution', 'faster', 'mutual', 'besides', 'classifiers', 'complexity', 'enables', 'probability', 'might', 'manual', 'agent', 'associated', 'reveal', 'demonstrates', 'steps', 'surface', 'argue', 'gradient', 'together', 'pipeline', 'queries', 'yields', 'account', 'combine', 'boost', 'commonly', 'efficiency', 'simplification', 'applying', 'flow', 'direct', 'call', 'optimal', 'history', 'expensive', 'auto', 'construction', 'preference', 'categories', 'testing', 'times', 'linear', 'indicate', 'value', 'characteristics', 'ii', 'containing', 'distance', 'unlike', 'frequency', 'following', 'provided', 'assessment', 'description', 'degree', 'predicts', 'great', 'cannot', 'flat', 'influence', 'needs', 'combining', 'absolute', 'dictionary', 'dense', 'object', 'lattice', 'expert', 'largely', 'intermediate', 'modern', 'collect', 'generic', 'grammatical', 'squad', 'rouge', 'generally', 'component', 'discuss', 'fusion', 'produces', 'actions', 'tweets', 'likely', 'product', 'captions', 'verification', 'practical', 'c', 'student', 'pseudo', 'zhang', 'interest', 'though', 'active', 'combination', 'grammar', 'guided', 'match', 'gpt', 'passage', 'table', 'captures', 'political', 'posts', 'directions', 'finding', 'define', 'certain', 'b', 'analyzing', 'rules', 'segment', 'units', 'efforts', 'fundamental', 'paraphrasing', 'codes', 'exploiting', 'objects', 'modality', 'powerful', 'independent', 'written', 'treebank', 'posterior', 'subject', 'references', 'mapping', 'spoken', 'always', 'scheme', 'dynamically', 'x', 'reward', 'transition', 'path', 'frame', 'paragraph', 'instructions', 'practice', 'probabilistic', 'binary', 'twitter', 'interactive', 'clinical', 'rule', 'mainly', 'according', 'variants', 'curriculum', 'adapt', 'past', 'represented', 'interpretability', 'focuses', 'series', 'determine', 'attacks', 'studied', 'choice', 'rate', 'infer', 'continuous', 'signal', 'attentive', 'released', 'include', 'rc', 'experts', 'distinguish', 'ways', 'story', 'constituency', 'comparing', 'alignments', 'augment', 'reason', 'underlying', 'objectives', 'initial', 'weight', 'handle', 'motivated', 'scenario', 'upon', 'parameter', 'performed', 'discriminative', 'capability', 'examine', 'combines', 'weakly', 'obtains', 'communication', 'vision', 'perspective', 'precision', 'recall', 'unknown', 'integrate', 'tend', 'ie', 'sharing', 'liu', 'contrastive', 'nodes', 'correction', 'chen', 'modelling', 'tests', 'created', 'constrained', 'limitations', 'insights', 'hidden', 'suitable', 'shift', 'combined', 'act', 'systematic', 'subword', 'sufficient', 'writing', 'parse', 'filling', 'hierarchy', 'naturally', 'semantically', 'greatly', 'extent', 'appropriate', 'detailed', 'faithfulness', 'policies', 'lower', 'introduces', 'perturbations', 'reliable', 'distributional', 'tag', 'scientific', 'line', 'factors', 'taxonomy', 'feedback', 'separate', 'longer', 'methodology', 'values', 'frequent', 'seen', 'takes', 'faithful', 'direction', 'relies', 'ablation', 'decision', 'predictive', 'enabling', 'remarkable', 'allow', 'nlu', 'encoded', 'comments', 'schema', 'must', 'emotional', 'confidence', 'idea', 'access', 'overcome', 'assumption', 'granularity', 'database', 'risk', 'captioning', 'rank', 'distinct', 'discovery', 'videos', 'judgments', 'utilizing', 'per', 'pairwise', 'projection', 'hate', 'keyphrases', 'easy', 'tune', 'measuring', 'almost', 'preserving', 'controlled', 'observed', 'speaker', 'plausible', 'considered', 'affect', 'needed', 'retrieve', 'clear', 'fluency', 'entropy', 'every', 'template', 'rare', 'efficacy', 'core', 'representing', 'creating', 'editing', 'utilizes', 'superiority', 'quantitative', 'directed', 'complete', 'asr', 'amounts', 'depth', 'effects', 'necessary', 'unique', 'elmo', 'adopted', 'checking', 'de', 'cnn', 'reported', 'formulate', 'accurately', 'autoencoder', 'built', 'likelihood', 'action', 'advances', 'taking', 'subset', 'computation', 'fluent', 'align', 'soft', 'verify', 'grounding', 'superior', 'biased', 'factual', 'exact', 'expressions', 'dimensional', 'dictionaries', 'developed', 'link', 'segments', 'disambiguation', 'trigger', 'keyphrase', 'pattern', 'realistic', 'targets', 'fewer', 'avoid', 'gaussian', 'disentangled', 'map', 'area', 'actually', '”', 'employs', 'coarse', 'maintaining', 'reduction', 'conditioned', 'entire', 'establish', 'researchers', 'clustering', 'signals', 'supporting', 'gain', 'emotions', 'estimate', 'ambiguous', 'inductive', 'power', 'constructed', 'reducing', 'sota', 'overlap', 'ace', 'would', 'beam', 'sample', 'biomedical', 'annotators', 'solving', 'performances', 'incremental', 'gold', 'reveals', 'etc', 'required', 'negation', 'pointer', 'metaphor', 'correlations', 'tools', 'narrative', 'stories', 'li', 'cues', 'abstract', 'polarity', 'requiring', 'heads', 'relatively', 'offer', 'attempt', 'translate', 'limitation', 'insufficient', 'dst', 'historical', 'defined', 'internal', 'bi', 'follow', 'trivial', 'filtering', 'box', 'side', 'complementary', 'perplexity', 'normalization', 'validate', 'triples', 'poorly', 'yield', 'simultaneous', 'simpler', 'interesting', 'pragmatic', 'relying', 'kgs', 'protocol', 'light', 'glue', 'qualitative', 'linguistically', 'heuristics', 'wise', 'extracts', 'surprisingly', 'induced', 'employed', 'attack', 'privacy', 'random', 'dependent', 'roles', 'states', 'correlate', 'increasingly', 'recognize', 'inferences', 'tables', 'conditions', 'contribute', 'slots', 'health', 'demonstrated', 'partial', 'costly', 'demonstrating', 'obtaining', 'transformations', 'express', 'easier', 'computing', 'whose', 'pivot', 'compositionality', 'minimal', 'explored', 'opinions', 'kb', 'considers', 'selecting', 'vqa', 'purpose', 'hybrid', 'directional', 'setup', 'reader', 'nat', 'six', 'completion', 'induce', 'causal', 'lexicons', 'aggregation', 'tested', 'derive', 'least', 'majority', 'cognitive', 'handling', 'meaningful', 'explainable', 'cell', 'skills', 'changes', 'potentially', 'dimensions', 'clusters', 'phenomenon', 'optimize', 'reflect', 'adopt', 'hypotheses', 'early', 'phenomena', 'give', 'fashion', 'batch', 'salient', 'mixed', 'integrated', 'pooling', 'formulation', 'selected', 'spanish', 'confirm', 'advantages', 'property', 'modules', 'developing', 'compute', 'difference', 'ask', 'computationally', 'phase', 'focusing', 'propagation', 'rationales', 'group', 'game', 'simply', 'reasons', 'quantity', 'incorporates', 'neighborhood', 'basis', 'heterogeneous', 'frames', 'exploring', 'unit', 'string', 'paths', 'around', 'background', 'optimized', 'assess', 'constructing', 'behaviors', 'scratch', 'produced', 'meanings', 'parts', 'distantly', 'debiasing', 'involving', 'designing', 'separately', 'poses', 'appear', 'regression', 'latter', 'prove', 'strongly', 'encodes', 'published', 'financial', 'plays', 'newly', 'million', 'multiwoz', 'integrating', 'suggesting', 'groups', 'personalized', 'reliability', 'switching', 'estimates', 'gcn', 'independently', 'others', 'verb', 'environment', 'programming', 'comparisons', 'seed', 'transferable', 'carefully', 'includes', 'illustrate', 'utility', 'proper', 'roberta', 'intensity', 'multitask', 'frequently', 'iii', 'kind', 'field', 'legal', 'inconsistent', 'successful', 'approximate', 'connections', 'processes', 'involves', 'treat', 'audio', 'right', 'producing', 'behind', 'annotate', 'senses', 'reduces', 'constraint', 'chat', 'exist', 'annotating', 'extra', 'difficulties', 'implications', 'assumptions', 'randomly', 'already', 'usage', 'helpful', 'reports', 'informed', 'room', 'spatial', 'transferring', 'transcripts', 'triple', 'hyperbolic', 'know', 'boundary', 'scope', 'poor', 'paired', 'copy', 'retrieved', 'lstms', 'collecting', 'true', 'rnn', 'spelling', 'narratives', 'ensemble', 'judgment', 'operations', 'yang', 'demonstrations', 'xu', 'huang', 'yu', 'machines', 'successfully', 'formal', 'decoders', 'conclude', 'last', 'represents', 'interpretation', 'bridge', 'expressed', 'minimum', 'templates', 'theory', 'maximum', 'suggests', 'edit', 'iteratively', 'implementation', 'qg', 'choices', 'intuition', 'intended', 'intra', 'believe', 'drop', 'arabic', 'mostly', 'static', 'flexible', 'latency', 'bases', 'technical', 'discover', 'reach', 'nl', 'sensitivity', 'recognizing', 'exploits', 'adding', 'vary', 'probe', 'enough', 'penn', 'sizes', 'allowing', 'crowd', 'systematically', 'raw', 'trains', 'acquisition', 'reranking', 'get', 'bayesian', 'beneficial', 'bpe', 'papers', 'mixture', 'acoustic', 'nar', 'ordering', 'calibration', 'capabilities', 'shallow', 'adaptively', 'rewards', 'speakers', 'led', 'race', 'addresses', 'science', 'play', 'presence', 'adapted', 'french', 'conll', 'cloze', 'debate', 'enhancing', 'serve', 'interests', 'personality', 'meanwhile', 'reasonable', 'investigation', 'ensure', 'effort', 'estimation', 'currently', 'expected', 'theoretical', 'indicates', 'desired', 'decomposition', 'transitions', 'l', 'list', 'personal', 'condition', 'node', 'ignoring', 'tail', 'diagnostic', 'vae', 'integration', 'platforms', 'indicating', 'guidance', 'calls', 'strength', 'solely', 'noun', 'overlapping', 'links', 'switched', 'math', 'lms', 'wsd', 'pronoun', 'ignore', 'window', 'refer', 'determining', 'scalable', 'impressive', 'computed', 'srl', 'edges', 'visually', 'track', 'creation', 'situations', 'expertise', 'controllable', 'desirable', 'artificial', 'morphology', 'generalized', 'encourage', 'explain', 'acts', 'inferred', 'valid', 'translated', 'redundant', 'hope', 'prone', 'addressed', 'cluster', 'increases', 'solutions', 'huge', 'augmenting', 'gram', 'near', 'variant', 'hoc', 'estimated', 'fake', 'clues', 'thorough', 'gradually', 'email', 'suffers', 'close', 'advance', 'largest', 'paragraphs', 'implicitly', 'masking', 'captured', 'views', 'interact', 'thereby', 'names', 'synonyms', 'fever', 'caption', 'substitution', 'p', 'factor', 'surpasses', 'aligning', 'coupled', 'v', 'unclear', 'interpret', 'definition', 'clause', 'clauses', 'speedup', 'headline', 'pos', 'spatio', 'versions', 'date', 'reduced', 'false', 'thousands', 'lightweight', 'gives', 'nearest', 'matches', 'indeed', 'advanced', 'pruning', 'builds', 'brain', 'probabilities', 'variation', 'correctness', 'trade', 'reordering', 'energy', 'primary', 'tool', 'occurrence', 'similarities', 'ratings', 'utilized', 'intrinsic', 'passages', 'connection', 'removing', 'equally', 'approximation', 'absa', 'extractor', 'semeval', 'fidelity', 'survey', 'partially', 'arbitrary', 'assign', 'inherent', 'attend', 'crf', 'routing', 'translating', 'mentioned', 'differ', 'covering', 'edits', 'straightforward', 'counterparts', 'share', 'ir', 'causes', 'addressing', 'quantify', 'generalizes', 'encodings', 'clearly', 'counseling', 'dynamics', 'summarize', 'exploited', 'operation', 'commerce', 'consuming', 'supports', 'essay', 'reinforced', 'edge', 'counter', 'phonetic', 'instruction', 'heavily', 'followed', 'reddit', 'scaling', 'heuristic', 'suggestions', 'derived', 'hypernymy', 'models’', 'alternatives', 'ptb', 'constituent', 'correlated', 'interpreting', 'whole', 'smaller', 'category', 'specialized', 'insight', 'artifacts', 'expansion', 'stochastic', 'en', 'debates', 'tags', 'special', 'correlates', 'come', 'sparsity', 'program', 'characters', 'jiang', 'vast', 'distributed', 'extensively', 'deeper', 'consequently', 'initialization', 'functional', 'struggle', 'ten', 'visualization', 'greater', 'assessing', 'japanese', 'differentiable', 'subtasks', 'family', 'user’s', 'looking', 'assume', 'adapting', 'capacity', 'highlighting', 'exhibit', 'messages', 'procedures', 'extremely', 'book', 'par', 'ideal', 'name', 'applicable', 'boosts', 'attracted', 'ignored', 'aiming', 'kinds', 'experience', 'counterfactual', 'toward', 'rarely', 'cover', 'cognition', 'overfitting', 'labelling', 'softmax', 'attentions', 'variance', 'slu', 'gradients', 'statement', 'deal', 'unstructured', 'crowdsourcing', 'anaphora', 'means', 'richer', 'surrounding', 'offers', 'elements', 'concatenation', 'crowdsourced', 'curated', '×', 'versus', 'conversion', 'exposure', 'discrimination', 'don’t', 'pieces', 'mask', 'highlight', 'skill', 'infilling', 'hurt', 'describes', 'big', 'schemes', 'neighbor', 'asc', 'computer', 'vanilla', 'log', 'unmt', 'explaining', 'ordinal', 'lin', 'selects', 'software', 'optimizing', 'spider', 'update', 'statistics', 'keep', 'incorporated', 'extension', 'modified', 'turns', 'oov', 'explores', 'symbolic', 'proven', 'linked', 'tweet', 'capsule', 'intents', 'technologies', 'mental', 'budget', 'weighted', 'expressive', 'check', 'hindi', 'participants', 'selectively', 'expression', 'requirement', 'headlines', 'notably', 'sacrificing', 'article', 'adjust', 'variations', 'split', 'title', 'thanks', 'centric', 'premise', 'stable', 'remain', 'correctly', 'hypothesize', 'diagnosis', 'readers', 'yielding', 'observation', 'stages', 'giving', 'involved', 'contents', 'representative', 'accordingly', 'bilstm', 'aggregate', 'theoretic', 'shelf', 'combinations', 'bottleneck', 'intensive', 'extended', 'incorrect', 'composition', 'life', 'brings', 'presenting', 'treats', 'collaborative', 'block', 'affective', 'discussion', 'extends', 'targeted', 'wmt’', 'properly', 'proved', 'resolve', 'sometimes', 'forgetting', 'association', 'argumentation', 'pass', 'remarkably', 'dominant', 'conclusion', 'labelled', 'fuse', 'teaching', 'typology', 'typical', 'continual', 'massive', 'inferring', 'gnn', 'smoothing', 'exploration', 'tends', 'regularized', 'denoising', 'mlm', 'hierarchies', 'ambiguity', 'kgqa', 'extractions', 'le', 'primarily', 'databases', 'magnitude', 'behavioral', 'held', 'belief', 'carry', 'bart', 'predefined', 'lacking', 'transformation', 'preservation', 'extending', 'hundreds', 'inside', 'indicative', 'uncertain', 'firstly', 'becomes', 'mind', 'poetry', 'done', 'boundaries', 'scalability', 'read', 'rl', 'observations', 'daily', 'quite', 'try', 'drawn', 'preferences', 'tailored', 'gated', 'concern', 'fed', 'hotpotqa', 'exit', 'add', 'crawled', 'encourages', 'limits', 'russian', 'varying', 'black', 'avoiding', 'contribution', 'enrich', 'paraphrases', 'generalizability', 'reflecting', 'fields', 'mined', 'classify', 'availability', 'complicated', 'considerable', 'depend', 'later', 'convert', 'obvious', 'promise', 'treating', 'updated', 'priors', 'comparative', 'received', 'increased', 'unfortunately', 'fill', 'established', 'feed', 'broad', 'comprises', 'stylistic', 'affects', 'leveraged', 'inefficient', 'worse', 'reconstruction', 'rewriting', 'embedded', 'linguistics', 'dnn', 'st', 'leaderboard', 'vocabularies', 'criteria', 'asking', 'sourced', 'nine', 'typing', 'ontology', 'maps', 'percentage', 'perspectives', 'conditioning', 'refinement', 'reliably', 'valuable', 'gates', 'mathematical', 'wrong', 'sampled', 'mitigate', 'gec', 'facilitates', 'mitigation', 'invariant', 'blocks', 'extrinsic', 'pretrain', 'sp', 'attempts', 'contributions', 'physical', 'temporally', 'manifold', 'wu', 'coding', 'chatbots', 'csc', 'dialectal', 'comes', 'matrix', 'quantitatively', 'regular', 'inflection', 'nouns', 'taken', 'consist', 'exclusively', 'emphasis', 'citation', 'lm', 'acquire', 'rnns', 'verbal', 'aggregated', 'quantities', 'traits', 'summarizing', 'lexically', 'losses', 'items', 'aimed', 'shortcomings', 'ignores', 'usefulness', 'serious', 'bottom', 'investigated', 'docred', 'synthesizing', 'disentangle', 'stability', 'linearization', 'modeled', 'sophisticated', 'translates', 'choose', 'describing', 'imitation', 'comment', 'concerned', 'perceived', 'force', 'freely', 'channel', 'attributed', 'intuitive', 'accuracies', 'communicate', 'employing', 'stronger', 'attractive', 'minimize', 'bound', 'flexibility', 'rhetorical', 'irrelevant', 'scarce', 'version', 'incomplete', 'websites', 'integrates', 'validation', 'identified', 'splits', 'ideas', 'quantifying', 'transfers', 'inducing', 'estimating', 'dimension', 'actual', 'bli', 'distilling', 'boosting', 'gating', 'implemented', 'undesirable', 'factorization', 'emergent', 'pipelines', 'bag', 'typologically', 'simulate', 'applies', 'ontonotes', 'clean', 'xlnet', 'ai', 'inverse', 'notion', 'mistakes', 'depending', 'segmentations', 'men', 'strings', 'mtl', 'nn', 'finetuning', 'selective', 'winograd', 'ar', 'caused', 'perturbation', 'basic', 'discriminator', 'composed', 'paradigms', 'outperformed', 'cws', 'snippets', 'working', 'nre', 'planning', 'assist', 'mwp', 'song', 'rumor', 'uptake', 'sun', 'zhou', 'records', 'quickly', 'kernel', 'assumes', 'sentential', 'promote', 'attribution', 'recursively', 'inherently', 'connecting', 'terminology', 'forcing', 'shaping', 'regard', 'expect', 'testbed', 'frameworks', 'recover', 'measured', 'tracker', 'activities', 'chosen', 'sequentially', 'categorical', 'cascade', 'job', 'dialogs', 'filter', 'nearly', 'alone', 'wordnet', 'narrow', 'thunlp', 'norm', 'referring', 'price', 'establishing', 'movie', 'script', 'assumed', 'behaviour', 'mitigating', 'old', 'forward', 'remove', 'convey', 'fragments', 'devise', 'loop', 'showed', 'stack', 'compression', 'initialized', 'equivalent', 'activity', 'enhances', 'persuasion', 'subtle', 'chance', 'glyph', 'residual', 'completely', 'setups', 'assigned', 'break', 'collections', 'earnings', 'vital', 'persuasive', 'annotator', 'tendency', 'mds', 'knowing', 'secondly', 'depends', 'run', 'mobilebert', 'prevent', 'collapse', 'limit', 'tackles', 'ad', 'scene', 'remaining', 'record', 'surpass', 'definitions', 'suite', 'device', 'snli', 'parent', 'guidelines', 'refine', 'iteration', 'bad', 'adapter', 'incrementally', 'syntactically', 'fit', 'dealing', 'retrieving', 'categorization', 'hinders', 'constructions', 'experiences', 'xlm', 'decide', 'harder', 'emerging', 'excellent', 'learner', 'searching', 'cosine', 'veracity', 'consideration', 'equal', 'discrepancy', 'go', 'essays', 'measurement', 'engaging', 'tasking', 'isolation', 'navigation', 'transferability', 'inform', 'fair', 'convergence', 'orthogonal', 'kd', 'generalizing', 'shorter', 'bridging', 'crafted', 'competence', 'episodic', 'spanning', 'reporting', 'translators', 'child', 'confusing', 'morphologically', 'complement', 'noises', 'sc', 'discontinuous', 'fails', 'seven', 'ended', 'parody', 'transduction', 'recipes', 'misinformation', 'mmt', 'updating', 'edited', 'realization', 'sans', 'region', 'bat', 'qags', 'authorship', 'irene', 'zheng', 'wei', 'zhao', 'rapidly', 'careful', 'formality', 'er', 'simulation', 'remedy', 'rationale', 'neither', 'chain', 'options', 'operational', 'mine', 'deployed', 'constructs', 'debias', 'intelligence', 'unable', 'mismatch', 'systematicity', 'holistic', 'bits', 'ubiquitous', 'recursive', 'perfect', 'face', 'carried', 'accompanied', 'oracle', 'robustly', 'service', 'modification', 'calibrated', 'simplicity', 'emails', 'positions', 'authors', 'u', 'identifies', 'correspondence', 'repetition', 'regularize', 'counselors', 'intuitively', 'implement', 'disentanglement', 'spectral', 'simulated', 'stream', 'chit', 'lot', 'ltr', 'interpretations', 'shifts', 'embed', 'simplified', 'restricted', 'kbs', 'io', 'write', 'scarcity', 'labor', 'mobile', 'format', 'popularity', 'probes', 'discussions', 'nyt', 'descriptive', 'imbalanced', 'digital', 'mappings', 'regions', 'logic', 'slow', 'ml', 'earlier', 'characteristic', 'deployment', 'ease', 'interested', 'constituents', 'maximize', 'ldc', 'faq', 'spread', 'correspond', 'degradation', 'manipulation', 'occurring', 'establishes', 'internet', 'fraction', 'mixing', 'cast', 'representational', 'studying', 'ary', 'element', 'predictor', 'heavy', 'strengths', 'elementary', 'h', 'drastically', 'merits', 'tackling', 'air', 'iwslt', 'materials', 'conceptually', 'hardware', 'viable', 'connect', 'enrichment', 'ranging', 'see', 'phoneme', 'closely', 'whereas', 'attentional', 'reinforce', 'demographic', 'toxicity', 'disease', 'pyramid', 'fallacies', 'practices', 'accounts', 'left', 'ranked', 'third', 'conclusions', 'asked', 'highlights', 'tensor', 'outside', 'outcome', 'backbone', 'sts', 'judgements', 'typological', 'subsequent', 'message', 'approximately', 'compound', 'rates', 'proposing', 'bio', 'demand', 'prompts', 'weighting', 'impacts', 'idioms', 'biaffine', 'adopts', 'taxonomies', 'inject', 'wsc', 'investigating', 'professional', 'leaving', 'validity', 'bert’s', 'varieties', 'contextually', 'posting', 'wikitext', 'replacing', 'evolution', 'abusive', 'programs', 'pinyin', 'dropout', 'exhibits', 'cat', 'transport', 'knn', 'ernie', 'sememe', 'simulator', 'initialize', 'abilities', 'snippet', 'players', 'balanced', 'index', 'paraphrased', 'normalizing', 'entails', 'smatch', 'smt', 'lei', 'synthesis', 'wordhood', 'bing', 'lee', 'seek', 'qe', 'irnet', 'peer', 'zhu', 'yan', 'odqa', 'accessible', 'unavailable', 'dt', 'evolve', 'throughout', 'supported', 'balance', 'verbs', 'variability', 'owing', 'examining', 'synthesized', 'informal', 'diachronic', 'dramatically', 'compact', 'healthcare', 'trust', 'mutually', 'sparc', 'statements', 'mail', 'truly', 'consecutive', 'chunking', 'assuming', 'occurs', 'perception', 'technology', 'included', 'fused', 'finds', 'mode', 'assigning', 'answered', 'ece', 'gained', 'ecpe', 'subsequently', 'aforementioned', 'retaining', 'encouraging', 'speeches', 'opposed', 'progressive', 'regarded', 'degrees', 'receive', 'accelerate', 'plain', 'replaced', 'learnable', 'numerical', 'limiting', 'stock', 'preliminary', 'divergence', 'el', 'project', 'unreliable', 'relatedness', 'former', 'author', 'examines', 'footprint', 'compressed', 'symptoms', 'introduction', 'pay', 'considerably', 'sections', 'pose', 'expose', 'consumption', 'liang', 'alleviating', 'cooperative', 'extensions', 'demands', 'defining', 'publish', 'parses', 'scalar', 'associations', 'going', 'novelty', 'principled', 'body', 'really', 'configurations', 'concise', 'deterministic', 'propaganda', 'enforce', 'awareness', 'nq', 'techqa', 'readily', 'cope', 'possibility', 'normalized', 'outcomes', 'word’s', 'merge', 'lacks', 'symmetry', 'repetitive', 'formats', 'theories', 'documentation', 'place', 'devlin', 'counterpart', 'discussed', 'focal', 'gets', 'ccg', 'instructional', 'distinctive', 'start', 'prefix', 'activation', 'fusing', 'connects', 'distill', 'transform', 'markov', 'cs', 'understudied', 'involve', 'retriever', 'pipelined', 'inconsistency', 'subspace', 'inner', 'matinf', 'put', 'bitext', 'operate', 'necessarily', 'expand', 'projective', 'hyper', 'neighbors', 'adequate', 'verifying', 'central', 'genres', 'topical', 'saliency', 'bootstrapping', 'premises', 'reasonably', 'matter', 'plan', 'facet', 'prevalent', 'locate', 'individuals', 'readability', 'shed', 'truthfulness', 'modifications', 'essentially', 'gate', 'investigates', 'edu', 'workers', 'burden', 'moving', 'derivations', 'intractable', 'teachers', 'empathetic', 'merely', 'treebanks', 'bounded', 'memorizing', 'positional', 'added', 'prompt', 'mwes', 'separated', 'controlling', 'academic', 'simulspeech', 'unexplored', 'fuzzy', 'session', 'cyberbullying', 'stackoverflow', 'subtask', 'lexicalized', 'stacked', 'extreme', 'judged', 'clarification', 'status', 'adjectives', 'protein', 'spurious', 'decomposed', 'ubwe', 'analyzed', 'refined', 'recommendations', 'analytics', 'detected', 'tabular', 'anchor', 'drops', 'pcfg', 'classifications', 'guiding', 'regex', 'cultural', 'memories', 'prerequisite', 'substitute', 'maximizing', 'identifiers', 'chess', 'gr', 'dialect', 'tu', 'seeds', 'idiomaticity', 'darcy', 'xdts', 'peng', 'dangling', 'colour', 'engineering', 'checklist', 'failures', 'commercial', 'responsible', 'comprising', 'entirely', 'decode', 'computations', 'nuanced', 'inflectional', 'ed', 'appearing', 'secondary', 'lies', 'families', 'justification', 'precise', 'inferential', 'decomposing', 'imposing', 'divergences', 'look', 'unrelated', 'conceptual', 'thousand', 'w', 'monotonic', 'comprehensively', 'drive', 'optimizes', 'quantification', 'massively', 'glove', 'converts', 'approaching', 'significance', 'autoencoders', 'services', 'identity', 'helping', 'converges', 'alleviates', 'naive', 'starting', 'regularizing', 'surpassing', 'feasibility', 'prevents', 'paid', 'ranker', 'situation', 'appropriately', 'explosion', 'decomposes', 'valued', 'czech', 'reaching', 'draft', 'overlook', 'opposite', 'duality', 'route', 'creates', 'matched', 'scholarly', 'dim', 'degrades', 'giza', 'mlqa', 'expressing', 'sized', 'rerank', 'simplify', 'exists', 'inception', 'becoming', 'problematic', 'tremendous', 'sarcastic', 'audience', 'titles', 'devices', 'figurative', 'dependence', 'argumentative', 'modular', 'consensus', 'generators', 'notable', 'cxr', 'highlighted', 'fall', 'decipherment', 'website', 'understood', 'critically', 'predicate', 'rating', 'suited', 'never', 'guarantee', 'ids', 'otherwise', 'attains', 'thought', 'possibly', 'vocal', 'revisiting', 'lists', 'ate', 'presented', 'imbalance', 'poincaré', 'regarding', 'masks', 'vulnerable', 'minimizing', 'siamese', 'pronominal', 'preserved', 'mean', 'timeline', 'total', 'specified', 'phonological', 'imperfect', 'pointing', 'styles', 'replace', 'inconsistencies', 'millions', 'keeps', 'let', 'rivals', 'drs', 'drawing', 'requirements', 'holds', 'net', 'neighboring', 'monotonicity', 'decreases', 'measurements', 'treated', 'collaboration', 'standing', 'ewise', 'hat', 'han', 'latest', 'catastrophic', 'minecraft', 'inability', 'corresponds', 'conducting', 'yelp', 'selections', 'varied', 'clwe', 'projections', 'deletion', 'portion', 'humor', 'mrs', 'bounds', 'competitively', 'literal', 'triviaqa', 'subjective', 'gendered', 'varies', 'grammars', 'controller', 'spam', 'specificity', 'thesis', 'patients', 'billion', 'antonyms', 'abuse', 'fairness', 'genre', 'encountered', 'private', 'ntm', 'adr', 'classifying', 'informativeness', 'parametric', 'communities', 'virtual', 'brought', 'products', 'assertions', 'entries', 'recurrence', 'lrn', 'duration', 'distances', 'orders', 'vln', 'environments', 'contrary', 'store', 'arithmetic', 'constrain', 'reproduce', 'serves', 'underperform', 'triggers', 'vaes', 'finer', 'neglect', 'hubness', 'bring', 'uncover', 'evaluators', 'expressiveness', 'growing', 'constitutes', 'yielded', 'exposed', 'opportunity', 'drss', 'unanswerable', 'dialogre', 'reproducible', 'depression', 'mbert', 'amplification', 'medium', 'cmcl', 'handful', 'confusion', 'proposal', 'attacking', 'shi', 'exploitation', 'resolving', 'nevertheless', 'delete', 'rewrite', 'prototype', 'pruned', 'preserve', 'cascaded', 'vs', 'contextualization', 'unintended', 'synthesize', 'activations', 'standardized', 'tuples', 'law', 'negligible', 'hot', 'sentiments', 'factuality', 'rational', 'substructures', 'industry', 'romanian', 'respective', 'hold', 'foster', 'distinguishing', 'attachment', 'broader', 'ppi', 'restaurant', 'lie', 'tvqa', 'deformer', 'occur', 'scripts', 'engine', 'leave', 'shen', 'redundancy', 'asset', 'errudite', 'ordered', 'complaints', 'transcript', 'propositions', 'areas', 'tls', 'facing', 'ood', 'aspectual', 'schemas', 'filtered', 'gao', 'replication', 'ending', 'reconstruct', 'court', 'traces', 'protocols', 'plome', 'quaternion', 'xl', 'a', 'nlvl', 'profiling', 'connectives', 'hu', 'spoiler', 'analysts’', 'determinantal', 'kang', 'multimedia', 'visualsparta', 'untruthful', 'certified', 'ji', 'lu', 'ding', 'cao', 'recalled', 'yong', 'dementia', 'feng', 'mtls', 'autocompletion', 'dyck', 'lamol', 'transferred', 'principles', 'practitioners', 'revise', 'satisfy', 'cotterell', 'yes', 'cells', 'dialogic', 'oovs', 'stereotypes', 'revealed', 'nonetheless', 'flaws', 'emerged', 'verse', 'syntactical', 'emphasize', 'adverse', 'unfaithful', 'sign', 'atis', 'mustard', 'compiled', 'emerge', 'fitting', 'avoids', 'costs', 'wikihop', 'games', 'happens', 'scattered', 'dfgn', 'chains', 'customer', 'retraining', 'plotting', 'polyglot', 'enforcing', 'smart', 'intelligent', 'management', 'readable', 'votes', 'classical', 'spectrum', 'decompose', 'inaccurate', 'segmental', 'webnlg', 'balancing', 'characterize', 'rooted', 'concatenating', 'scales', 'draw', 'genia', 'searches', 'conducts', 'acquired', 'notoriously', 'proportion', 'hops', 'illustrating', 'periods', 'logs', 'year', 'rapid', 'push', 'adds', 'collective', 'prefer', 'platform', 'rendering', 'battery', 'compatible', 'exchange', 'nothing', 'fundamentally', 'assigns', 'plausibility', 'copa', 'assistance', 'beliefs', 'profiles', 'dot', 'section', 'rigid', 'reverse', 'incongruity', 'predominantly', 'hateful', 'offensive', 'negatively', 'outline', 'prohibitive', 'intervention', 'aid', 'analyse', 'suggested', 'say', 'nowadays', 'conference', 'voice', 'absence', 'perceive', 'commenting', 'multiword', 'handcrafted', 'subjects', 'accessing', 'interfaces', 'politeness', 'disentangling', 'upper', 'induces', 'choosing', 'solved', 'antecedents', 'display', 'antecedent', 'geometric', 'crawl', 'european', 'aligner', 'psychological', 'beginning', 'th', 'societal', 'confirmed', 'transformed', 'want', 'retrieves', 'ud', 'default', 'vec', 'accelerating', 'equipped', 'convolution', 'away', 'optimum', 'keeping', 'proliferation', 'decrease', 'conve', 'losing', 'gat', 'ranks', 'slightly', 'locations', 'http', 'covered', 'disagreement', 'adopting', 'pilot', 'deemed', 'covers', 'cpu', 'gpu', 'eight', 'structuring', 'thematic', 'framing', 'refers', 'comparably', 'clubert', 'lemma', 'harmful', 'erroneous', 'taggers', 'double', 'attempted', 'sufficiently', 'connected', 'delta', 'maximization', 'concretely', 'isolated', 'convolutions', 'capsules', 'reranker', 'upstream', 'shares', 'sgns', 'women', 'ablations', 'evaluates', 'q', 'injecting', 'controversial', 'backtranslation', 'visible', 'formed', 'kbqa', 'fr', 'strengthen', 'splitting', 'positives', 'forecasting', 'mi', 'reaction', 'reply', 'solid', 'recognized', 'manages', 'described', 'proposals', 'breaking', 'finite', 'revision', 'tcs', 'metadata', 'proactively', 'browsed', 'interrelated', 'concatenated', 'seems', 'formation', 'degrade', 'arnor', 'explained', 'discovered', 'severe', 'forum', 'company', 'possession', 'propagate', 'tagger', 'computes', 'learnt', 'theoretically', 'inferior', 'tens', 'generality', 'neurons', 'users’', 'flows', 'manipulating', 'isomorphic', 'note', 'faceted', 'agree', 'bipartite', 'patient', 'eye', 'usr', 'segmenting', 'aggregates', 'lattices', 'feelings', 'fb', 'kge', 'graded', 'empowered', 'formalize', 'abstractions', 'trend', 'differs', 'isomorphism', 'negated', 'affirmative', 'consolidation', 'autoencoding', 'bayes', 'greedy', 'wider', 'guaranteed', 'polarities', 'posed', 'sheds', 'beings', 'winowhy', 'proves', 'segmenter', 'offline', 'detail', 'dispersed', 'rise', 'tang', 'pivoting', 'regularizer', 'cwi', 'screen', 'angle', 'interface', 'judgement', 'authored', 'vg', 'nsl', 'causing', 'michael', 'convex', 'continue', 'picture', 'speak', 'gazetteers', 'purely', 'failure', 'termed', 'aggressive', 'attending', 'mlc', 'structurally', 'mlms', 'stems', 'babelpic', 'granularities', 'aggregating', 'bertscore', 'packed', 'commitment', 'asks', 'sivae', 'hashing', 'uxla', 'teach', 'hiagm', 'roughly', 'referential', 'indirect', 'validated', 'affected', 'preprocessing', 'faced', 'keywords', 'necessity', 'pathways', 'expanding', 'tqa', 'concentrate', 'qualitatively', 'details', 'hypernym', 'microsoft', 'bhwr', 'students', 'receives', 'interval', 'cta', 'motives', 'laptop', 'petra', 'pages', 'endings', 'transcription', 'courses', 'assum', 'aligners', 'generalizable', 'provenance', 'reliance', 'native', 'iterations', 'arts', 'mwps', 'updates', 'overwriting', 'weaknesses', 'irregularity', 'confirms', 'datapoints', 'passes', 'neu', 'metaadaptrank', 'gru', 'emrqa', 'notes', 'graphrel', 'mie', 'accent', 'pan', 'mag', 'discovering', 'modify', 'hde', 'appealing', 'checked', 'adversary', 'round', 'trip', 'copyattention', 'icd', 'deception', 'ure', 'meeting', 'datnet', 'proposition', 'sembleu', 'assignments', 'amazon', 'localization', 'recosa', 'recurring', 'homophone', 'influenced', 'thread', 'birre', 'tapas', 'dis', 'sherliic', 'modularity', 'obfuscation', 'rikinet', 'diacritization', 'orl', 'arlue', 'storytelling', 'sentibert', 'statutory', 'enriched', 'text”', 'qt', 'gigaword', 'poscal', 'ot', 'dac', 'suicide', 'm', 'pmlm', 'oc', 'xin', 'doc', 'xie', 'imagined', 'su', 'bertgen', 'seer', 'nan', 'min', 'qacg', 'jun', 'defsent', 'plotcoder', 'ac', 'nerd', 'shuffle', 'detector', 'manipulated', 'devised', 'exemplar', 'tense', 'utilization', 'processed', 'judging', 'sent', 'preserves', 'inspire', 'characterizing', 'formulated', 'thinking', 'summarizer', 'maintain', 'contributes', 'statistically', 'imputation', 'wat', 'obviously', 'tv', 'started', 'interplay', 'validates', 'gcan', 'evidences', 'emergence', 'marked', 'referred', 'contributing', 'starts', 'doesn’t', 'tradeoff', 'plot', 'newsela', 'openbookqa', 'compose', 'respond', 'composing', 'transforms', 'drawbacks', 'tbip', 'analyzes', 'party', 'infers', 'actors', 'presidential', 'probabilistically', 'correspondences', 'backwards', 'wikidata', 'calculating', 'averaging', 'switch', 'norms', 'viewed', 'upsa', 'mscoco', 'sparsely', 'individually', 'extractors', 'dailymail', 'skep', 'converted', 'pr', 'live', 'injection', 'tightly', 'correspondingly', 'inappropriate', 'hardly', 'gather', 'targeting', 'protaugment', 'prototypical', 'unlabelled', 'canonical', 'phases', 'ada', 'compress', 'gumbel', 'applicability', 'hellaswag', 'commonsenseqa', 'symptom', 'deals', 'nile', 'growth', 'persuasiveness', 'kernels', 'scenes', 'wikibio', 'ray', 'outlets', 'concerns', 'romanized', 'confounding', 'isolate', 'fonts', 'tailor', 'retained', 'contrasting', 'reversal', 'offensiveness', 'backgrounds', 'relied', 'idg', 'axioms', 'combat', 'developers', 'exhaustive', 'centered', 'noteworthy', 'market', 'allowed', 'engagement', 'blend', 'framed', 'amrs', 'fresh', 'revisit', 'handles', 'enjoys', 'converting', 'located', 'inherit', 'determines', 'responding', 'knowref', 'trick', 'neutral', 'goals', 'dramatic', 'declension', 'divided', 'membership', 'today', 'advent', 'generations', 'formalism', 'shape', 'vault', 'neuinfer', 'predictors', 'specially', 'ms', 'phone', 'replacement', 'kl', 'amortized', 'expectation', 'return', 'conveyed', 'classified', 'edus', 'rst', 'dihedral', 'miss', 'inspiration', 'querying', 'facilitated', 'tacred', 'reached', 'ceiling', 'categorize', 'expands', 'profile', 'developments', 'acyclic', 'ips', 'mfs', 'meld', 'enhancement', 'suboptimal', 'phonotactic', 'si', 'evolved', 'strict', 'trustworthiness', 'windows', 'opens', 'exciting', 'lastly', 'consequences', 'claimed', 'sourcing', 'bible', 'ensembling', 'hinder', 'activated', 'prosodic', 'hierarchically', 'kbp', 'discovers', 'partly', 'formulating', 'dstc', 'obstacle', 'lines', 'assessments', 'overhead', 'provably', 'implied', 'projects', 'raises', 'ticket', 'poisoning', 'security', 'injected', 'manipulate', 'keyword', 'lengthy', 'removes', 'converse', 'constraining', 'approached', 'tough', 'psychotherapy', 'treatment', 'marginal', 'catch', 'attends', 'actor', 'similarly', 'bow', 'precisely', 'pharmacovigilance', 'electronic', 'engage', 'analyzer', 'aes', 'grading', 'sumbt', 'calling', 'tunes', 'confounders', 'unlikelihood', 'facets', 'artificially', 'blanks', 'functionality', 'abstracts', 'doubly', 'defend', 'craft', 'exhibiting', 'existence', 'official', '“is', 'gaps', 'storage', 'ablating', 'avoided', 'conceptnet', 'loosely', 'ta', 'twelve', 'facilitating', 'suitability', 'designs', 'globally', 'prominent', 'boxes', 'lkb', 'scalably', 'supert', 'regimes', 'disfluency', 'prevalence', 'move', 'interpolated', 'pblm', 'learners', 'accompanying', 'supplementing', 'grams', 'feeds', 'gloss', 'architectural', 'appears', 'hnn', 'revealing', 'interview', 'save', 'cosy', 'decade', 'mimic', 'algorithmic', 'matrices', 'inevitable', 'idiom', 'treecrf', 'location', 'protected', 'crossmodal', 'recipe', 'defendants', 'volume', 'confident', 'streaming', 'yahoo', 'preceding', 'sds', 'conservative', 'putting', 'converge', 'moderation', 'counting', 'tm', 'lime', 'cdl', 'apart', 'drift', 'surprising', 'conala', 'worth', 'chunk', 'rescoring', 'softly', 'linguists', 'averaged', 'efp', 'ciphers', 'specify', 'couples', 'multinli', 'regardless', 'roben', 'getting', 'grows', '𝛼', 'root', 'designated', 'pronunciations', 'bleurt', 'dpe', 'peters', 'trends', 'plug', 'associative', 'cognate', 'cognates', 'dominance', 'negotiation', 'population', 'prose', 'hashtag', 'aka', 'selectional', 'commonality', 'education', 'synchronization', 'channels', 'florence', 'visitors', 'ppvae', 'biological', 'coded', 'transcriptions', 'laymen', 'passing', 'fasttext', 'promoting', 'meteor', 'reaches', 'taxonomic', 'consequence', 'accommodate', 'accumulating', 'kglm', 'meets', 'broadly', 'landscape', 'meet', 'examinations', 'iv', 'trainable', 'batches', 'seeks', 'comprehend', 'ime', '“why', 'deebert', 'player', 'distractors', 'gear', 'pdtb', 'motivate', 'avenues', 'male', 'politicians', 'uni', 'normally', 'crawling', 'esprit', 'trusted', 'decompositional', 'regressive', 'procedural', 'dish', 'ro', 'unreasonable', 'cv', 'calibrate', 'person', 'exclusive', 'mnli', 'sublayers', 'intention', 'sstc', 'editorials', 'harm', 'credibility', 'course', 'narrated', 'typed', 'posing', 'tried', 'qfe', 'recovering', 'leaves', 'universals', 'noising', 'said', 'golc', 'severely', 'tds', 'hyperparameter', 'hpo', 'interconnected', 'forming', 'hundred', 'inflected', 'attain', 'shortcuts', 'layered', 'nas', 'transcribed', 'opiniondigest', 'reads', 'accents', 'cyber', 'bm', 'topology', 'tse', 'a”', 'acceptable', 'mae', 'accumulated', 'imojie', 'diseases', 'infix', 'ing', 'chatbot', 'calculated', 'mapped', 'highest', 'constitute', 'hpsg', 'mixtext', 'tsp', 'calculate', 'compensate', 'educational', 'minimally', 'clip', 'illegal', 'darknet', 'hou', 'mooccube', 'repository', 'moocs', 'mooc', 'cliques', 'vslnet', 'guides', 'abstain', 'guo', 'cl', 'proficiency', 'yin', 'oscar', 'confusionset', 'layoutlmv', 'cg', 'bigpatent', 'arns', 'infcands', 'counterfactuals', 'redan', 'diacritic', 'restoration', 'diacritics', 'aided', 'recovery', 'contextualised', 'nmn', 'tokenizer', 'tabert', 'conjecture', 'htm', 'seg', 'babywalk', 'demonstration', 'db', 'yifan', 'mn', 'gmn', 'ape', 'anomaly', 'lottery', 'presupposition', 'scaffolds', 'surprisal', 'vas', 'mgner', 'substitutions', 'contentful', 'oq', 'tian', 'xiao', 'cheap', 'hao', 'xiang', 'kumar', 'imagination', 'chase', 'qian', 'ming', 'jian', 'ting', 'dong', 'glat', 'bo', 'mao', 'ildc', 'indian', 'gifs', 'andrew', 'greg', 'durrett', 'tao', 'backdoor', 'zhiyuan', 'backdoors', 'fei', 'kewei', 'technicality', 'neuro', 'punchline', 'ye', 'parallelized', 'mmin', 'multimet', 'nsd', 'dna', 'regressions', 'mrasp', 'dct', 'truncation', 'distinguishability', 'piglet', 'logbook', 'kpa', 'acos', 'fooled', 'advancements', 'benchmarking', 'expense', 'overestimates', 'bugs', 'twice', 'entity’s', 'predictable', 'sketches', 'numeric', 'cycle', 'priori', 'raised', 'production', 'plural', 'swahili', 'electra', 'lens', 'influential', 'implies', 'ensures', 'transparency', 'deducing', 'multirc', 'nuances', 'plethora', 'synchronic', 'bringing', 'byte', 'religion', 'acceptability', 'dog', 'cut', 'poetic', 'confer', 'sum', 'seo', 'entailed', 'complementing', 'judges', 'benefited', 'principle', 'gcdt', 'restrict', 'graphical', 'coefficients', 'abundant', 'maml', 'factored', 'tractable', 'accomplishes', 'human’s', 'board', 'penalize', 'disparate', 'late', 'favorable', 'library', 'motivates', 'organize', 'sender', 'competitors', 'switchboard', 'vote', 'voting', 'moderate', 'factorized', 'valence', 'deterministically', 'breaks', 'independence', 'thesaurus', 'discrepancies', 'rerankers', 'regime', 'impose', 'maintains', 'advancing', 'forwards', 'crisis', 'replies', 'counselor', 'prism', 'eigensent', 'balm', 'max', 'exponential', 'memorization', 'annealing', 'facteditor', 'reuters', 'reality', 'bootstrapped', 'nlvr', 'mismatches', 'clicks', 'countries', 'toolkit', 'enabled', 'spur', 'vietnamese', 'individuals’', 'disambiguating', 'concentrated', 'episode', 'overnight', 'isarcasm', 'interpreted', 'deploy', 'driving', 'hurting', 'debaters', 'manager', 'kgat', 'copied', 'impede', 'relieve', 'richness', 'auc', 'appearance', 'disinformation', 'hopefully', 'idiosyncratic', 'latin', 'egyptian', 'closer', 'printing', 'editor', 'monte', 'carlo', 'triplet', 'locally', 'analysing', 'laser', 'instantiate', 'maximally', 'shapley', 'negations', 'impractical', 'disagree', 'clarifying', 'simulates', 'matters', 'meetings', 'recordings', 'modifier', 'listeners', 'adjusted', 'density', 'outlier', 'strongest', 'doqa', 'ample', 'duplicate', 'grammaticality', 'tagged', 'overfit', 'translationese', 'selector', 'overwhelming', 'advancement', 'ibm', 'euclidean', 'wn', 'nonlocal', 'approximates', 'gu', 'runtime', 'custom', 'lexica', 'classic', 'wiki', 'memes', 'formalization', 'boring', 'conkadi', 'alternate', 'whereby', 'older', 'newer', 'estimators', 'experimenting', 'compressing', 'inverted', 'sound', 'resolved', 'modifying', 'encapsulate', 'webpages', 'layout', 'font', 'justify', 'bilinear', 'compositions', 'inversion', 'mart', 'hit', 'decouple', 'kaggledbqa', 'wikisql', 'creative', 'drts', 'fuses', 'submission', 'industrial', 'pollution', 'forecast', 'macro', 'msc', 'nets', 'hibert', 'justifications', 'legislative', 'politics', 'breakdown', 'bill', 'attended', 'originating', 'adequacy', 'ascertain', 'scirex', 'pro', 'pronouns', 'coreferent', 'running', 'lab', 'scitail', 'compares', 'successes', 'microblog', 'tgms', 'genuinely', 'rumour', 'onto', 'explains', 'spreading', 'psycholinguistic', 'grapheme', 'schwa', 'orthography', 'pronunciation', 'sliding', 'skip', 'multitasking', 'kept', 'maximizes', 'unconditional', 'couple', 'communicative', 'unbiased', 'people’s', 'implicature', 'qualified', 'unwanted', 'vastly', 'supplement', 'ungrammatical', 'clams', 'deficiencies', 'scheduling', 'surge', 'download', 'threat', 'attacker', 'billions', 'misleading', 'adoption', 'generalizations', 'stochastically', 'bodies', 'arises', 'unprecedented', 'operators', 'observing', 'categorizing', 'mediated', 'categorizes', 'forecasts', 'marginalization', 'incompleteness', 'safe', 'vpn', 'verdict', 'embeds', 'barriers', 'disability', 'tan', 'infants', 'emr', 'invisible', 'wealth', 'cleaning', 'polysynthetic', 'transducer', 'awe', 'piece', 'elaborate', 'graphbanks', 'imposes', 'rams', 'distinguishes', 'differentiate', 'sf', 'id', 'txtract', 'preferred', 'publications', 'trustable', 'manipulates', 'forecasters', 'analysts', 'devoted', 'possess', 'cohen’s', 'kappa', 'operates', 'red', 'rose', '“what', 'automating', 'ongoing', 'anonymized', 'composes', 'minor', 'retain', 'grounds', 'famous', 'elegant', 'comet', 'atomic', 'invertible', 'utilise', 'calculation', 'deliver', 'desire', 'neuron', 'examination', 'qualification', 'paying', 'wage', 'completed', 'traverses', 'conceptflow', 'decreasing', 'exercises', 'instamap', 'deviates', 'isometric', 'unaligned', 'relaxed', 'info', 'outermost', 'unidirectional', 'synset', 'hungry', 'letters', 'qualities', 'exams', 'frontiers', 'acl', 'interestingly', 'minimizes', 'teachers’', 'paucity', 'adaptations', 'clausal', 'micro', 'remember', 'reinceptione', 'faithfully', 'arrange', 'concrete', 'instability', 'campaigns', 'dscorer', 'turning', 'ethical', 'disciplines', 'personalization', 'recurrently', 'traversal', 'rough', 'narrativeqa', 'outstanding', 'hallucination', 'hallucinations', 'uas', 'isf', 'reproducibility', 'answerable', 'notice', 'interviews', 'diagnosing', 'metaphors', 'criterion', '∼', 'ratios', 'amplified', 'pu', 'corrected', 'automata', 'moment', 'reconsolidation', 'continually', 'storing', 'memorized', 'emar', 'prototypes', 'era', 'imdb', 'proportions', 'eventually', 'merging', 'spatially', 'period', 'bootstrap', 'blackbox', 'concreteness', 'forces', 'null', 'facial', 'heart', 'streams', 'invariance', 'absent', 'scan', 'seriously', 'affecting', 'tts', 'concurrently', 'naturalistic', 'timexes', 'timings', 'struggles', 'importantly', 'regularizers', 'lipschitz', 'binomial', 'ioi', 'freezing', 'engagingness', 'bot', 'receiver', 'universally', '“gay”', '“black”', 'ontologies', 'rg', 'relating', 'meg', 'python', 'api', 'cascades', 'closing', 'trying', 'attempting', 'unannotated', 'symbols', 'ui', 'coqa', 'advaug', 'smooth', 'privaseer', 'case’s', 'practically', 'ellipsis', 'seminal', 'synchronous', 'widespread', 'discriminate', 'quase', 'paperrobot', 'evolving', 'controls', 'combinatorial', 'fold', 'plaintext', 'victim', 'oneie', 'combating', 'typos', 'nlsm', 'denotation', 'shaped', 'chinesebert', 'striking', 'headed', 'sdu', 'descent', 'marginalized', 'nnlms', 'simulations', 'plls', 'wer', 'finetune', 'anonymization', 'curate', 'senteval', 'extrapolation', 'interpolating', 'imagenet', 'bridges', 'ambiguities', 'utilising', 'stackexchange', 'mwe', 'usable', 'mid', 'shuffling', 'opponents', 'sanskrit', 'linearisation', 'hashtags', 'reflected', 'click', 'sketch', 'aligns', 'stance’s', 'alias', 'bank', 'manning', 'conveying', 'fix', 'glyphs', 'webis', 'sdrn', 'flexibly', 'invalid', 'unimodal', 'plugs', 'boltzmann', 'hash', 'multiresolution', 'upto', 'spell', 'replicate', 'svo', 'formulations', 'rat', 'alongside', 'logicalfactchecker', 'disambiguate', 'syngcn', 'validating', 'albeit', 'racism', 'ties', 'timely', 'comprised', 'divergent', 'pdrmm', 'nist', 'stm', 'golden', 'chapters', '“who', 'sgnn', 'prpn', 'architect', 'scde', 'school', 'composite', 'arise', 'ever', 'seldom', 'intricate', 'female', 'thresholds', 'parameterizations', 'purposes', 'hieve', 'orc', 'transductive', 'uds', 'cooking', 'ingredients', 'competing', 'viewpoint', 'simulatability', 'heterogeneity', 'mugnn', 'completing', 'accessed', 'eliminates', 'facetsum', 'interleaved', 'nne', 'rewriter', 'satisfactory', 'occurred', 'omission', 'rewritten', 'guarantees', 'abstraction', 'stre', 'variances', 'loops', 'tc', 'bdd', 'it’s', 'anticipated', 'cn', 'pitfalls', 'transcribe', 'socaog', 'forums', 'embedkgqa', 'gathering', 'disjoint', 'rewrites', 'uncovering', 'worthy', 'business', 'genuine', 'orthogonality', 'encounter', 'acquiring', 'diag', 'accomplish', 'equip', 'mainichi', 'shifting', 'threshold', 'owner', 'staff', 'posted', 'starc', 'diverge', 'anonymous', 'unlikely', 'unsuitable', 'coupling', 'rethink', 'extensible', 'bertram', 'schütze', 'pdp', 'pbc', 'sqg', 'solvers', 'ensembles', 'doctors', 'founded', 'interlingual', 'placeholders', 'parg', 'day', 'daml', 'stored', 'epoch', 'dgedt', 'regexes', 'pe', 'adversarially', 'tabsa', 'mina', 'contrasts', 'bigger', 'writer', 'african', 'rater', 'irr', 'synthesizes', 'baby', 'situated', 'perturbed', 'radiology', 'char', 'entry', 'babi', 'emrs', 'rounds', 'margins', 'cmu', 'seeking', 'stances', 'mover’s', 'nnlg', 'dull', 'hans', 'task’s', 'dirichlet', 'logistic', 'binarized', 'characterized', 'misaligned', 'hearst', 'malicious', 'blind', 'talking', 'indexed', 'dtca', 'brown', 'cls', 'relates', 'crafting', 'wsls', 'pfas', 'optimise', 'pure', 'zellers', 'wherein', 'splash', 'researcher', 'recognizer', 'concealed', 'indicators', 'concealing', 'geometry', 'humorousness', 'humour', 'commentary', 'children', 'codraw', 'unpaired', 'topological', 'backtranslated', 'misspelled', 'evaluator', 'except', 'spellgcn', 'bucc', 'questioned', 'esl', 'cai', 'tl', 'reat', 'shuffled', 'sensebert', 'clique', 'automl', 'belonging', 'programmer', 'interpreter', 'idrr', 'vampire', 'puzzling', 'puzzles', 'invention', 'eraser', 'hyperlex', 'dubbed', 'bernstein', 'mcqa', 'doer', 'augments', 'healthy', 'ssans', 'closed', 'plms', 'morpho', 'executives', 'adjacent', 'photographs', 'executable', 'ubli', 'dialects', 'factually', 'ratio', 'operator', 'keyboard', 'defense', 'ads', 'freebase', 'estimator', 'stealthy', 'phrasal', 'dnpg', 'rhetoric', 'ndcg', 'kar', 'epar', 'obstacles', 'usages', 'compounds', 'recommend', 'reviewer', 'celebrity', 'winning', 'marbert', 'rte', 'pointwise', 'polish', 'wmm', 'talks', 'cluhtm', 'dungeons', 'dragons', 'playing', 'eli', 'threads', 'rationalizing', 'unitrigger', 'benign', 'guesswhat', 'xsp', 'chapter', 'emt', 'rgcs', 'gns', 'vifidel', 'adam', 'polysemy', 'ssil', 'stabilized', 'restructuring', 'xnli', 'recognizes', 'das', 'pseudocode', 'moroco', 'moldavian', 'culture', 'calibrating', 'totally', 'sexual', 'harassment', 'mouse', 'modes', 'deduplication', 'pjsd', 'seqvat', 'vat', 'biset', 'cdr', 'spherere', 'hyperspherical', 'cardinality', 'highres', 'assessed', 'coach', 'smith', 'ivan', 'xia', 'jing', 'polyjuice', 'jeffrey', 'ghostbert', 'pens', 'ling', 'luo', 'yejin', 'choi', 'differential', 'fan', 'yue', 'kun', 'glancing', 'qiu', 'david', 'explainability', 'kai', 'excluding', 'cheng', 'minlie', 'laug', 'yi', 'yuan', 'misogyny', 'goyal', 'permutations', 'xinyu', 'nguyen', 'bach', 'zhongqiang', 'josef', 'descgen', 'luke', 'henghui', 'patrick', 'ng', 'zhiguo', 'refuel', 'mstg', 'wlp', 'meng', 'xiong', 'te', 'hongfei', 'gwlan', 'yubo', 'jokes', 'mars', 'redditbias', 'mohit', 'liao', 'levy', 'cnerta', 'soap', 'qin', 'jin', 'ind', 'chebyshev', 'loopcag', 'movies', 'covid', 'pivots', 'adult', 'disambiguator', 'erica', 'covariants', 'herald', 'disengagement', 'btba', 'mfep', 'snowclones', 'transs', 'tpem', 'causality', 'pral', 'tasc', 'sounding', 'discriminators', 'nucleus', 'raters', 'detectors', 'barrier', 'mitigates', 'ideation', 'actionable', 'fixup', 'elaborately', 'inflecting', 'there’s', 'kirov', 'criticism', 'marcus', 'infrequent', 'suffixes', '‘regular’', 'atypical', 'markers', 'minority', 'hints', 'somali', 'tagalog', 'transparent', 'navigating', 'utilised', 'europarl', 'sought', 'fairer', '”because', 'sanity', 'adequately', 'poems', 'equalization', '“entity', 'failed', 'indirectly', 'curatedtrec', 'logically', 'tabfact', 'featured', 'trading', 'york', 'arrangements', 'longstanding', 'signs', 'encouragingly', 'attested', 'affixes', 'dominate', 'fills', 'pearson’s', 'spearman’s', 'tone', 'occurrences', 'dynsan', 'retweet', 'suspicious', 'arc', 'spontaneous', 'backpropagation', 'danger', 'productive', 'intrinsically', 'tbqa', 'chats', 'esc', 'esconv', 'seeker', 'credit', 'trans', 'executing', 'incurring', 'calculations', 'chartdialogs', 'matplotlib', 'wikilarge', 'underperforms', 'unstable', 'nlqa', 'productivity', 'pairing', 'initially', 'conjunction', 'nominal', 'concerning', 'lawmakers', 'press', 'politicized', 'democratic', 'seventeen', 'network’s', 'throughput', 'prune', 'motivation', 'excelling', 'consequential', 'likewise', 'axis', 'denoised', 'rationality', 'visualize', 'averages', 'periodic', 'quasi', 'curve', 'linearized', 'dutch', 'buffer', 'portfolio', 'movements', 'bloomberg', 'improv', 'instantiations', 'nmns', 'citations', 'baidu', 'alternates', 'unnecessary', 'twenty', 'staged', 'audiences', 'cicd', 'suppress', 'humanities', 'sciences', 'tedious', 'lots', 'ness', 'journalists', 'episodes', 'fueled', 'pertaining', 'accepts', 'activate', 'distinction', 'coherently', 'cars', 'showcase', 'casts', 'deviation', 'nile’s', 'testable', 'argument’s', 'debaters’', 'questionnaires', 'loyal', 'openai', 'radford', '“common', 'sense”', 'chest', 'screening', 'workload', 'radiologists', 'impressions', 'impression', 'normality', 'abnormality', 'imaging', 'immediately', 'cos', 'cage', 'dnns', 'romanization', 'deciphering', 'overly', 'alike', 'tailoring', 'mc', 'truncating', 'mass', 'carrying', 'gl', 'gin', 'leakage', 'aside', 'listener', 'best–worst', 'prominence', 'formally', 'attributions', 'satisfied', 'satisfies', 'cheaper', 'leaqi', 'passive', 'unconsidered', 'viability', 'suggestion', 'adjustment', 'volatility', 'firm’s', 'verbally', 'investor', 'ceo’s', 'companies', 'markets', 'reproducing', 'siblings', 'harnessing', 'partitive', 'eat', 'hearing', '“chris', 'cookies”', 'commentator', 'plenty', 'bmi', 'casrel', 'delivers', 'faqs', 'sites', 'wizard', 'indicated', 'polite', 'filler', 'revisited', 'origin', 'manifests', 'enter', 'convincing', 'convincingness', 'reciprocal', 'rr', 'yago', 'portal', 'levenshtein', 'injects', 'unconstrained', 'image–caption', 'intermediary', 'glean', 'declensions', 'thirdly', 'resume', 'resorting', 'basque', 'formalisms', 'concluded', 'adheres', 'prioritizing', 'sud', 'pays', 'technotes', 'writers', 'subtrees', 'reductions', 'rendered', 'predecessors', 'lookup', 'gaining', 'generically', 'dev', 'ldgn', 'situ', 'logico', 'formedness', 'hyperedge', 'vanishing', 'bn', 'cvae', 'expert’s', 'color', 'determination', 'experimentation', 'cdtb', 'behaved', 'summarized', 'cue', 'lessons', 'taught', 'abs', 'relabeled', 'misclassifications', 'develops', 'kt', 'consumers', 'changed', 'monitor', 'sdp', 'multiscale', 'supplementary', 'emotionlines', 'friends', 'encompasses', 'reformulates', 'urban', '“self', 'attention”', 'approximating', 'concur', 'de↔en', 'resulted', 'dedicated', 'pushing', 'exactly', 'diagonal', 'parents', 'noticeable', 'eliminate', 'ontological', 'restricts', 'ekd', 'git', 'assistant', 'executed', 'microblogs', 'gun', 'violence', 'rejection', 'j', 'lda', 'polysemous', 'opportunities', 'analyzers', 'lemmatization', 'isn’t', 'retrofitting', 'flawed', 'proxy', 'orthographic', 'punjabi', 'exception', 'pronounced', 'conquer', 'romance', 'clickbait', 'mono', 'titlestylist', 'decoupling', 'unsegmented', 'unifies', 'unaware', 'transcap', 'unli', 'judge', 'categorically', 'bin', 'assignment', 'enforces', 'affine', 'ripa', 'stated', 'standards', 'hebrew', 'attractors', 'satisfaction', 'emods', 'bilstms', 'influences', 'bcs', 'poisson', 'booking', 'comprehending', 'topically', 'embodied', 'hypernyms', 'hyponyms', 'newstest', 'age', 'profession', 'fight', 'laws', 'hatred', 'charged', 'censorship', 'overblocking', 'demographics', 'consumer', 'therapy', 'therapist', 'synonym', 'numerous', 'evolves', 'habits', 'refining', 'weibo', 'checkers', 'equitable', 'inclusive', 'inadvertently', 'drug', 'discussing', 'newsgroups', 'stem', 'assesses', 'pertinent', 'wall', 'smoothly', 'dialectical', 'reduplication', 'grade', 'rubric', 'automate', 'conveys', 'reconstructed', 'trackers', 'woz', 'dm', 'customize', 'individual’s', 'adjusting', 'proactive', 'infancy', 'initiatives', 'konv', 'leader', 'snips', 'ia', 'bob', 'organized', 'indices', 'sofc', 'exp', 'discriminating', 'proprietary', 'gluecos', 'ontogum', 'gum', 'entailments', 'minimization', 'imperfection', 'inefficiency', 'parallelization', 'skilled', 'lyrics', 'vulnerability', 'possessions', 'implication', 'consume', '“turn', 'stop', 'door”', 'sap', 'posit', 'subtraction', 'constant', 'displays', 'discard', 'generalisation', 'deepening', 'opus', 'narrows', 'imposed', 'refines', 'exemplify', 'accounting', 'conll’', 'ultimately', 'argued', 'fairly', 'worker', 'spend', 'months', 'qualifications', 'traverse', 'confirming', 'rotation', 'neighbours', 'isometry', 'weakens', 'relaxes', 'muse', 'pairings', 'infotabs', 'biflag', 'innermost', 'glass', 'examined', 'ct', 'ineffective', 'personachat', 'assured', 'listening', 'ensuring', 'grasp', 'summarizers', 'ref', 'seem', 'serving', 'student’s', 'miulab', 'girl', 'driver', 'laboratory', 'parsed', 'deeply', 'knows', 'unbounded', 'rotate', 'symmetric', 'anti', 'incoming', 'kbgat', 'unrealistic', 'bar', 'discarding', 'favor', 'trl', 'stateof', 'fitted', 'diversified', 'campaign', 'unfits', 'visualized', 'screenplays', 'csi', 'cater', 'convenience', 'returned', 'quadratic', 'super', 'personas', 'hubless', 'org', 'kgc', 'conferences', 'professionals', 'elastic', 'interpolation', 'metaphorical', 'informing', 'paving', 'ptms', 'infinite', 'branches', 'unambiguous', 'constituting', 'correcting', 'corrections', 'roundtrip', 'subsets', 'won’t', 'wt', 'teacher’s', 'pick', 'ngram', 'nice', 'substrings', 'catastrophically', 'exercise', 'rid', 'elegance', 'remembering', 'suppose', 'dl', 'gpus', 'mha', 'incorporation', 'refcocog', 'adv', 'crowdworkers', 'perturb', 'aws', 'hurricane', 'delimiter', 'distribute', 'fulfilling', 'temporality', 'originally', 'linearly', 'mult', 'boosted', 'amplify', 'amenable', 'genbert', 'positively', 'needing', 'albert', 'principals', 'accessories', 'exhibited', 'cnns', 'rest', 'penalty', 'controversy', 'tpc', 'formulates', 'collapsed', 'delay', 'narration', 'dates', 'timexes’', 'offsets', 'geolocation', 'initiates', 'headroom', 'brief', 'spite', 'pace', 'quantised', 'tracks', 'undesired', 'meant', 'automation', 'silver', 'nb', 'gamma', 'gnb', 'stacking', 'unveil', 'xquad', 'interlocutors', 'pˆ', 'bollmann', 'ip', 'myriad', 'sizable', 'hyponym', 'disconnected', 'alternatively', 'compromising', 'overlooked', 'recording', 'corrects', 'borrow', 'kdconv', 'film', 'music', 'scientists', 'optimisation', 'violations', 'minimising', 'biggest', 'violation', 'surrogate', 'disregard', 'jw', 'shortage', 'multiagents', 'exacerbated', 'wisdom', 'scored', 'chid', 'attitude', 'sekt', 'pixelhelp', 'quac', 'vicinity', 'care', 'removal', 'ljp', 'judicial', 'charges', 'ladan', 'clarify', 'symmetries', 'wikisum', 'deixis', 'cohesion', 'shortcoming', 'recast', 'regularities', 'wsj', 'crucially', 'disasters', 'hurricanes', 'wake', 'hurricaneemo', 'maria', 'happened', 'plugin', 'supervise', 'tchebycheff', 'suites', 'underperforming', 'letting', 'sake', 'instantiated', 'expbert', 'rectifier', 'worst', 'incompatible', 'confers', 'desiderata', 'exceeds', 'numbers', 'explorations', 'providers', 'quoraqp', 'reflection', 'trustworthy', 'denotations', 'exponentially', 'resultant', 'strictly', 'convqa', 'underexplored', 'lsl', 'regularizes', 'grow', 'leaf', 'highway', 'modulated', 'parameterized', 'hypercaps', 'sennrich', 'propagating', 'conflation', 'hull', 'humanlike', 'participant', 'street', 'modest', 'blimp', 'perplexities', 'determined', 'resemble', 'extrapolate', 'synthetically', 'mrt', 'ter', 'mwf', 'compatibility', 'cognet', 'repositories', 'dogs', 'clarq', 'utilises', 'headless', 'deleting', 'agent’s', 'tom', 'kāvya', 'guru', 'lose', 'resembling', 'neglecting', 'penalizing', 'sinkhorn', 'cgec', 'ttt', 'characters’', 'american', 'frugal', 'representor', 'invaluable', 'experimenter', 'think', '“do', 'deficits', 'commitmentbank', '“know”', 'canceling', 'infused', 'lifestyle', 'vlogs', 'probable', 'stabilization', 'testset', 'researches', 'racl', 'tractability', 'elbo', 'listen', 'preventing', 'replicable', 'khandelwal', 'imn', 'passed', 'retains', 'versatility', 'born', 'classymap', 'regards', 'depicted', 'regulated', 'la', 'tp', 'deductive', 'uncommon', 'confuse', 'reshaping', 'ordinary', 'incur', 'stonybrooknlp', 'superficial', 'seemingly', 'possesses', 'copying', 'profound', 'continued', 'clients', 'longitudinal', 'derives', 'helped', 'kenize', 'semiorc', 'deisear', 'isear', 'racial', 'historically', 'inclusion', 'opportunistic', 'academia', 'inspection', 'collocations', 'refqa', 'newsqa', 'correlating', 'snorkel', '“generative', 'unifying', 'weightings', 'middle', 'bioasq', 'textbook', 'inputting', 'follows', 'frodo', 'partitioned', 'partition', 'castorini', 'proceeds', 'draws', 'robots', 'builder', 'concisely', 'akin', 'fv', 'talk', 'initiative', 'augmentations', 'editors', 'reorder', 'impossible', 'renders', 'frontier', 'organization', 'donation', 'lays', 'facto', 'bonus', 'schubert', 'flops', 'sociolinguistics', 'fastbert', 'tunable', 'incompatibility', 'imitate', 'vmf', 'groupings', 'themes', 'sports', 'paracrawl', 'grouping', 'complaining', 'expectations', 'utmost', 'organizations', 'physics', 'pivotal', 'mix', 'winomt', 'stanovsky', 'pitfall', '“soft', 'explanability', 'bags', 'taxo', 'begun', 'dc', 'autoregressively', 'timestep', 'parallelize', 'synst', 'decodes', 'phi', 'exceed', 'bcv', 'reconcile', 'diagnose', 'durations', 'eliciting', 'psychology', 'endto', 'cpus', 'rephrasing', 'journal', 'feedforward', 'sandwich', 'newswire', 'laborious', 'omitted', 'imperceptible', 'steganographic', 'fang', 'singletons', 'removed', 'page', 'signatures', 'sides', 'newspaper', 'spirit', 'nytimes', 'liberals', 'stands', 'conversing', 'cbr', 'hs', 'decent', 'maintenance', 'mainstream', 'emergency', 'streamed', 'clips', 'society', 'mailing', 'segmented', '𝛽', '𝛾', 'interpersonal', 'pbsmt', 'monitoring', 'stabilize', 'mini', 'fluctuate', 'competition', 'accepted', 'arrive', 'uncovers', 'denoise', 'enas', '“translationese”', 'inducer', 'contextualizing', 'gan', 'bunch', 'ex', 'integral', 'text’s', 'quick', 'universe', 'overlength', 'repositioning', 'se', 'prospective', 'raise', 'stakeholders', 'acknowledging', 'goes', 'configuration', 'grid', 'flaml', 'gfmn', 'seqgfmn', 'signature', 'onestopqa', 'elicited', 'reactions', 'components’', 'rankings', 'noisily', 'indicator', 'formalized', 'qualify', 'government', 'sharc', 'corefqa', 'coreferences', 'vice', 'versa', 'flipping', 'realize', 'empty', 'contained', 'world’s', 'ecological', 'deficiency', 'decides', 'asdiv', 'reflects', 'hospitals', 'contemporary', 'columns', 'traditionally', 'managed', 'fly', 'merges', 'interlingua', 'effortless', 'structuredregex', 'differing', 'bpemb', 'english⇒german', 'exploratory', 'irregular', 'half', 'adversaries', 'msnews', 'unreferenced', 'dream', 'doq', 'hallucinate', 'hallucinated', 'lives', 'preferable', 'minorities', 'umt', 'goodness', 'xrr', 'affordances', 'bilateral', 'marginalizing', 'asymptotic', 'elucidate', 'reweight', 'enwiki', 'reproduction', 'repeat', 'corrupted', 'misspellings', 'tied', 'assisting', 'customized', 'clinirc', 'duplicated', 'exclusion', 'audios', 'gcns', 'regional', 'doctor', 'confound', 'post’s', 'ridge', 'svr', 'rf', 'pip', 'accept', 'mosi', 'mislabeling', 'tac', 'leaning', 'polarizing', 'fsr', 'lus', 'markup', 'curse', 'subsequence', 'reformulate', 'fewrel', 'segmenters', 'wmseg', 'witnessed', 'normal', 'deceive', 'members', 'harness', 'multiparty', 'experimentally', 'detectable', 'backed', 'rigorous', 'comply', 'integrity', 'biology', 'fobie', 'uninformative', 'dte', 'rectification', 'da', 'anderson', 'shortest', 'join', 'triplets', 'news”', 'triggered', 'wasting', 'pts', 'hypercore', 'suffering', 'lan', 'guage', 'penalties', 'tractably', 'compensates', 'drawback', 'd', 'rewarding', 'supplemented', 'fgs', 'ee', '“a', '“she', 'keys', 'af', 'workings', 'subspaces', 'plus', 'unnatural', 'monolithic', 'appropriateness', 'manifest', 'uniform', 'sort', 'tmix', 'openqg', 'b’s', 'unfamiliar', 'ugaritic', 'documented', 'formalizing', 'leaderboards', 'portrayals', 'speaking', 'gppl', 'lemmas', 'teller', 'drawer', 'sees', 'foundation', 'encdec', 'ned', 'encouraged', 'durecdial', 'recommender', 'drugs', 'quantified', '“', 'tech', 'diplomacy', 'strategically', 'anaphor', 'feeding', 'brackets', 'lesser', 'disrupting', 'fragmentation', 'bpc', 'lowers', 'recovered', 'parameterization', 'plba', 'degeneracy', 'system’s', 'reframes', 'commands', 'operating', 'emobank', 'trial', 'cltl', 'repetitions', 'recoversat', 'intuitions', 'smoothness', 'elicit', 'hunting', 'arbitrarily', 'archived', 'dli', 'sorting', 'htc', 'review’s', 'marco', 'converging', 'ggnn', 'afterward', 'sg', 'sas', 'excessive', 'vertices', 'replacements', 'scorer', 'localizing', 'qgh', 'equips', 'abstention', 'overconfident', 'calibrator', 'mixtures', 'adaptable', 'prolog', 'medhop', 'clms', 'gae', 'stone', 'methodological', 'declarative', 'prepare', 'books', '”first', 'rationalized', 'opaque', 'releasing', 'confusable', 'pressures', 'alter', 'embarrassingly', 'monolingually', 'antonymy', 'synonymy', 'methodologies', 'oie', 'cited', 'material', 'diversifying', 'cognitively', 'wrongly', 'squeeze', 'person’s', 'conditionally', 'feqa', 'bao', 'pragmatics', 'neighbourhood', 'multiqa', 'distilled', 'photobook', 'participating', 'django', 'competitor', 'dap', 'prohibitively', 'sˆ', 'author’s', 'subjectivity', 'innovative', 'fs', 'happy', 'say”', 'vertex', 'considerations', 'deliberation', 'chatting', 'insensitive', 'miscalibration', 'readings', 'caveats', 'nuggets', 'wikitq', 'lemmatized', 'favors', 'distributing', 'fiesta', 'bandit', 'semql', 'protect', 'stealthiness', 'obfuscator', 'obfuscated', 'anonymity', 'analogies', 'decomposable', 'rhetorically', 'aesthetics', 'progressively', 'assemble', 'sentimental', 'nctti', 'portuguese', 'barks', 'somewhat', 'acceptance', 'celebrities', 'verified', 'submitted', 'occupation', 'arbert', 'collectively', 'acquires', 'scriptwriter', 'unavailability', 'vist', 'perceptual', 'redesign', 'burgeoning', 'marginally', 'translator', 'miniature', 'positivity', 'analytical', 'phonology', 'weaker', 'visualizing', 'gauge', 'seamlessly', 'incoherence', 'fandom', 'cll', 'uniformly', 'disambiguated', 'un', 'conpono', 'mlman', '“explain', 'camembert', 'gb', 'navigate', 'babysteps', 'rationalize', 'collaborate', 'trapdoors', 'detects', 'compguesswhat', '“subject', '“relation', 'trivially', 'saves', 'multinews', 'north', 'differently', 'dpps', 'dpp', 'kingdom', 'birds', 'nqg', 'paraphrastic', 'hcvae', 'mner', 'psycholinguistics', 'principal', 'hours', 'likert', 'cmade', 'summarisation', 'differentiates', 'telling', 'scaffolding', 'none', 'cvdd', 'amortised', 'unpruned', 'pathnet', 'fmri', 'flickr', 'osdm', 'goemotions', 'assert', 'xmi', 'replicating', 'offs', 'imppres', 'infersent', 'emotyda', 'subreddits', 'execution', 'softner', 'medwriter', 'brittle', 'substitution’s', 'ls', 'lc', 'quad', 'simplifying', 'dqfd', 'contributed', 'stratification', 'socio', 'centrality', 'interactor', 'belong', 'hub', 'vnmt', 'opendialkg', 'openly', 'sure', 'im', 'discobert', 'mmpe', 'pen', 'touch', 'insertions', 'saw', 'reversing', 'resourced', 'lf', 'lag', 'reformulation', 'chitchat', 'synonymous', 'alternating', 'randomization', 'ial', 'mimo', 'arisen', 'titov', 'ribeiro', 'shang', 'retrospective', 'hua', 'haifeng', 'quadratically', 'ying', 'qing', 'xing', 'harsh', 'balasubramanian', 'primitives', 'recollection', 'eric', 'lou', 'linfeng', 'ge', 'mingxuan', 'glm', 'oommix', 'otters', 'actively', 'zewen', 'chi', 'shaohan', 'xian', 'heyan', 'furu', 'alternately', 'cjpe', 'arnab', 'lgesql', 'ruisheng', 'zhi', 'yanbin', 'mbart', 'wanxiang', 'che', 'zhaopeng', 'listwise', 'bird’s', 'localized', 'ryuichi', 'takanobu', 'wen', 'weiran', 'nie', 'antoine', 'yao', 'maosong', 'rere', 'soumya', 'merger', 'prakhar', 'antonios', 'anastasopoulos', 'jia', 'paulo', 'zettlemoyer', 'deng', 'lidong', 'cicero', 'nogueira', 'dos', 'santos', 'dejiao', 'ramesh', 'nallapati', 'arnold', 'kim', 'anna', 'wet', 'wlps', 'jie', 'pq', 'cqg', 'ryohei', 'sasano', 'dai', 'yen', 'ou', 'hansen', 'lucas', 'cronquestions', 'cronkgqa', 'readonce', 'reusable', 'shih', 'ashish', 'punctuated', 'wild', 'lyu', 'ren', 'diao', 'urgent', 'alexander', 'philippe', 'laban', 'john', 'marti', 'shuming', 'slower', 'joke', 'locality', 'terminal', 'adjacency', 'hrg', 'xiangyu', 'fallback', 'dialogpt', 'bansal', 'mlbinet', 'maximal', 'reformulated', 'duan', 'comparenet', 'decoy', 'kace', 'zeng', 'van', 'genabith', 'physicians', 'rearrangement', 'agrawal', 'dinesh', 'cqa', 'beats', 'hongxia', 'drm', 'rowan', 'anxiety', 'colours', 'tianyu', 'danqi', 'controllability', 'trace', 'squares', 'rectangles', 'checks', 'huixing', 'beck', 'continuum', 'cheung', 'notebooks', 'prlm', 'densephrases', 'cds', 'shikun', 'eae', 'interactively', 'tong', 'copier', 'needle', 'bc', 'mark', 'søgaard', 'rui', 'isd', 'iais', 'homogeneous', 'hui', 'jianfeng', 'catchphrase', 'snowclone', 'pop', 'quotes', 'emailsum', 'henrique', 'omer', 'dvae', 'modularized', 'lifelong', 'quadruple', 'quadruples', 'easiest', 'untruncated', 'fooling', 'abnormalities', 'excerpt', 'excerpts', 'fool', 'humanness', 'inadequacy', 'gyafc', 'team', 'deriving', 'readout', 'adansp', 'transduces', 'meantime', 'fgst', 'reverses', 'ftst', 'sentiseq', 'finely', 'plurals', 'productively', 'evince', 'phonologically', 'impetus', 'heat', 'notions', 'understandable', 'conicity', 'permutation', 'unimportant', 'punctuation', 'akashkm', 'regulate', 'termination', 'mctest', 'unsolved', 'journals', 'wind', 'interdisciplinary', 'superficialness', 'incorrectly', 'bwes', '“answer', 'passages”', '“adversarial', 'representation”', 'agr', 'ds', 'exposing', 'prosaic', 'literary', 'equalization”', 'tf', 'idf', 'rectified', 'realizations', 'tasked', 'wenhuchen', 'logicnlg', 'fabricated', 'asgard', 'detract', 'segregating', 'semiotics', 'centers', 'pervade', 'bigram', '‘gl’', '‘glisten’', '‘gleam’', '‘glow’', 'deepen', 'request', 'consumed', 'card', 'turkish', 'overemphasis', 'syllable', 'straight', 'audiovisual', 'soujanyaporia', 'token’s', 'everyday', 'searchqa', 'quasar', 'solves', 'retweeters', 'reconstructs', 'keen', 'synergize', 'signaling', 'asymmetries', 'italian', 'supporter', 'tutorials', 'supporters', 'lated', 'conducive', 'complexities', 'monetary', 'environmental', '“exit”', 'parallelism', 'skewness', 'satisfactorily', 'abductive', 'folders', 'pending', 'promised', 'informational', 'monologue', 'dailydialogue', 'lawmakers’', 'senate', 'senator', 'affiliations', 'separates', 'anyone', 'ndmv', 'summarizes', 'thesauri', 'rankers', 'reuse', '“hallucination”', 'fragment', 'orient', 'empathetically', 'manage', 'orientation', 'conversation’s', 'handled', 'annotates', 'perplexed', 'fluid', 'eigenfrequencies', 'authors’', 'appreciably', 'seame', 'summations', 'l∞', 'emphasized', 'apln', 'negativity', 'exponent', 'powers', 'sspt', 'multilabels', 'cartesian', 'cnec', 'flair', 'quora', 'wikianswers', 'revised', 'prices', 'stocks', 'capital', 'improvised', 'improvisational', 'theater', 'transcribing', 'populated', 'instantiating', 'maszhongming', 'matchsum', 'dinf', 'senta', 'purchases', 'mismatched', 'traffic', 'repurposes', 'invest', 'calculates', '“delay”', 'latencies', 'belongs', 'things', 'sided', 'unobjective', 'deteriorating', 'weaken', 'strengthening', 'hero', 'recommenders', 'speeding', 'ready', 'tweetqa', 'otherqa', 'lagging', 'shots', 'inefficacious', 'daunting', 'nontrivial', 'returns', 'geogranno', 'verbalize', 'grammatically', 'rotowire', 'baseball', 'indispensable', 'lengths', 'tricks', 'swag', 'restarts', 'advertising', 'subreddit', 'changemyview', 'debater’s', 'resistance', 'meret', 'concentrates', 'kgat’s', 'kernelgat', 'vtqa', 'genome', 'groundless', 'fa', 'uncovered', 'wb', 'accord', 'lighten', 'conclusive', 'dominates', 'operative', 'yourself', 'necessitates', 'echo', 'chamber', 'countering', 'educated', 'venues', 'encapsulated', '“echo', 'chambers”', 'prey', 'dissenting', 'opposing', 'keyboards', 'governed', 'wfst', 'skyline', 'typographical', 'shapes', 'printed', 'interpertable', 'modifies', 'inking', 'jitter', 'archiving', 'unforeseen', 'interpretably', 'ocular', 'typefaces', 'scissors', 'calendar', 'file', 'application’s', 'floating', 'pasupat', 'hsp', 'decompositionality', 'decomposer', 'complexwebquestions', 'uncoordinated', 'rˆ', 'ruddit', 'participation', 'supportive', 'possessing', 'attributing', 'axiomatic', 'borrowed', 'conjunctions', 'queried', 'encountering', 'unanticipated', 'smartly', 'necessitate', 'epistemic', 'envisioning', 'stock’s', 'firm', 'ceos', 'releases', 'nonverbally', 'anecdotal', 'tones', 's', 'mdrm', 'grandparents', 'subtly', 'cookies', 'graphic', 'cmac', 'bilingualism', 'appeared', 'lof', 'substantiate', 'excel', 'oz', 'factoid', 'upperbound', 'functionalities', 'rigorously', 'gone', 'fillers', 'muc', 'worsen', 'dss', 'permitted', 'convinced', 'interacting', 'delicate', 'armed', 'convince', 'eviconv', 'parsimonious', 'reflections', 'rotations', 'mrr', 'mrrs', 'newsfeeds', 'presentation', 'realistically', 'wcep', 'archive', 'overheads', 'imagery', 'operationalize', 'indo', 'dated', 'century', 'elations', 'exaction', 'legitimate', 'cky', 'swedish', 'spmrl', 'felicitous', 'ccm', 'semblance', 'plm', '“code', 'switching”', 'plentiful', 'bengali', 'hatespeech', 'obsolete', 'mature', 'underutilized', 'ethnicity', 'disparately', 'concerningly', 'connotative', 'poured', 'scarcer', 'exhaustively', 'on', 'we', 'array', 'basically', 'thin', 'pixel', 'underspecification', 'degenerated', '“posterior', 'collapse”', 'kullback–leibler', 'datapoint', 'kl’s', 'posterior’s', 'excess', 'zeroshotceres', '“zero', 'shot”', 'verticals', 'webpage', 'vertical', 'perceptive', 'arranged', 'decades', 'therein', 'fulfill', 'parametrized', 'skew', 'abelian', 'activitynet', 'youcookii', 'advertisements', 'cvpr', 'advertisement', 'viewer’s', 'append', 'kic', 'duconv', 'formatting', 'unrestricted', 'doubling', 'standalone', 'dmin', 'minircv', 'odic', 'skeleton', 'march', 'spanmlt', 'paote', 'regularity', 'concentration', 'pm', 'sensors', 'month', 'polluted', 'usa', 'resort', 'heuristically', 'shorthand', 'hierachical', 'stops', 'qasc', 'national', 'spotlight', 'legislation', 'enacted', 'bills', 'legislator', 'geographical', 'districts', 'donations', 'donors’', 'body’s', 'rural', 'ideological', 'rollout', 'ccgbanks', 'combinatory', 'categorial', 'emphasizes', 'interrelations', '“compress”', 'obligatoriness', 'obligatory', 'inviting', 'allenai', 'stacl', 'anticipation', 'finished', 'ful', 'dif', 'ficult', 'multaneous', 'anticipate', 'sim', 'ple', '“wait', 'k”', 'rently', 'strat', 'egy', 'qual', 'ity', 'zh↔en', 'cataphoric', 'cataphora', 'hour', 'supertransformer', 'subtransformers', 'evolutionary', 'subtransformer', 'iot', 'raspberry', 'pi', 'mit', 'february', 'else', 'warm', 'embraces', 'densely', 'shuaiwa', 'craftassist', 'voxel', 'timeframe', 'journalist', 'beating', 'sapienzanlp', 'rumours', 'circulating', 'prioritised', 'checker', 'unfolds', 'embedings', 'morphosyntactic', 'planet’s', 'compounding', 'digit', 'underfit', 'underfitting', 'pulls', 'overfits', 'lowering', 'retrofit', 'dbpedia', 'traversed', 'priming', 'wrap', 'schwas', 'unpronounced', 'deleted', 'divide', '‘divide', 'combine’', '‘divide’', '‘conquer’', 'lying', '‘combine’', 'interconnection', 'hooks', 'memorableness', 'shg', 'attracting', 'attraction', 'simplequestion', 'semidim', 'circumstance', 'words’', 'nonlinguistic', 'nonparametric', 'nepali', 'homologous', 'expanded', 'avsd', 'thai', 'indonesian', 'naming', 'strand', 'pragmatically', '“correct”', '“rational', 'acts”', 'distractor', 'supervising', 'relabeling', 'criticized', 'bolukbasi', 'weat', 'skipgram', 'stereotyped', 'amplifies', 'warning', 'upsetting', '“we', 'shouldn’t', 'hire', '“women', 'differentials', 'pg', 'underperformed', 'quantifiable', 'usability', 'coming', 'successors', 'tlm', '“massive”', 'modulating', 'budgeted', 'dyna', 'ddq', 'conscious', 'scheduler', 'allocate', 'downloading', 'untrusted', '“weight', 'poisoning”', 'vulnerabilities', '“backdoors”', 'ripple', 'surgery', 'defenses', 'opposes', 'nurses', 'inquire', 'ccmatrix', 'scaled', 'snapshots', 'wenzel', 'totaling', 'ted', 'workshop', 'cheatable', 'evade', '“hard”', 'caveat', 'surrogacy', 'bitcoin', 'cryptocurrency', 'debating', 'pros', 'cons', 'expansions', 'stochasticity', 'novels', 'afterwards', 'hierarchy’s', 'conan', 'nichesourcing', 'suspension', 'oppose', 'ngos', 'submit', 'peripheral', 'meqsum', 'asses', 'motivational', 'interviewing', 'substance', 'therapists', 'observer', 'client', 'upcoming', 'alert', 'tradeoffs', 'chemical', 'biosyn', 'cumbersome', 'css', 'persons', 'disabilities', 'attitudes', 'perpetuate', 'homelessness', 'addiction', 'illness', 'npmi', 'agnews', 'child’s', 'ambient', 'debated', 'misconceptions', 'misinterpretation', 'omnipresent', 'package', 'blogs', 'adrs', '‘indications’', '‘symptoms’', '‘finding’', '‘disease’', '‘drug’', 'psb', 'dia', 'cadec', 'medline', 'facebook', 'exchanging', 'unsound', 'pragma', 'fallacy', 'sahaisaumya', 'exceptionally', 'morpheme', 'kunwinjku', 'australian', '“hallucinating”', 'resampling', 'zipf', 'morphemes', 'fst', 'morph', 'formative', 'denying', 'puzzle', 'verdicts', 'modelled', 'optimising', 'evident', 'decisive', 'conclusion’s', 'premises’', 'pas', 'psd', 'eds', 'ebner', 'observational', 'unmeasured', 'converses', 'passively', 'utters', 'radical', 'endowing', 'follower', 'overload', 'replicates', 'emulates', 'viz', 'cpc', 'morningmoni', 'marking', 'oxide', 'fuel', 'assertion', 'va', 'covert', 'entialment', 'corruption', 'forget', 'geopolitical', 'infill', 'infilled', 'possessors', 'possessee', 'retrievable', 'roses', 'penalized', '“no”', '“red”', 'helpdesk', 'messaging', 'pregnant', 'breastfeeding', 'mothers', 'south', 'africa', 'prohibits', 'compresses', 'merged', 'confusions', 'routes', '“stop', 'right”', 'detections', 'formalizes', 'panel', 'speer', 'soon', 'equations', 'joongbo', 'tta', 'triggerner', 'omissions', 'exceptional', 'faults', 'subject’s', 'localizes', 'interfering', 'lstm’s', 'consenting', 'pearson', 'unfair', 'labour', 'favour', 'federal', 'requesters', 'earn', 'conceptflow’s', 'preparing', 'kabsch', 'point’s', 'depended', 'etymologically', 'bliss', 'stabilizes', 'counterintuitive', 'bidirectionally', 'tabulated', 'admits', 'unsuccessful', 'subgraph', 'delivery', 'outer', 'carries', 'raising', 'ewiser', 'tap', 'synsets', 'infamously', 'impenetrable', 'lay', 'understandability', 'snomed', 'impeded', 'systems’', 'succinct', 'dividing', 'yg', 'eval', 'em', 'lowest', 'partner', 'replying', 'acknowledge', 'others’', 'empatheticdialogues', '“the', 'likes', 'arrived”', 'load', 'disfavoured', 'illustrates', 'interpolations', 'paratactic', 'slice', 'tensors', 'nonprojective', 'transe', 'outgoing', 'wnrr', 'dettmers', 'nathani', 'differentiating', '“defined”', 'ziser', 'reichart', 'challenged', 'uncontrollable', 'unexpectedly', 'can', 'citizens', 'candidates’', 'svm', 'uselecdeb', 'licenses', 'scoped', 'revisits', 'screenplay', 'upfront', 'piecemeal', 'serialized', 'broaden', 'dualenc', 'death', 'sentencing', 'emnlp', 'ethically', 'traversing', 'natives', '‘translating’', '‘translationese’', 'mish', 'mash', 'blame', 'deterioration', 'personalizing', 'finn', 'hubs', 'ordinarily', 'ups', 'timeliness', 'got', 'difficult–', 'psychiatric', 'jlpc', 'depressed', 'unregularized', 'mentioning', 'opacity', '“mwe', 'aware”', 'distilbert', 'backbones', 'parameterizes', 'ancestral', 'fraternal', 'blei', 'quantization', 'aans', 'simplegen', 'optimizations', 'unbiasedly', 'mipeng', 'lexiconner', 'encoding–based', 'reproduced', 'discusses', 'samples’', 'partitions', 'iterating', 'iu', 'xray', 'incessantly', 'pioneering', 'replaying', 'batchify', 'viterbi', 'yzhangcs', 'crfpar', 'metropolis', 'hastings', 'mhaoutperforms', 'imparting', 'aren’t', 'vilbert', '‘multilingual', 'lenses', 'sandy', 'shall', 'desideratum', 'stackex', 'rban', 'spying', 'host', 'recoverability', 'prioritize', 'verbose', 'site', 'potentials', 'tbert', 'joining', 'engineered', 'guarding', 'nullspace', 'inlp', 'repeated', 'oblivious', 'comprehends', 'gestures', 'latently', 'whenever', 'tisa', 'proof', 'criminal', 'importances', 'defendants’', 'invite', 'struggling', 'hkust', 'knowcomp', 'interprets', 'jump', 'skillfully', 'lake', 'baroni', '“jump', 'around”', 'hugely', 'lifting', 'played', 'relaxation', 'polarized', 'dissimilar', 'dtpc', 'strongness', 'comma', 'eases', 'connectionist', 'ctc', 'wait', 'multiplication', 'infuse', 'matres', 'timex', 'naturalness', '“black', 'box”', 'vocab', 'muppet', 'launch', 'encoderdecoder', 'peaky', 'advise', 'rival', 'intervene', 'reparameterization', 'contradict', 'impress', 'continuing', 'mimicking', 'transmitter', 'repair', 'dgt', 'sizeable', 'lusetti', 'robertson', 'goldwater', 'bollmannet', 'korchagina', 'virtually', 'impractically', 'explanatory', 'compelling', 'relocating', 'attaching', 'intensified', 'sessions', 'instagram', 'falls', 'openi', 'patients’', 'welfare', 'bone', 'eaten', 'magnetoencephalography', 'stimuli', 'cooccurrence', 'bold', 'departure', 'indexing', 'irrevocably', 'obliterated', 'salvaged', 'neulab', 'codegen', 'fluently', 'falling', '“informativeness”', 'ingests', 'travel', 'normalised', 'ccgbank', 'minimises', 'linkers', 'lets', 'relabel', 'shifted', 'confidences', 'blank', 'opinionated', 'centroids', 'terrible', 'progresses', 'perpendicular', 'markedly', 'emulator', 'spaced', 'wants', 'vicinal', 'thetransformer', 'organisations', 'disclose', 'investment', 'crawler', 'pageranks', 'privbert', 'prospects', 'handy', 'misjudged', 'gdl', 'attentively', 'camouflaged', 'camouflage', 'diversity”', '“worthiness”', 'constructive', 'provider', '“like”', 'button', '“constructiveness', 'constructiveness', 'hypothesized', 'pdr', 'acknowledged', 'hampered', 'consisted', 'subtitles', 'subquestion', 'swap', 'purifies', 'tetra', 'supertagger', 'reconciliation', 'speedups', 'assisted', 'dump', 'vgnsl', 'destruction', 'instrumental', 'perceiving', 'harvey', 'irma', 'disaster', 'coordination', 'qamr', 'option', 'turing', 'multiobjective', 'factorially', 'dissociation', 'continuously', 'instinct', 'judiciously', 'compounded', 'spending', 'quoref', 'crack', 'ciphertext', 'cipher', 'decipher', 'married', 'honeymoons', 'spouses', '“interpret”', 'die', 'interdependent', 'susceptible', 'compromises', 'instantiation', 'typo', 'corrector', 'noted', 'unadapted', 'academics', 'untrustworthy', 'unreasonably', '“leakage', 'adoptions', 'experimented', 'disregarding', 'inextricably', 'arduous', 'workhorse', 'wasteful', 'implausible', 'entmax', 'sparsemax', 'nonzero', 'garnering', 'situating', 'rajpurkar', 'abaheti', 'qadialogsystem', 'activating', 'combinatorially', 'characterizes', 'heteronym', 'styled', 'replenish', 'subsidiary', 'skipped', 'hypothesizing', 'lagged', 'hdr', 'tokenizing', 'provilkov', 'estonian', 'finnish', 'hungarian', 'nlm', 'hampering', 'recourse', 'sequencing', 'inventory', 'nlms', 'stolen', 'weakness', 'impoverishes', 'interior', 'nonce', 'tell', 'sesame', 'complements', 'elmo’s', 'freeze', 'worryingly', 'strikingly', 'avenue', 'librispeech', 'pll’s', 'island', 'npi', 'licensing', 'pppls', 'rescore', 'awslabs', 'dissent', 'missions', 'rubrics', 'treebank’s', 'contradictory', 'drives', 'confirmation', 'gleu', 'derivational', 'derivatives', 'derivation', 'wordnets', 'hinting', 'lingustics', 'fatality', 'killed', 'bloom', 'depicting', 'recess', 'remorse', 'cats', 'babelnet', 'refreshing', 'baffled', 'assists', '“wells', 'fargo”', '“july', '“blow', 'blow”', '“day', 'day”', 'reconciles', 'destructive', 'manipulations', 'propositional', 'opponent’s', 'craigslistbargain', 'arrangement', 'discoverability', 'aiding', 'conventions', 'joined', 'abbreviations', 'unorthodox', 'spellings', 'fim', 'dilated', 'msn', 'penalization', 'linkage', 'stance–a', 'entity–a', 'bˆ', 'china', 'finkel', 'dozat', 'insertion', 'ideographic', 'transitivity', 'showcased', 'compiling', 'argquality', 'savings', 'lexeme', 'phylogenetic', 'enlightened', 'hiring', 'recruiting', 'jpg', 'sama', 'aope', 'esm', 'rsm', 'mary', 'discourses', '“florence', 'visitors”', '“think”', 'asymmetrical', 'conditionals', 'redesigned', 'accommodates', 'decouples', '“one', 'many”', 'emerges', 'conditionality', 'stark', 'advantageously', 'amalgamation', 'metabolism', 'regulations', 'proteins', 'carbohydrates', 'bionlp', 'bioinfer', 'hrpd', 'genomic', 'sduttap', 'mm', 'henderson', 'restaurants', '“delicious”', '“food”', '“place”', 'coordinately', 'intractability', 'reparameterize', 'bernoulli', 'asymptotically', 'av', 'multihead', 'flavour', 'attainable', 'zhengxxn', 'multidirectional', 'dissection', 'cumulative', 'bam', 'clwes', 'showcasing', 'insensible', 'cpv', 'sememes', 'confirmatory', 'hownet', 'beforehand', 'critic', 'inversely', 'moments', 'referenced', 'bounding', 'answerer', 'insightful', 'visualizations', 'placed', 'regulation', 'oneself', 'regulator', '𝜖', 'markups', 'surprised', 'peak', 'untrained', 'accounted', 'informs', 'dualug', 'substitutes', 'characterise', 'emphasise', 'imagine', 'supermarket', 'bananas', 'basket', 'buy', 'apples', 'fruits', 'aqua', 'mathematics', 'pretext', 'rop', 'nrop', 'unsatisfying', 'barack’s', 'wife', 'hillary', 'recalling', 'render', 'synergies', 'modulate', 'communicating', 'enterprise', 'developmental', 'tenure', 'diversification', 'functionally', 'count', 'superlative', 'tying', 'method’s', 'institutions', 'tigs', 'semgcn', 'crosslingual', 'analogy', 'scherer’s', 'appraisal', 'delayed', 'normalizations', 'inextricable', 'anthology', 'uphold', 'persistent', 'siloed', 'niche', 'operationalizes', 'risks', 'reinforcing', 'voices', 'justice', 'conwea', 'disambiguates', 'attracts', 'mount', 'overgenerated', 'firing', 'collocation', 'categorized', 'diffvec', 'attached', 'twasp', 'toolkits', 'harvesting', 'harvest', 'visualizes', 'functioning', 'rsa', 'tk', 'step”', 'snorkel’s', 'attaches', 'university', 'conversely', 'drmm', 'cheaply', 'supervises', 'enfr', '‘out', 'domain’', 'rediscovers', 'localizable', 'revising', 'compromised', 'inconveniences', 'imes', 'drilling', 'specifics', 'hintikka', 'hakkarainen', 'sintonen', 'pedagogical', 'squash', 'fellowship', 'lehnert', 'accelerated', 'quatization', 'phones', 'parameterisation', 'sober', 'favourite', 'exiting', 'notorious', 'hinges', 'incidents', 'hetersumgraph', 'wish', 'collaboratively', 'instruct', 'immediate', 'impair', 'other’s', 'copyrnn', 'denoting', 'primitive', 'feat', 'transmission', 'picked', 'pressure', 'survive', 'thrive', 'concatenate', 'aggregators', 'alterations', 'simplifications', 'generalisations', 'affirm', 'timestamp', 'strategic', 'disclosures', 'appeals', 'persuade', 'donate', 'charity', 'morality', 'willingness', 'strands', 'faces', 'arising', 'openmt’', 'bertachieved', 'lighter', 'algorithmically', 'adjective', 'adjudication', 'disagreements', 'performant', 'comedic', 'genders', 'parodical', 'practicality', 'statistic', 'von', 'mises', 'fisher', 'codifies', 'regularly', 'brands', 'causally', 'salesforce', 'shijie', 'ideally', '‘balanced’', '‘catastrophic', 'forgetting’', 'tacolm', 'udst', 'realnews', 'timebank', 'mctaco', 'scholar', 'bibliographic', 'inline', 'figures', 'publishers', 'archives', 'ro→en', 'en→de', 'dishes', 'gazetteers”', 'ubiquitously', 'afforded', '“distractor”', 'lexico', 'dag', 'connectivity', 'gnud', 'slows', 'deteriorates', 'chunked', 'sanitizing', 'ehr', 'sanitization', 'prohibit', 'shareable', 'pseudonymization', 'exposes', 'skewed', 'proliferated', 'simulatable', 'hits', 'recruit', 'vae’s', 'entirety', 'flowchart', 'files', 'deseption', 'spurred', 'authoritative', 'resilient', '“attacks”', 'indexable', 'server', 'pointers', 'indexes', 'tb', 'demo', 'washington', 'denspi', 'coordinates', 'lcc', 'briefings', 'emerald', 'english→german', 'english→french', 'multilayer', 'sublayer', 'reorderings', 'unlock', 'eschewing', 'nesting', 'separating', 'dialgoue', 'coreferred', 'holders', 'valences', 'motive', 'useless', 'imperceptibility', 'huffman', 'justified', 'behemoth', 'sheer', 'minute', 'immense', 'reputation', 'revisions', 'wikipage', 'enormous', 'migration', 'disadvantage', 'angular', 'angles', 'editorial', 'ideologies', 'liberal', 'ideology', 'resistant', 'csrr', 'undermining', 'healthier', 'fathoming', 'multiqt', 'telephone', 'takers', 'complimentary', 'surveys', 'mirror', 'reflective', 'unconstraint', 'gmane', 'preprocessed', 'apparently', '‘soft', 'bert’', 'emotionally', 'moviegraph', 'starkly', 'arguing', 'german–english', 'korean–english', 'sutskever', 'duchi', 'kingma', 'ba', 'comparatively', 'stimulate', 'ibmdeveloper', 'developerworks', 'technote', 'april', 'companion', 'enforced', 'embedkgqa’s', 'accumulation', 'overcorrection', 'conservatively', 'outputting', 'grasping', 'thirteen', 'translationally', 'leaky', 'unexpected', 'postpositions', 'experienced', 'greenberg', 'pretending', 'thereof', 'leaman', 'suits', 'cas', 'mas', 'publishing', 'bombarded', 'speculated', 'culprit', 'methodologically', 'multiplicative', 'natively', 'pcfgs', 'inducers', 'bannard', 'abend', 'dinh', 'robustifying', 'contradiction', 'robustify', 'stress', 'convnets', 'transformers’', 'declines', 'anomalous', 'forpolitical', 'disseminated', 'documents’', 'diverges', 'lends', 'plurality', 'permitting', 'favourable', 'lapata', 'serial', 'successively', 'house', 'rabeehk', 'confronted', 'debugging', 'excessively', 'mines', 'deeplearnxmu', 'pssattention', 'cvaes', 'measurably', 'promotes', 'ro↔en', 'shimbun', 'newspapers', 'fastest', 'mainich', 'perimental', 'dodecathlon', 'dodecadialogue', 'engagingly', 'empathy', 'eclipse', 'recycling', 'ambitious', 'subsumes', 'compile', 'synchronously', 'sdg', 'systemic', 'cis', 'foreground', 'conceptualizations', 'sociology', 'interrogating', 'harms', 'algorithms’', 'troubleshoot', 'hpo’s', 'succeed', 'ukp', 'debater', 'afs', 'signed', 'sat', 'guessing', 'guessed', 'unanimously', 'uttering', 'stc', 'sefun', 'wiseman', 'evoked', 'evokes', 'joy', 'evoke', 'sadness', 'magnitudes', '“which', 'msra', 'guider', 'horizon', 'gravely', 'essence', '“chinese', 'words”', 'income', 'veteran', 'figure', 'gathered', 'vzhong', 'schick', 'code–text', '“trigger”', 'inexpensive', 'clustered', 'pressing', 'bpes', 'cooperation', 'tqg', 'suffered', 'divides', 'diction', 'sinica', 'stacks', 'winner', 'differentiability', 'crfs', 'minimise', 'relax', 'surrogates', 'altogether', 'specialization', 'plans', 'abstracting', 'placeholder', 'replaces', 'tscp', 'damd', 'camrest', 'tiered', 'adapts', 'overwrite', 'forgotten', 'aspirational', 'particulars', 'proportional', 'substantive', 'homogeneity', 'orb', 'macros', 'depictions', 'dearth', 'pes', 'bilingually', 'bracketing', 'btg', 'wat’', 'japanese⇒english', 'chinese⇔english', 'predictability', 'validatory', 'breadth', 'lexemes', 'questioning', 'evan', 'conversaional', 'contradicting', 'shortcut', 'baseline’s', 'infeasible', 'coefficient', 'correlative', 'tangles', 'prepositional', 'noisier', 'ns', 'moosavi', 'coval', 'dreaming', 'cycles', 'interleaves', 'lions', 'lion', 'wolf', 'favorably', 'inputted', 'ess', 'wnut', 'storylines', 'gamified', 'memorizes', 'morphin’', 'predisposes', 'vernacular', 'colloquial', 'singapore', 'mvec', 'reconstructing', 'hallgren', 'krippendorff’s', 'alpha', 'landis', 'koch', 'opensource', 'mr', 'fruit', 'hoping', 'idiolects', 'rnng', 'entitynlm', 'subevents', 'subevent', 'blanc', 'anchored', 'anchoring', 'democratize', 'contrastively', '“weak”', 'trec', 'thrives', 'reweighted', 'diarization', '“standard', 'split”', 'inseparable', 'undergo', 'ocr', 'boudinfl', 'normalizer', 'parallelizable', 'ctb', 'scribes', 'sa', 'verbalizes', 'customization', 'pampari', 'emnlp’', 'tackled', 'beat', 'timepoint', 'wastes', 'opened', 'mmd', 'saha', 'incapable', 'nd', 'burdens', 'consultation', 'surgeries', 'neighbouring', 'causalities', 'accented', 'irrespective', 'suggestive', 'another’s', 'pkudblab', 'rmse', 'nonverbal', 'mosei', 'rights', 'bypasses', 'questioner', 'nil', 'sibling', 'penalizes', 'debatable', 'statisticians', 'makers', 'viewpoints', 'sr', 'inflexible', 'yelpnlg', 'stylistically', 'reused', 'chung', 'simplifies', 'unaddressed', 'srhthu', 'fallible', 'aspiration', 'harris’', 'allocation', 'improper', 'hamming', 'purportedly', 'deceptive', 'diminishes', 'impermissible', 'doubt', 'attention’s', 'auditing', 'accountability', 'obeys', 'gist', 'guykush', 'termsetexpansion', 'mpb', 'friendsqa', 'nascent', 'confront', 'sonnet', 'songci', 'dynasty', 'folds', 'obey', 'rhyming', 'songnet', 'rhyme', 'impel', 'accumulate', 'qangaroo', 'concode', 'csqa', 'java', 'undoubtedly', 'reviewing', 'trainset', 'crossed', 'candela', 'refutation', 'layman’s', 'nontransparent', 'unexplained', 'casa', 'rumoureval', 'pheme', 'irn', 'err', 'adaptability', 'overparameterized', '“reallocate”', 'coordinate', 'responsibilities', '“transformer', 'base”', 'specialize', 'stay', 'reinvigorated', 'medicine', '”fake', 'politician', 'viral', 'favorite', 'veritable', 'improperly', 'destroyed', 'openie', 'cui', 'overcomes', 'international', 'endows', 'white', 'admit', 'mon', 'impor', 'tant', 'suffix', 'gave', 'cognetta', 'ultimate', 'justification–a', 'rationale–for', 'regularisation', 'mixes', 'deploying', 'pretrains', 'banking', 'phrasing', 'interdependently', 'pretrainng', 'diminishing', 'manifested', 'enriching', 'ballesteros', 'onaizan', 'distinctiveness', 'sate', 'finish', 'woman', 'sits', 'piano', 'followup', 'fingers', '‘goldilocks’', 'zone', 'ridiculous', 'misclassified', 'assembles', 'pointed', 'overlooking', 'convenient', 'lingually', 'networks’', 'chooses', 'operationalization', 'contradicts', 'tighter', 'underrepresented', 'totalling', 'eleven', 'rycolab', 'attributional', 'conflate', 'prejudiced', 'heterogeneously', 'identical', 'division', 'granted', 'discouraging', 'coreferring', 'ecb', 'guess', 'fined', 'gt', 'salt', 'oqrand', 'oqgend', 'infamous', 'cheating', 'scandals', 'wine', 'concealment', 'practicing', 'oral', 'traveling', 'salesman', 'subtree', 'linearizer', 'execute', 'instructs', 'placements', 'removals', 'believed', '“syntactic', 'distances”', '“components”', 'esd', 'oxford', 'particle', 'swarm', 'crafts', 'sememepso', 'lost', 'innovate', 'syllabic', 'ancient', 'greek', 'harmonic', 'prioritized', 'paced', 'abundance', 'tdms', 'riemannian', 'conjugate', 'biochemistry', 'gcbia', 'creativeness', 'sidestep', 'ρ', 'powered', 'boards', 'moves', 'inspiring', 'movable', 'tries', 'canvas', 'exchanged', '“crosstalk”', 'xtremedistil', 'deterrent', 'today’s', 'realisation', 'contradicted', 'equivalence', 'clumsy', 'bea', 'kanekomasahiro', 'arranging', 'underspecified', 'places', 'weather', 'bots', 'availing', 'communicated', 'selling', 'primal', 'repredict', 'endowed', 'wordlevel', 'phonic', 'phonics', 'strokes', 'liushulinle', 'spots', 'friendships', 'betrayed', 'compete', 'domination', 'forging', 'alliances', 'gathers', 'lasting', 'zhaoting', 'mutli', 'poesio', 'barqa', '“quasi', 'bridging”', 'isnotes', 'markert', 'bashi', '̈siger', 'lifetime', 'untapped', 'participates', 'engages', 'believes', 'mistake', 'chatbot’s', 'rumors', 'economy', 'wily', 'producers', 'ebgcn', 'rethinks', 'unwillingly', 'subproblems', 'insufficiency', 'gibbs', 'favoured', 'conjugacy', 'potpourri', 'algebra', 'hypercomplex', 'freedom', 'hamilton', 'categorised', 'resolves', 'hyperparameters', 'tensorflow', 'pytorch', 'transformer’s', '“hard', 'coded”', 'inset', 'fosters', 'fits', 'grad', 'tle', 'sembanking', 'lags', 'decoded', 'knight', 'hill', 'climbing', 'papineni', 'punishes', 'freesunshine', 'observable', '“occlude”', 'document’s', '“glimpses”', 'repurpose', 'vgds', 'mtn', 'reader’s', 'writer’s', 'unordered', 'tagset', 'enjoyed', 'accelerates', 'discards', 'inevitably', '“negative', 'training”', 'discourage', 'prosperity', 'fodder', 'moocdata', 'mediation', 'inflections', 'unobserved', 'aggcns', 'bregman', 'proximal', 'anli', 'percent', 'switches', 'centerpiece', 'precious', 'representationally', 'julielab', 'memolon', 'doi', 'zenodo', 'amidst', 'consolidate', 'example’s', 'copycat', 'capitalizes', '“amount', 'novelty”', 'equivalently', '“decoder”', 'supersenses', 'attaining', '‘word', 'context’', 'masque', 'prematurely', 'dqg', 'att', 'wing', 'nus', 'intentions', 'information’s', 'interference', 'insufficiently', 'perfromance', 'alternations', 'heterogenous', 'benchmarked', 'submissions', 'untrimmed', 'regress', 'propagandistic', '“fake', 'medium’s', 'strip', 'stanford', 'fare', 'errs', 'indiscriminately', 'ubuntu', 'tandem', 'empower', 'accumulative', 'editnts', 'byproduct', 'sari', 'wikismall', 'nlprolog', 'unification', 'prover', 'bidaf', 'fastqa', 'weissenborn', 'welbl', 'unigram', 'accompany', 'uninflected', 'what’s', 'hurts', 'granular', 'repeatedly', 'rosetta', 'olympiads', 'deduce', 'inadequately', 'ukplab', 'inspires', 'softened', 'minutes', 'principles”', 'commonplace', 'attempt”', 'coincides', '‘reasoning’', '“rationales”', 'www', 'eraserbenchmark', 'sounds', 'syllables', 'piantadosi', 'equivocal', 'confusability', 'psychoacoustic', 'productions', 'captivate', 'partners', 'photo', 'mood', 'igc', 'organizing', 'tencent', 'kuaibao', 'rbf', 'attract', 'repel', 'propagates', 'unfairness', 'conclusively', 'egregious', 'stereotypical', 'winobias', 'unraveling', 'antonym’s', 'unravel', 'antitransitivity', 'relaying', 'groundings', 'locates', 'crux', 'impedes', 'reshape', 'reform', 'overestimation', 'superficially', 'scrambled', 'english–german', 'fusional', '‘toxicity’', 'behaves', 'deviate', 'jzbjyb', 'concentrating', 'adalabel', 'overlaps', '“positive”', '“neutral”', '“negative”', 'closeness', 'fixations', 'beinborn', 'prominently', 'punish', 'remedies', 'imagist', 'shuo', 'rrforunmt', 'emulate', 'actor’s', 'realism', 'coherency', 'trials', 'abstractiveness', 'dimensionality', 'rastogi', 'bollegala', 'twists', 'fiscal', 'quarter', 'equity', 'investors', 'deci', 'sions', 'pertains', 'moderately', 'sectors', 'transient', 'infrastructure', 'textsettr', 'restyling', 'raffel', '“targeted', 'restyling”', 'emotiveness', 'exemplars', 'uninteresting', 'gimpel', 'searched', 'foreign', 'elliott', 'kadar', 'toyama', 'crowdsource', 'pto', 'alters', 'prompting', 'underline', 'encoder’s', 'transducing', 'cursory', 'iterate', 'geo', 'crossing', 'lajanugen', 'zeshel', 'accordance', 'mwps’', 'mawps', 'tree’s', 'agentt', 'maam', 'authoring', 'ldl', '“lexical', 'memorization”', 'lpmnr', 'residuals', 'decelerating', '“dialect’”', 'scanned', 'layoutlm', 'funsd', 'cord', 'sroie', 'kleister', 'nda', 'rvl', 'cdip', 'docvqa', 'aaec', 'amt', 'gay”', '“gay', 'neglected', 'plato', 'fostering', '“how', 'connet', '“in', 'data”', 'simplistic', 'vague', '“you', 'father”', 'deepl', 'google', 'demographically', '“sound”', 'rakuten', '“kags”', 'hermann', 'xsum', 'narayan', 'ngatang', 'graduated', 'flattened', 'verbatim', 'article’s', 'patent', 'evenly', 'hurdle', 'voxclamantis', 'vowels', 'sibilants', 'presently', 'voxclamantisproject', 'nest', 'asrs', 'sep', 'subjected', 'apis', 'optionally', 'initializes', 'sqa', 'placing', 'front', 'backoff', 'swaps', 'restores', 'entail', 'denote', 'multimodality', 'owns', 'fulfil', 'texting', 'tangled', 'reevaluating', 'outliers', 'falsely', 'metric’s', 'thresholding', 'incurred', 'insignificant', 'rejected', 'recognising', 'bearing', 'prevail', 'uttered', 'agreements', 'rcn', 'liic', 'clueweb', 'infcand', 'testbeds', 'sherliic’s', 'publication', 'titled', '“show', 'results”', 'dodge', 'advocates', 'unspoken', 'analytically', 'intervals', 'bolster', 'codebase', 'meanmax', 'dealt', 'simulating', 'whilst', 'friendly', 'counterfactually', 'stylometric', 'obfuscators', 'ascertained', 'conjectured', 'justifying', 'dissimilarity', 'personification', 'meaningfulness', 'visdial', 'semitic', 'diacritized', 'restoring', 'presumably', 'depgcn', 'inaccuracy', 'mpqa', 'ofthe', 'event’s', 'hunger', 'explorer', 'assimilating', 'proposer', 'assembler', 'stage’s', 'hindering', 'optimizer', 'intensities', 'endeavor', 'aida', 'rarer', 'decline', 'completeness', 'govern', 'schedule', 'idiomatic', 'utilities', 'the', 'likelihoods', '“fine', 'tuning”', 'deepsentipeer', 'artefact', 'intellect', 'criticised', 'elusive', 'manuscript', 'chairs', 'reviewers', 'appended', 'prolific', 'rallying', 'followers', 'respects', 'cleansing', 'item', 'comprehensiveness', 'art’s', 'ubc', 'ill', 'msr', 'atlas', 'wals', 'storyline', 'graphmovie', 'upload', 'watching', 'preclude', 'conflating', 'multilingually', 'tokenizers', 'klej', 'unlocked', 'allegro', 'herbert', 'motivating', 'unfocused', '“fill', 'blank”', 'executive', '“activated”', 'compiles', 'wikitablequestions', 'incarnate', 'portraits', 'cache', 'udt', 'talksumm', 'papers’', '“copy”', '“context”', '“natural”', 'gridworld', 'violate', 'inoculating', '“effort”', 'intact', 'kudo', 'corrupts', 'vaswani', 'pushed', '“phrases”', 'sst', 'phonemes', 'milliseconds', 'pooled', 'transforming', 'heights', 'conjectures', 'formulae', 'conflated', 'embedding’s', 'agents’', 'knowledgeable', 'cohesive', 'encompass', 'blendedskilltalk', 'mesh', 'blended', 'impressing', 'ngrams', 'marginalize', 'cluwords', '“ideal”', 'cluhtm’s', 'encapsulates', '“shape”', 'crd', 'unscripted', 'argues', 'code”', 'identifier', 'recapsnet', 'biography', 'factoring', 'statute', 'diagnostics', 'clearer', 'supply', 'materialized', 'impacted', 'estate', 'nearby', 'discoeval', 'sparser', 'i’m', 'five”', 'comprehensible', 'olds', 'cogqa', 'coordinating', 'fullwiki', 'tasty', '–in', 'english–', 'farther', 'autonomous', 'babywalk’s', 'sha', 'sweet', 'rabbit', 'hole', 'honeypots', 'trigger’s', '“honeypot”', 'cybersecurity', 'honeypot', 'greedily', '“bait', 'catch”', 'unitrigger’s', 'tpr', 'fpr', 'attackers’', 'lethaiq', 'honeypotdefensenlp', 'conversationally', 'inquiry', 'undisclosed', 'accompanies', 'commit', 'histories', 'concurrent', 'tokens’', 'grolla', 'visualgenome', 'visa', 'imsitu', 'gameplay', 'linearizations', 'vinyals', '’s', 'czyssrs', 'associate', 'biologically', 'pivoted', '“object', 'canonicalized', 'canonicalization', 'olpbench', 'openlink', 'purposed', 'extracurricular', 'drifts', 'coursera', 'xuetangx', 'dbs', 'som', 'road', 'straightforwardly', 'arabizi', 'hell', 'algerian', 'bed', '‘responsible', 'for’', 'complicates', '‘end', 'end’', 'successar', 'suit', 'listed', 'participants’', 'continuity', 'looming', 'configurational', 'prompted', 'gn', 'clevr', 'shahidi', 'gen', 'suffixation', 'prefixation', 'infixation', 'constrains', 'genetically', 'para', 'hewitt', 'iso', 'morphic', 'accumulates', 'ofkb', 'webqsp', 'extents', 'wh', 'polar', 'clef', 'ehealth', 'deployable', 'usc', 'iemocap', 'unveiling', 'suspect', 'suspected', '‘saliency', 'maps’', 'cogan', 'cooperatively', 'justifies', 'connecte', 'inadequate', 'absorbing', '“forgetting', 'analyst’s', 'pretty', 'antisymmetry', 'wentao', 'diabetes', 'fixes', 'rescales', 'xslue', 'hovy', 'extendable', 'alexa', 'prize', 'cleans', 'interpretive', 'mg', 'fol', 'ence', 'hypothe', 'sis', 'favourably', 'hardy', 'rationalization', 'uninterpretable', 'recipient', 'email’s', 'storyboarding', 'photos', 'fsm', 'ssid', 'csls', 'wase', 'normalizers', 'pixies', 'pixie', 'converged', 'parameter’s', 'tickets', 'implicated', 'pave', 'acceleration', '“term', 'ambiguity”', 'sext', 'occurance', 'arriving', 'hypothesizes', 'revolution', 'accepting', 'supplied', 'asymmetric', 'bug', 'closest', 'terabytes', 'commoncrawl', 'urdu', 'dilution', 'imppressive', 'williams', 'implicatures', '“some”', '“only”', 'purports', 'stressing', 'trending', 'communications', '“cold', 'start”', 'spoc', 'satisfying', 'bertoverflow', 'jeniyat', 'stackoverflowner', 'clinically', 'vlr', 'llr', 'invert', 'loosing', 'ots', 'otta', 'mislead', 'finetuned', 'ahead', 'atari', 'requests', 'demonstrators', 'nrg', 'prioritization', 'suicidality', 'reframe', 'intriguing', 'salience', 'compactly', 'speeds', 'reachability', 'transduce', 'subgraphs', 'interventions', 'labov’s', 'stylisticvariation', 'thatpredict', 'presumed', 'economicstatus', 'thefocus', 'mostimportant', 'economic', 'theeffectiveness', 'aspredictors', 'fea', 'tures', 'domainsemanticparsing', 'incontext', 'con', 'yale', 'lily', 'dominated', 'quantized', 'served', 'localize', 'tube', 'tubes', 'vid', 'butnaruandrei', 'finance', 'excitation', 'safety', 'anglocentric', 'triangulation', 'wiqa', 'quarel', 'undermined', 'uninformed', 'runs', 'psycholinguistically', 'frequencies', 'consecutively', 'walks', 'dialkg', 'walker', 'traversals', 'walk', 'youtoo', 'recollections', 'relat', 'metoo', 'tempts', 'sex', 'ual', 'disclo', 'pacts', 'contend', 'informa', 'tion', 'react', 'segregate', 'recollec', 'tions', 'tailed', 'merit', 'df', 'empowering', 'frustration', 'counteracting', 'receiving', 'contextualize', 'revolves', 'gnns', 'gnn’s', 'las', 'enthusiastic', 'unshared', '“understanding”', 'dialoh', 'val', 'visdialconv', 'visdialval', 'delexicalized', 'nvlm', 'duc', 'behave', 'can’t', 'interlocutor', 'repeating', 'reformulating', 'achievement', 'exchanges', 'classroom', 'jensen', 'shannon', 'meticulous', 'impediments', 'filters', 'bland', 'diversify', 'empowers', 'gda', 'relate', 'meronymy', 'safer', 'altered', 'randomized', 'certify', 'synth', 'prohibiting', 'prohibited', 'softens', 'introspective', 'that', 'overuse', 'welleck', 'neubig', 'strides', 'wikigenderbias', 'spouse', 'disparity', 'birthdate', 'birthplace', 'groundwork', 'became', 'quicker', 'tipping', 'returning', 'overwhelm', 'permutated', 'widening', 'vacuous', 'penalise', 'ntcir', 'citing', 'zliucr', 'saturate', 'compositionally', 'henry', 'conklin', 'bailin', 'kenny', 'inhibit', 'cogs', 'zongcheng', 'mei', 'tongshuang', 'tulio', 'heer', 'weld', 'missed', 'biao', 'barry', 'haddow', 'rico', 'flicker', 'zhiqi', 'lifeng', 'qun', 'ghost', 'siyu', 'junyuan', 'shuohuan', 'ao', 'xiting', 'qiao', 'publicize', 'preparatory', 'injections', 'personalize', 'implementing', 'html', 'qingqing', 'yash', 'lal', 'trivedi', 'aruna', 'niranjan', 'broken', 'maarten', 'horvitz', 'noah', 'james', 'pennebaker', 'hippocorpus', 'recruitment', 'tulving', 'realis', 'autobiographical', 'narrativization', 'bartlett', 'jiaqi', 'ziliang', 'guang', 'zijiang', 'conceal', 'fertile', 'soil', 'ante', 'jinsong', 'yubin', 'defect', 'mess', 'propagated', 'lihua', 'weinan', 'interdependency', 'faidon', 'mitzalis', 'ozan', 'caglayan', 'pranava', 'madhyastha', 'lucia', 'specia', 'vl', 'regressively', 'bertgen’s', 'seonghyeon', 'dongha', 'hwanjo', 'remainder', 'karin', 'sevegnani', 'howcroft', 'ioannis', 'konstas', 'verena', 'rieser', '“bridging”', 'callotters', 'czwin', 'vijit', 'malik', 'rishabh', 'sanjay', 'shubham', 'nigam', 'kripabandhu', 'ghosh', 'shouvik', 'guha', 'bhattacharya', 'ashutosh', 'modi', 'expedite', 'supreme', 'occlusion', 'sean', 'trott', 'benjamin', 'bergen', 'underestimates', 'homonyms', 'tale', 'alzheimer’s', 'trevor', 'cohen', 'serguei', 'pakhomov', 'dementiabank', 'interrogate', 'differentially', 'parameterize', 'virtue', 'distinctively', 'rajat', 'bhatnagar', 'ananya', 'ganesh', 'katharina', 'kann', 'everyone', 'graphics', 'interchange', 'tamil', 'wenhui', 'saksham', 'singhal', 'xtreme', 'yasumasa', 'onoe', 'boratko', 'mccallum', 'types’', 'interdependencies', 'hyperrectangles', 'containment', 'supertype', 'subtype', 'rejuvenating', 'longyue', 'xuebo', 'derek', 'wong', 'dacheng', 'rejuvenate', 'authentic', 'longyuewangdcu', 'rlfw', 'yiran', 'hiroyuki', 'shindo', 'yuji', 'matsumoto', 'taro', 'watanabe', 'kelvin', 'ronak', 'pradeep', 'jimmy', 'puts', 'atop', 'mrinmaya', 'sachan', 'randomness', 'worm’s', 'austin', 'blodgett', 'nathan', 'schneider', 'worlds', 'leamr', 'bertie', 'vidgen', 'tristan', 'thrush', 'zeerak', 'waseem', 'douwe', 'kiela', 'hatecheck', 'jiexi', 'jiaxin', 'dazhen', 'wan', 'hongguang', 'assembled', 'shuhao', 'dengji', 'zhengxin', 'chenze', 'shao', 'attendance', 'jatowt', 'doucet', 'kazunari', 'sugiyama', 'masatoshi', 'yoshikawa', 'stamped', 'affinity', 'previoustls', 'bet', 'lock', 'fanchao', 'qi', 'sophia', 'threats', 'invisibility', 'blocked', 'inspections', 'alarm', 'bkdatk', 'lws', 'chenhao', 'jiaqing', 'jingping', 'chengsong', 'wenhao', 'yanghua', 'incurs', 'negatives', 'overwhelmingly', 'redreamality', 'fabian', 'galetzka', 'jewgeni', 'schlangen', 'jens', 'lehmann', 'restrictions', 'dance', 'clap', 'boaz', 'shmueli', 'lun', 'ku', 'reactiongif', 'multilabel', 'philine', 'zeinert', 'nanna', 'inie', 'leon', 'derczynski', 'misogynistic', 'imperative', 'codebook', 'ramit', 'sawhney', 'mihir', 'goel', 'puneet', 'mathur', 'rajiv', 'ratn', 'shah', 'firms', 'anet', 'debnath', 'navid', 'rajabi', 'fardina', 'fathmiul', 'alam', 'zhaohui', 'zixia', 'jon', 'joão', 'aires', 'dusan', 'varis', 'ondřej', 'bojar', 'tharindu', 'ranasinghe', 'constantin', 'orasan', 'ruslan', 'mitkov', 'disadvantages', 'generalise', 'jieyu', 'jiajie', 'zou', 'nai', 'interfered', 'ziyun', 'xuan', 'peiji', 'shixing', 'zhisheng', 'mplm', 'datasetfor', 'weijia', 'mandar', 'joshi', 'hyperlinks', 'wenxuan', 'wai', 'lam', 'ambigqa', 'amzn', 'taeuk', 'yoo', 'sang', 'goo', 'reshaped', 'usual', 'nt', 'xent', 'hätty', 'dominik', 'schlechtweg', 'dorna', 'sabine', 'schulte', 'walde', 'researched', 'internally', 'chaitanya', 'kulkarni', 'jany', 'chan', 'fosler', 'lussier', 'raghu', 'machiraju', 'reagents', 'mstgs', 'dygie', 'spert', 'gtm', 'fandong', 'jinchao', 'deviated', '“future”', 'pqa', 'korhonen', 'member', 'centroid', 'subgroups', 'offset', 'simulators', 'hsiang', 'tseng', 'yinpei', 'florian', 'kreyssig', 'byrne', 'liangming', 'wenhu', 'wenhan', 'kan', 'william', 'refuted', 'unverifiable', 'vanessa', 'tianxiao', 'rihao', 'qu', 'dragomir', 'radev', 'basics', 'bioinformatics', 'jiefu', 'yangqiu', 'claim’s', 'discoc', 'durmus', 'puhai', 'inquiring', 'casper', 'christian', 'chaves', 'lima', 'refuting', 'apoorv', 'saxena', 'soumen', 'chakrabarti', 'partha', 'talukdar', 'scopes', 'stratified', 'buckets', 'chun', 'kong', 'tenses', 'ne', 'sabharwal', 'tushar', 'khot', 'rachel', 'wicks', 'matt', 'engineers', 'footing', 'ersatz', 'hongming', 'elior', 'sulem', 'dan', 'roth', 'city', 'attacked”', '“there', 'attack”', 'ere', 'xianbing', 'xiaochao', 'yunfeng', 'yufeng', 'wanton', 'avoidance', 'stereotype', 'lnn', 'hang', 'sairam', 'gurajada', 'qiuhao', 'sumit', 'neelam', 'lucian', 'popa', 'prithviraj', 'sen', 'yunyao', 'gray', 'extensibility', 'offered', 'hsi', 'canny', 'filled', 'zhenhai', 'radu', 'soricut', 'arena', 'ekin', 'akyurek', 'jacob', 'andreas', 'decontextualized', 'clara', 'meister', 'martina', 'forster', 'ryan', 'subdeterminant', 'huayang', 'lemao', 'guoping', 'junze', 'pearl', 'jiong', 'lexicalization', 'standardize', 'comparability', 'branching', 'tendencies', 'haojie', 'chengyu', 'minghui', 'yichang', 'yaliang', 'digested', 'constructivist', 'yajie', 'weiwei', 'hrgs', 'subclass', 'chengqing', 'zong', 'ruibo', 'jason', 'soroush', 'vosoughi', 'saying', 'shrivastava', 'kaustubh', 'dhole', 'abhinav', 'bhatt', 'sharvani', 'raghunath', '“i', 'question”', '“i’m', 'that”', 'barikeri', 'anne', 'lauscher', 'vulić', 'goran', 'glavaš', 'perfor', 'mance', 'queerness', 'religious', 'yafu', 'yongjing', 'yulong', 'badly', 'pierre', 'colombo', 'pablo', 'piantanida', 'chloé', 'clavel', 'existent', 'impossibility', 'perfectly', 'renyi’s', 'videoqa', 'hyounghun', 'zineng', 'andout', 'iofsm', 'bbce', 'dongfang', 'zhilin', 'shumin', 'ningyu', 'huajun', 'yucheng', 'bowen', 'hongsong', 'tingwen', 'limin', 'denotes', 'mac', 'tahira', 'naseem', 'roger', 'ramón', 'fernandez', 'astudillo', 'parsing”', '“structural', 'scaffold”', 'bllip', 'supervisions', 'sachin', 'shuly', 'wintner', 'yulia', 'tsvetkov', '“standard”', 'sociolects', 'source–variety', 'english–russian', 'ukrainian', 'belarusian', 'english–norwegian', 'bokmål', 'nynorsk', 'english–arabic', 'hanqi', 'gui', 'gabriele', 'pergola', 'yulan', 'evoking', 'triggering', 'zequn', 'muhao', 'opt', 'linmei', 'tianchi', 'luhao', 'wanjun', 'zhong', 'duyu', 'chuan', 'hayato', 'tsukagoshi', 'koichi', 'takeda', 'hpprc', 'peru', 'bhardwaj', 'kelleher', 'luca', 'costabello', 'declan', 'o’sullivan', 'poison', 'additions', 'zechuan', 'sixteen', 'dianbo', 'sui', 'zhengkun', 'uncharted', 'territory', 'dianbowork', 'qianglong', 'xiangji', 'haiqing', 'b”', 'etpa', 'qiuhui', 'deyi', 'formerly', 'hplstms', 'mhplstm', 'zijing', 'qinliang', 'jianxing', 'bang', 'jingwen', 'ruihui', 'changyou', 'yefeng', 'singleton', 'uncorrelated', 'kundan', 'krishna', 'sopan', 'khosla', 'bigham', 'zachary', 'lipton', 'visit', 'clinicians', 'burdensome', 'physician', 'burnout', 'ami', 'shunyu', 'binghui', 'christos', 'papadimitriou', 'karthik', 'narasimhan', 'parentheses', 'approximated', 'recursion', 'proving', 'arguably', 'guimin', 'yuanhe', 'preordering', 'tanya', 'multifaceted', 'topicalization', 'passivization', 'possibilities', '“reorder”', 'feasible', 'rearrangements', 'chunks', 'shourya', 'aggarwal', 'divyanshu', 'mandowara', 'vishwajeet', 'parag', 'singla', 'garg', 'talmor', 'tuple', 'refute', 'ecqa', 'respectable', 'yilin', 'chang', 'hsu', 'avik', 'unsupported', 'jeff', 'maxwell', 'forbes', 'anthony', 'jena', 'hwang', 'bosselut', '‘deepfakes’', 'photoshopped', 'enhancements', 'emu', 'pelican', 'chenghao', 'yudong', 'smaranda', 'muresan', 'suicidal', 'someone’s', 'disorders', 'suicidewatch', 'jinming', 'ruichen', 'ruc', 'dongyu', 'minghao', 'heting', 'door', 'shuoran', 'qingcai', 'baotian', 'lisai', 'hdgcn', 'mvcattn', 'simeon', 'schüz', 'sina', 'zarrieß', 'green', 'swatches', 'fisch', 'bff', 'huaishao', 'shuai', 'engaged', 'unire', 'yijun', 'changzhi', 'yuanbin', 'junchi', 'tasks’', 'cell’s', 'scierc', 'antoniak', 'mimno', 'documenting', 'enumerate', 'precursors', 'alignarr', 'paramita', 'mirza', 'mostafa', 'abouhamra', 'gerhard', 'weikum', 'register', 'devising', 'structurizing', 'christo', 'wilson', 'hitherto', 'conspiracies', 'misinterpreted', 'pranks', 'structurize', 'doctored', 'legends', 'snopes', 'elections', 'pandemics', 'yanan', 'keqing', 'hong', 'yuanmeng', 'rita', 'sevastjanova', 'aikaterini', 'lida', 'kalouli', 'christin', 'hanna', 'schäfer', 'mennatallah', 'assady', 'dissecting', 'jiacheng', 'behaving', 'somewhere', 'isolating', 'machinery', 'programmatic', 'xinyun', 'linyuan', 'gong', 'alvin', 'dawn', 'libraries', 'plotted', 'jupyter', 'ruidan', 'linlin', 'hai', 'qingyu', 'bosheng', 'liying', 'jiawei', 'zhuang', 'tieyun', 'associating', 'jinhyuk', 'mujeen', 'sung', 'jaewoo', 'qingyi', 'fu', 'weiping', 'authenticity', 'sar', 'verifies', 'cp', 'bidisha', 'samanta', 'niloy', 'ganguly', 'regulating', 'tribute', 'entanglement', 'wenchao', 'du', 'flanigan', 'inflated', 'popularly', 'lieke', 'gelderloos', 'grzegorz', 'chrupała', 'afra', 'alishahi', 'phonemic', 'indications', 'registers', 'acoustically', 'yaojie', 'hongyu', 'xianpei', 'jialong', 'annan', 'shaoyi', 'zpr', 'jianshu', 'dropped', 'anaphoric', 'xi', 'quanxiu', 'bottlenecks', 'berd', 'entities’', 'concatenations', 'tilman', 'ung', 'christina', 'viehmann', 'maurer', 'oliver', 'quiring', 'iryna', 'gurevych', 'fleiss’', 'κ', 'jinan', 'xiaoyu', 'pdc', 'pipe', 'pdc’s', 'bodhisattwa', 'prasad', 'majumder', 'taylor', 'berg', 'kirkpatrick', 'julian', 'mcauley', 'jhamtani', 'stating', '‘background', 'stories’', 'fictional', 'rocstories', 'rated', 'taming', 'shizhe', 'ruijia', 'hongjin', 'yilei', 'adaptor', 'shizhediao', 'guan', 'xiaoxi', 'changjie', 'zitao', 'wenbiao', 'haoming', 'danqing', 'tuo', 'deteriorate', 'chem', 'ncbi', 'yujia', 'yankai', 'heng', 'yuxiang', 'pasquale', 'minervini', 'pontus', 'stenetorp', 'sebastian', 'riedel', 'overrides', 'uclnlp', '“because', 'leak”', 'anders', 'carlos', 'gómez', 'rodríguez', 'undertaken', 'disappears', 'tempered', 'teasing', 'ning', 'guangwei', 'yulin', 'xiaobin', 'pengjun', 'haitao', 'grown', 'theme', 'conventionally', 'emphases', 'shuhuai', 'junyang', 'guangxiang', 'jingren', 'achievements', 'impairs', 'prevailing', 'coco', 'hanbo', 'offering', 'opensquad', 'weixin', 'wenxiang', 'jiao', 'irwin', 'king', 'english⇒chinese', 'emphasizing', 'multiview', 'hadi', 'amiri', 'mitra', 'mohtarami', 'isaac', 'kohane', 'undiagnosed', 'commercially', 'jingyi', 'valentin', 'hofmann', 'janet', 'pierrehumbert', 'hinrich', '“trump”', '“antitrumpism”', '“detrumpify”', 'liwei', 'unitedqa', 'yelong', 'xiaodong', 'pengcheng', 'weizhu', 'naturalquestions', 'nada', 'almarwani', 'mona', 'diab', 'nir', 'sweed', 'dafna', 'shahaf', 'customizable', 'realized', 'instantly', 'orange', 'browser', 'nathanael', 'chambers', 'teaches', 'unscramble', 'ruifang', 'fengyu', 'yugui', 'seza', 'doğruöz', 'sunayana', 'sitaram', 'barbara', 'bullock', 'almeida', 'jacqueline', 'toribio', 'overview', 'sociolinguistic', 'wards', 'multilingualism', 'tatsunori', 'hashimoto', 'misannotations', 'binzong', 'geng', 'fajie', 'qiancheng', 'ruifeng', 'pengfei', 'zuo', 'yuguang', 'weihua', 'lsin', 'shiyue', 'asli', 'celikyilmaz', 'semisupervised', 'sender’s', 'claudio', 'pinhanez', 'cavalin', 'victor', 'alves', 'ana', 'appel', 'heloisa', 'candello', 'julio', 'nogima', 'mauro', 'pichiliani', 'melina', 'guerra', 'maira', 'bayser', 'gabriel', 'malfatti', 'ferreira', 'eer', 'thirds', 'workspaces', 'decreased', 'ann', 'auli', 'marc’aurelio', 'ranzato', 'ari', 'holtzman', 'matthew', 'roozbeh', 'mottaghi', 'aniruddha', 'kembhavi', 'ali', 'farhadi', 'factorize', 'cups', 'thrown', 'plastic', 'neurally', 'happen', 'mike', 'lewis', 'yinhan', 'naman', 'marjan', 'ghazvininejad', 'abdelrahman', 'mohamed', 'veselin', 'stoyanov', 'corrupting', 'tranformer', 'qingyang', 'chongruo', 'weiyan', 'trainedrole', 'discount', 'prossessing', 'pralon', 'zeyang', 'niu', 'george', 'chrysostomou', 'nikolaos', 'aletras', 'jain', 'wallace', 'serrano', 'wiegreffe', 'pinter', 'jacovi', 'goldberg', 'ori', 'ram', 'yuval', 'kirstain', 'jonathan', 'berant', 'amir', 'globerson', 'parity', 'zhuoyuan', 'gupta', 'chenhui', 'chu', 'martin', 'jaggi', 'sadao', 'kurohashi', 'artetxe', 'schwenk', 'ameliorate', 'lite', 'siu', 'lejian', 'dandan', 'guoxiu', 'meihuizi', 'cooperate', 'farhad', 'akhbardeh', 'cecilia', 'ovesdotter', 'alm', 'marcos', 'zampieri', 'travis', 'desell', 'logbooks', 'automotive', 'aviation', 'facilities', 'resamples', 'imbalances', 'kasidis', 'kanwatchara', 'thanapapas', 'horsuwan', 'piyawat', 'lertvittayakumjorn', 'boonserm', 'kijsirikul', 'peerapon', 'vateekul', 'forgets', 'bite', 'roy', 'haim', 'lilach', 'eden', 'yoav', 'kantor', 'roni', 'friedman', 'noam', 'slonim', 'reviewed', 'conflicting', 'yuqing', 'lai', 'yuanjun', 'stefano', 'soatto', 'weigh', 'flip', 'kathleen', 'mckeown', 'xinying', 'hanwu', 'yun', 'yuming', 'dawei', 'bandarkar', 'hongjie', 'jianfei', 'nustm']\n"
          ]
        }
      ],
      "source": [
        "tokenizer = Tokenizer()\n",
        "tokenizer.fit_on_texts(train_data)\n",
        "tokenizer.fit_on_texts(val_data)\n",
        "print(\"Number of unique tokens\", list(tokenizer.word_index.keys()))"
      ]
    },
    {
      "cell_type": "code",
      "source": [
        ""
      ],
      "metadata": {
        "id": "aIW4yqgZAL_V"
      },
      "execution_count": 12,
      "outputs": []
    },
    {
      "cell_type": "code",
      "execution_count": 13,
      "metadata": {
        "colab": {
          "base_uri": "https://localhost:8080/"
        },
        "id": "eAYPBtJePMX_",
        "outputId": "e299310b-3e15-4941-cc89-da14fb80a4a0"
      },
      "outputs": [
        {
          "output_type": "stream",
          "name": "stdout",
          "text": [
            "Train data tensor shape (1386, 194)\n",
            "Validation data tensor shape (175, 194)\n"
          ]
        }
      ],
      "source": [
        "X_train = tokenizer.texts_to_sequences(train_data)\n",
        "X_train = tf.keras.preprocessing.sequence.pad_sequences(X_train)\n",
        "\n",
        "X_val = tokenizer.texts_to_sequences(val_data)\n",
        "X_val = tf.keras.preprocessing.sequence.pad_sequences(X_val, maxlen = X_train.shape[1])\n",
        "\n",
        "print('Train data tensor shape', X_train.shape)\n",
        "print('Validation data tensor shape', X_val.shape)"
      ]
    },
    {
      "cell_type": "code",
      "execution_count": 14,
      "metadata": {
        "colab": {
          "base_uri": "https://localhost:8080/"
        },
        "id": "cc0gWcXTPMYA",
        "outputId": "1820908e-3c71-4216-dd43-0b52050f10dc"
      },
      "outputs": [
        {
          "output_type": "stream",
          "name": "stdout",
          "text": [
            "Model: \"sequential\"\n",
            "_________________________________________________________________\n",
            " Layer (type)                Output Shape              Param #   \n",
            "=================================================================\n",
            " embedding (Embedding)       (None, 194, 100)          1085900   \n",
            "                                                                 \n",
            " spatial_dropout1d (SpatialD  (None, 194, 100)         0         \n",
            " ropout1D)                                                       \n",
            "                                                                 \n",
            " lstm (LSTM)                 (None, 100)               80400     \n",
            "                                                                 \n",
            " dense (Dense)               (None, 21)                2121      \n",
            "                                                                 \n",
            "=================================================================\n",
            "Total params: 1,168,421\n",
            "Trainable params: 1,168,421\n",
            "Non-trainable params: 0\n",
            "_________________________________________________________________\n",
            "None\n"
          ]
        }
      ],
      "source": [
        "model = Sequential()\n",
        "model.add(Embedding(len(tokenizer.word_index) + 1, 100, input_length = X_train.shape[1]))\n",
        "model.add(SpatialDropout1D(0.2))\n",
        "model.add(LSTM(100, dropout = 0.2, recurrent_dropout = 0.2))\n",
        "model.add(Dense(21, activation = 'softmax'))\n",
        "model.compile(loss = 'sparse_categorical_crossentropy', optimizer = 'adam', metrics = ['accuracy'])\n",
        "print(model.summary())"
      ]
    },
    {
      "cell_type": "code",
      "execution_count": 15,
      "metadata": {
        "colab": {
          "base_uri": "https://localhost:8080/"
        },
        "id": "USPE00pEPMYA",
        "outputId": "61fb2ad3-736b-47b6-a51c-3869a0a33e72"
      },
      "outputs": [
        {
          "output_type": "stream",
          "name": "stdout",
          "text": [
            "Epoch 1/20\n",
            "44/44 [==============================] - 24s 423ms/step - loss: 2.9204 - accuracy: 0.0996 - val_loss: 2.8083 - val_accuracy: 0.1086\n",
            "Epoch 2/20\n",
            "44/44 [==============================] - 18s 414ms/step - loss: 2.8076 - accuracy: 0.1270 - val_loss: 2.7953 - val_accuracy: 0.1143\n",
            "Epoch 3/20\n",
            "44/44 [==============================] - 18s 418ms/step - loss: 2.6868 - accuracy: 0.2100 - val_loss: 2.7814 - val_accuracy: 0.1429\n",
            "Epoch 4/20\n",
            "44/44 [==============================] - 18s 411ms/step - loss: 2.3203 - accuracy: 0.3189 - val_loss: 2.4890 - val_accuracy: 0.2629\n",
            "Epoch 5/20\n",
            "44/44 [==============================] - 18s 410ms/step - loss: 1.9269 - accuracy: 0.4509 - val_loss: 2.4933 - val_accuracy: 0.2514\n",
            "Epoch 6/20\n",
            "44/44 [==============================] - 19s 426ms/step - loss: 1.5741 - accuracy: 0.5613 - val_loss: 2.4581 - val_accuracy: 0.2457\n",
            "Epoch 7/20\n",
            "44/44 [==============================] - 19s 434ms/step - loss: 1.1952 - accuracy: 0.6919 - val_loss: 2.4261 - val_accuracy: 0.2743\n",
            "Epoch 8/20\n",
            "44/44 [==============================] - 18s 412ms/step - loss: 0.8750 - accuracy: 0.7821 - val_loss: 2.6014 - val_accuracy: 0.3200\n",
            "Epoch 9/20\n",
            "44/44 [==============================] - 18s 416ms/step - loss: 0.6406 - accuracy: 0.8557 - val_loss: 2.7753 - val_accuracy: 0.3086\n",
            "Epoch 10/20\n",
            "44/44 [==============================] - 18s 416ms/step - loss: 0.5323 - accuracy: 0.8672 - val_loss: 2.6106 - val_accuracy: 0.3600\n",
            "Epoch 11/20\n",
            "44/44 [==============================] - 18s 413ms/step - loss: 0.3655 - accuracy: 0.9120 - val_loss: 2.8144 - val_accuracy: 0.3200\n",
            "Epoch 12/20\n",
            "44/44 [==============================] - 18s 417ms/step - loss: 0.2925 - accuracy: 0.9257 - val_loss: 3.0892 - val_accuracy: 0.3143\n",
            "Epoch 13/20\n",
            "44/44 [==============================] - 18s 410ms/step - loss: 0.2473 - accuracy: 0.9452 - val_loss: 3.0583 - val_accuracy: 0.3314\n",
            "Epoch 14/20\n",
            "44/44 [==============================] - 18s 411ms/step - loss: 0.1735 - accuracy: 0.9675 - val_loss: 2.9967 - val_accuracy: 0.3200\n",
            "Epoch 15/20\n",
            "44/44 [==============================] - 18s 415ms/step - loss: 0.1522 - accuracy: 0.9733 - val_loss: 2.9722 - val_accuracy: 0.3657\n",
            "Epoch 16/20\n",
            "44/44 [==============================] - 18s 416ms/step - loss: 0.1622 - accuracy: 0.9690 - val_loss: 2.9736 - val_accuracy: 0.3429\n",
            "Epoch 17/20\n",
            "44/44 [==============================] - 18s 413ms/step - loss: 0.1086 - accuracy: 0.9848 - val_loss: 3.0243 - val_accuracy: 0.3314\n",
            "Epoch 18/20\n",
            "44/44 [==============================] - 18s 410ms/step - loss: 0.1064 - accuracy: 0.9805 - val_loss: 3.0588 - val_accuracy: 0.3200\n",
            "Epoch 19/20\n",
            "44/44 [==============================] - 18s 416ms/step - loss: 0.0614 - accuracy: 0.9935 - val_loss: 3.1899 - val_accuracy: 0.3143\n",
            "Epoch 20/20\n",
            "44/44 [==============================] - 18s 412ms/step - loss: 0.0377 - accuracy: 0.9971 - val_loss: 3.3435 - val_accuracy: 0.3600\n"
          ]
        }
      ],
      "source": [
        "epochs = 20\n",
        "batch_size = 32\n",
        "checkpoint_path = 'my_best_model.hdf5'\n",
        "model_checkpoint_callback = tf.keras.callbacks.ModelCheckpoint(\n",
        "    filepath=checkpoint_path,\n",
        "    save_weights_only=True,\n",
        "    monitor='val_accuracy',\n",
        "    mode='max',\n",
        "    save_best_only=True)\n",
        "\n",
        "history = model.fit(X_train, y_train, epochs = epochs, batch_size = batch_size, validation_data = (X_val,y_val),callbacks=[model_checkpoint_callback])"
      ]
    },
    {
      "cell_type": "code",
      "source": [
        "model.load_weights(checkpoint_path)\n",
        "\n",
        "model.evaluate(X_val,y_val)"
      ],
      "metadata": {
        "colab": {
          "base_uri": "https://localhost:8080/"
        },
        "id": "9XlDGY1zTqTg",
        "outputId": "c717682d-7863-4334-d8ac-1d27108708cc"
      },
      "execution_count": 16,
      "outputs": [
        {
          "output_type": "stream",
          "name": "stdout",
          "text": [
            "6/6 [==============================] - 0s 50ms/step - loss: 2.9722 - accuracy: 0.3657\n"
          ]
        },
        {
          "output_type": "execute_result",
          "data": {
            "text/plain": [
              "[2.9721882343292236, 0.36571428179740906]"
            ]
          },
          "metadata": {},
          "execution_count": 16
        }
      ]
    },
    {
      "cell_type": "code",
      "source": [
        "test_data = []\n",
        "\n",
        "for i in range(len(testing_data)):\n",
        "    test_data.append(testing_data[i][0][0] + ' ' + testing_data[0][0][1] + ' ' + testing_data[i][0][2])\n",
        "    \n",
        "print(len(test_data))"
      ],
      "metadata": {
        "colab": {
          "base_uri": "https://localhost:8080/"
        },
        "id": "5-hKPPnV_4E7",
        "outputId": "968a7802-26cb-48ec-e56f-6011b22dd4f3"
      },
      "execution_count": 17,
      "outputs": [
        {
          "output_type": "stream",
          "name": "stdout",
          "text": [
            "183\n"
          ]
        }
      ]
    },
    {
      "cell_type": "code",
      "source": [
        "X_test = tokenizer.texts_to_sequences(test_data)\n",
        "X_test = tf.keras.preprocessing.sequence.pad_sequences(X_test, maxlen = X_train.shape[1])\n",
        "print('Test data tensor shape', X_test.shape)"
      ],
      "metadata": {
        "colab": {
          "base_uri": "https://localhost:8080/"
        },
        "id": "OQx57q4cAaZz",
        "outputId": "320e1c34-1b70-4e9e-baa5-7debe79a9a90"
      },
      "execution_count": 18,
      "outputs": [
        {
          "output_type": "stream",
          "name": "stdout",
          "text": [
            "Test data tensor shape (183, 194)\n"
          ]
        }
      ]
    },
    {
      "cell_type": "code",
      "source": [
        "test_labels = []\n",
        "for i in range(len(testing_data)):\n",
        "    test_labels.append(diction[testing_data[i][1]])\n",
        "    \n",
        "print(len(test_labels))\n",
        "\n",
        "y_test = tf.convert_to_tensor(test_labels, dtype = tf.int64)"
      ],
      "metadata": {
        "colab": {
          "base_uri": "https://localhost:8080/"
        },
        "id": "tQm5qEZlAzFd",
        "outputId": "bd8470c0-3882-4644-fd01-2c03f03fb53e"
      },
      "execution_count": 19,
      "outputs": [
        {
          "output_type": "stream",
          "name": "stdout",
          "text": [
            "183\n"
          ]
        }
      ]
    },
    {
      "cell_type": "code",
      "source": [
        "model.evaluate(X_test,y_test)"
      ],
      "metadata": {
        "colab": {
          "base_uri": "https://localhost:8080/"
        },
        "id": "PmZ1UQLXBNhN",
        "outputId": "cc7ce089-03ad-4feb-aaa2-7913e8744fad"
      },
      "execution_count": 20,
      "outputs": [
        {
          "output_type": "stream",
          "name": "stdout",
          "text": [
            "6/6 [==============================] - 0s 60ms/step - loss: 3.3035 - accuracy: 0.2787\n"
          ]
        },
        {
          "output_type": "execute_result",
          "data": {
            "text/plain": [
              "[3.303474187850952, 0.2786885201931]"
            ]
          },
          "metadata": {},
          "execution_count": 20
        }
      ]
    },
    {
      "cell_type": "code",
      "execution_count": 21,
      "metadata": {
        "colab": {
          "base_uri": "https://localhost:8080/"
        },
        "id": "Xx-HqEgXPMYB",
        "outputId": "ff7594e2-fece-4da1-c8ea-e5c29350e798"
      },
      "outputs": [
        {
          "output_type": "stream",
          "name": "stdout",
          "text": [
            "<gensim.models.keyedvectors.Word2VecKeyedVectors object at 0x7f61674e0550>\n"
          ]
        }
      ],
      "source": [
        "import gensim\n",
        "from gensim.models import Word2Vec\n",
        "\n",
        "w2vmodel = gensim.models.KeyedVectors.load_word2vec_format('/content/drive/MyDrive/NLP/GoogleNews-vectors-negative300.bin', binary=True)\n",
        "\n",
        "print(w2vmodel)\n",
        "# summarize vocabulary size in model\n",
        "# words = list(embed.wv)\n",
        "# print('Vocabulary size: %d' % len(words))\n"
      ]
    },
    {
      "cell_type": "code",
      "source": [
        "import nltk\n",
        "from nltk.tokenize import sent_tokenize, word_tokenize\n",
        "nltk.download('punkt')\n",
        "\n",
        "t_data = []\n",
        "for idx in range(len(train_data)):\n",
        "  x = nltk.tokenize.word_tokenize(train_data[idx])\n",
        "  temp = []\n",
        "  for token in x:\n",
        "    # w2vmodel[i]\n",
        "    if(token in w2vmodel):\n",
        "      temp.append(w2vmodel[token])\n",
        "  t_data.append(temp)\n",
        "\n",
        "\n",
        "v_data = []\n",
        "for idx in range(len(val_data)):\n",
        "  x = nltk.tokenize.word_tokenize(val_data[idx])\n",
        "  temp = []\n",
        "  for token in x:\n",
        "    # w2vmodel[i]\n",
        "    if(token in w2vmodel):\n",
        "      temp.append(w2vmodel[token])\n",
        "  v_data.append(temp)\n"
      ],
      "metadata": {
        "colab": {
          "base_uri": "https://localhost:8080/"
        },
        "id": "3VEbWpS4J_6W",
        "outputId": "9966154d-bb89-4bde-8325-7ca5bafed9b3"
      },
      "execution_count": 22,
      "outputs": [
        {
          "output_type": "stream",
          "name": "stdout",
          "text": [
            "[nltk_data] Downloading package punkt to /root/nltk_data...\n",
            "[nltk_data]   Package punkt is already up-to-date!\n"
          ]
        }
      ]
    },
    {
      "cell_type": "code",
      "source": [
        "t_data_pad = tf.keras.preprocessing.sequence.pad_sequences(t_data,dtype='float64')\n",
        "print(len(t_data_pad[1]))\n",
        "v_data_pad =tf.keras.preprocessing.sequence.pad_sequences(v_data, maxlen = t_data_pad.shape[1],dtype='float64')\n",
        "print(len(v_data_pad[1]))"
      ],
      "metadata": {
        "colab": {
          "base_uri": "https://localhost:8080/"
        },
        "id": "0ZgG5nkH0-nt",
        "outputId": "126eafac-7cec-4f52-af12-9744210ba6d4"
      },
      "execution_count": 23,
      "outputs": [
        {
          "output_type": "stream",
          "name": "stdout",
          "text": [
            "184\n",
            "184\n"
          ]
        }
      ]
    },
    {
      "cell_type": "code",
      "source": [
        "np.asarray(t_data_pad).shape"
      ],
      "metadata": {
        "colab": {
          "base_uri": "https://localhost:8080/"
        },
        "id": "jit4lTsoATx3",
        "outputId": "1beb44e7-4b56-4a16-8ebf-c4649525c94c"
      },
      "execution_count": 24,
      "outputs": [
        {
          "output_type": "execute_result",
          "data": {
            "text/plain": [
              "(1386, 184, 300)"
            ]
          },
          "metadata": {},
          "execution_count": 24
        }
      ]
    },
    {
      "cell_type": "code",
      "source": [
        "model_w2v = Sequential()\n",
        "# model_w2v.add(Embedding(len(tokenizer.word_index) + 1, 300, input_length = t_data_pad.shape[1]))\n",
        "model_w2v.add(Input((184, 300 )))\n",
        "\n",
        "model_w2v.add(SpatialDropout1D(0.2))\n",
        "model_w2v.add(LSTM(100, dropout = 0.2, recurrent_dropout = 0.2))\n",
        "model_w2v.add(Dense(21, activation = 'softmax'))\n",
        "model_w2v.compile(loss = 'sparse_categorical_crossentropy', optimizer = 'adam', metrics = ['accuracy'])\n",
        "print(model_w2v.summary())"
      ],
      "metadata": {
        "colab": {
          "base_uri": "https://localhost:8080/"
        },
        "id": "zb0PSyYn6In9",
        "outputId": "2616c663-4560-4783-8cc6-f44c821ec19d"
      },
      "execution_count": 25,
      "outputs": [
        {
          "output_type": "stream",
          "name": "stdout",
          "text": [
            "Model: \"sequential_1\"\n",
            "_________________________________________________________________\n",
            " Layer (type)                Output Shape              Param #   \n",
            "=================================================================\n",
            " spatial_dropout1d_1 (Spatia  (None, 184, 300)         0         \n",
            " lDropout1D)                                                     \n",
            "                                                                 \n",
            " lstm_1 (LSTM)               (None, 100)               160400    \n",
            "                                                                 \n",
            " dense_1 (Dense)             (None, 21)                2121      \n",
            "                                                                 \n",
            "=================================================================\n",
            "Total params: 162,521\n",
            "Trainable params: 162,521\n",
            "Non-trainable params: 0\n",
            "_________________________________________________________________\n",
            "None\n"
          ]
        }
      ]
    },
    {
      "cell_type": "code",
      "source": [
        "epochs = 100\n",
        "batch_size = 32\n",
        "checkpoint_path = 'best_w2v_model.hdf5'\n",
        "model_checkpoint_callback = tf.keras.callbacks.ModelCheckpoint(\n",
        "    filepath=checkpoint_path,\n",
        "    save_weights_only=True,\n",
        "    monitor='val_accuracy',\n",
        "    mode='max',\n",
        "    save_best_only=True)\n",
        "\n",
        "history_w2v = model_w2v.fit(t_data_pad, y_train, epochs = epochs, batch_size = batch_size, validation_data = (v_data_pad,y_val),callbacks=[model_checkpoint_callback])"
      ],
      "metadata": {
        "colab": {
          "base_uri": "https://localhost:8080/"
        },
        "id": "Qm7zZ0ELBLG1",
        "outputId": "da2ef0b5-9a78-4af8-d320-d1ac1938eca1"
      },
      "execution_count": 26,
      "outputs": [
        {
          "output_type": "stream",
          "name": "stdout",
          "text": [
            "Epoch 1/100\n",
            "44/44 [==============================] - 25s 506ms/step - loss: 2.8695 - accuracy: 0.0960 - val_loss: 2.7712 - val_accuracy: 0.1714\n",
            "Epoch 2/100\n",
            "44/44 [==============================] - 21s 487ms/step - loss: 2.7370 - accuracy: 0.1674 - val_loss: 2.7365 - val_accuracy: 0.1371\n",
            "Epoch 3/100\n",
            "44/44 [==============================] - 21s 486ms/step - loss: 2.5965 - accuracy: 0.2208 - val_loss: 2.5494 - val_accuracy: 0.2286\n",
            "Epoch 4/100\n",
            "44/44 [==============================] - 22s 490ms/step - loss: 2.4955 - accuracy: 0.2417 - val_loss: 2.4747 - val_accuracy: 0.2514\n",
            "Epoch 5/100\n",
            "44/44 [==============================] - 22s 493ms/step - loss: 2.3814 - accuracy: 0.2785 - val_loss: 2.3597 - val_accuracy: 0.3200\n",
            "Epoch 6/100\n",
            "44/44 [==============================] - 22s 494ms/step - loss: 2.2629 - accuracy: 0.3276 - val_loss: 2.3807 - val_accuracy: 0.2800\n",
            "Epoch 7/100\n",
            "44/44 [==============================] - 25s 571ms/step - loss: 2.1886 - accuracy: 0.3348 - val_loss: 2.2964 - val_accuracy: 0.2800\n",
            "Epoch 8/100\n",
            "44/44 [==============================] - 22s 491ms/step - loss: 2.0631 - accuracy: 0.3766 - val_loss: 2.2634 - val_accuracy: 0.2971\n",
            "Epoch 9/100\n",
            "44/44 [==============================] - 22s 492ms/step - loss: 1.9995 - accuracy: 0.3838 - val_loss: 2.2376 - val_accuracy: 0.3143\n",
            "Epoch 10/100\n",
            "44/44 [==============================] - 22s 489ms/step - loss: 1.9217 - accuracy: 0.4221 - val_loss: 2.1082 - val_accuracy: 0.3657\n",
            "Epoch 11/100\n",
            "44/44 [==============================] - 22s 490ms/step - loss: 1.8392 - accuracy: 0.4574 - val_loss: 2.2177 - val_accuracy: 0.3143\n",
            "Epoch 12/100\n",
            "44/44 [==============================] - 22s 493ms/step - loss: 1.8522 - accuracy: 0.4545 - val_loss: 2.1288 - val_accuracy: 0.3486\n",
            "Epoch 13/100\n",
            "44/44 [==============================] - 22s 490ms/step - loss: 1.8276 - accuracy: 0.4509 - val_loss: 2.1352 - val_accuracy: 0.3429\n",
            "Epoch 14/100\n",
            "44/44 [==============================] - 22s 488ms/step - loss: 1.6649 - accuracy: 0.5108 - val_loss: 2.0890 - val_accuracy: 0.4057\n",
            "Epoch 15/100\n",
            "44/44 [==============================] - 22s 492ms/step - loss: 1.5872 - accuracy: 0.5137 - val_loss: 2.0896 - val_accuracy: 0.4000\n",
            "Epoch 16/100\n",
            "44/44 [==============================] - 21s 488ms/step - loss: 1.5405 - accuracy: 0.5411 - val_loss: 2.0403 - val_accuracy: 0.3943\n",
            "Epoch 17/100\n",
            "44/44 [==============================] - 21s 487ms/step - loss: 1.4379 - accuracy: 0.5693 - val_loss: 2.0688 - val_accuracy: 0.3886\n",
            "Epoch 18/100\n",
            "44/44 [==============================] - 22s 493ms/step - loss: 1.4053 - accuracy: 0.5830 - val_loss: 1.9917 - val_accuracy: 0.3943\n",
            "Epoch 19/100\n",
            "44/44 [==============================] - 22s 491ms/step - loss: 1.3807 - accuracy: 0.5815 - val_loss: 2.1704 - val_accuracy: 0.3657\n",
            "Epoch 20/100\n",
            "44/44 [==============================] - 22s 492ms/step - loss: 1.4782 - accuracy: 0.5556 - val_loss: 2.3833 - val_accuracy: 0.3429\n",
            "Epoch 21/100\n",
            "44/44 [==============================] - 22s 490ms/step - loss: 1.5034 - accuracy: 0.5332 - val_loss: 2.0982 - val_accuracy: 0.3771\n",
            "Epoch 22/100\n",
            "44/44 [==============================] - 21s 484ms/step - loss: 1.3195 - accuracy: 0.5916 - val_loss: 2.0720 - val_accuracy: 0.3771\n",
            "Epoch 23/100\n",
            "44/44 [==============================] - 22s 494ms/step - loss: 1.1866 - accuracy: 0.6544 - val_loss: 2.0802 - val_accuracy: 0.3771\n",
            "Epoch 24/100\n",
            "44/44 [==============================] - 22s 491ms/step - loss: 1.1525 - accuracy: 0.6450 - val_loss: 1.9641 - val_accuracy: 0.4000\n",
            "Epoch 25/100\n",
            "44/44 [==============================] - 21s 488ms/step - loss: 1.1032 - accuracy: 0.6674 - val_loss: 1.9779 - val_accuracy: 0.4057\n",
            "Epoch 26/100\n",
            "44/44 [==============================] - 22s 498ms/step - loss: 1.0425 - accuracy: 0.7006 - val_loss: 2.0597 - val_accuracy: 0.3771\n",
            "Epoch 27/100\n",
            "44/44 [==============================] - 22s 489ms/step - loss: 1.0038 - accuracy: 0.7006 - val_loss: 1.9965 - val_accuracy: 0.4514\n",
            "Epoch 28/100\n",
            "44/44 [==============================] - 22s 494ms/step - loss: 0.9346 - accuracy: 0.7266 - val_loss: 2.0018 - val_accuracy: 0.4114\n",
            "Epoch 29/100\n",
            "44/44 [==============================] - 22s 493ms/step - loss: 0.8867 - accuracy: 0.7439 - val_loss: 1.9956 - val_accuracy: 0.4000\n",
            "Epoch 30/100\n",
            "44/44 [==============================] - 22s 489ms/step - loss: 0.8208 - accuracy: 0.7453 - val_loss: 2.0225 - val_accuracy: 0.4286\n",
            "Epoch 31/100\n",
            "44/44 [==============================] - 22s 493ms/step - loss: 0.8429 - accuracy: 0.7554 - val_loss: 1.9663 - val_accuracy: 0.4000\n",
            "Epoch 32/100\n",
            "44/44 [==============================] - 22s 490ms/step - loss: 0.7357 - accuracy: 0.7821 - val_loss: 2.1682 - val_accuracy: 0.4171\n",
            "Epoch 33/100\n",
            "44/44 [==============================] - 22s 493ms/step - loss: 0.7536 - accuracy: 0.7691 - val_loss: 2.1819 - val_accuracy: 0.3714\n",
            "Epoch 34/100\n",
            "44/44 [==============================] - 22s 490ms/step - loss: 0.7033 - accuracy: 0.7951 - val_loss: 1.9893 - val_accuracy: 0.4171\n",
            "Epoch 35/100\n",
            "44/44 [==============================] - 26s 588ms/step - loss: 0.6335 - accuracy: 0.8225 - val_loss: 2.0100 - val_accuracy: 0.4514\n",
            "Epoch 36/100\n",
            "44/44 [==============================] - 21s 487ms/step - loss: 0.6126 - accuracy: 0.8095 - val_loss: 2.1337 - val_accuracy: 0.4343\n",
            "Epoch 37/100\n",
            "44/44 [==============================] - 21s 487ms/step - loss: 0.5914 - accuracy: 0.8247 - val_loss: 2.0447 - val_accuracy: 0.4229\n",
            "Epoch 38/100\n",
            "44/44 [==============================] - 22s 491ms/step - loss: 0.5787 - accuracy: 0.8326 - val_loss: 2.1206 - val_accuracy: 0.4400\n",
            "Epoch 39/100\n",
            "44/44 [==============================] - 22s 490ms/step - loss: 0.5427 - accuracy: 0.8470 - val_loss: 2.1525 - val_accuracy: 0.4114\n",
            "Epoch 40/100\n",
            "44/44 [==============================] - 22s 494ms/step - loss: 0.5095 - accuracy: 0.8579 - val_loss: 2.1780 - val_accuracy: 0.4114\n",
            "Epoch 41/100\n",
            "44/44 [==============================] - 22s 492ms/step - loss: 0.4910 - accuracy: 0.8658 - val_loss: 2.0984 - val_accuracy: 0.4571\n",
            "Epoch 42/100\n",
            "44/44 [==============================] - 22s 494ms/step - loss: 0.4496 - accuracy: 0.8874 - val_loss: 2.0601 - val_accuracy: 0.4514\n",
            "Epoch 43/100\n",
            "44/44 [==============================] - 22s 489ms/step - loss: 0.4808 - accuracy: 0.8615 - val_loss: 2.1472 - val_accuracy: 0.4514\n",
            "Epoch 44/100\n",
            "44/44 [==============================] - 21s 485ms/step - loss: 0.4189 - accuracy: 0.8846 - val_loss: 2.2966 - val_accuracy: 0.4229\n",
            "Epoch 45/100\n",
            "44/44 [==============================] - 21s 488ms/step - loss: 0.3840 - accuracy: 0.9019 - val_loss: 2.1844 - val_accuracy: 0.4000\n",
            "Epoch 46/100\n",
            "44/44 [==============================] - 21s 488ms/step - loss: 0.4141 - accuracy: 0.8723 - val_loss: 2.3006 - val_accuracy: 0.4229\n",
            "Epoch 47/100\n",
            "44/44 [==============================] - 22s 491ms/step - loss: 0.3142 - accuracy: 0.9149 - val_loss: 2.2613 - val_accuracy: 0.4171\n",
            "Epoch 48/100\n",
            "44/44 [==============================] - 22s 495ms/step - loss: 0.3283 - accuracy: 0.9149 - val_loss: 2.1630 - val_accuracy: 0.4514\n",
            "Epoch 49/100\n",
            "44/44 [==============================] - 23s 531ms/step - loss: 0.2955 - accuracy: 0.9271 - val_loss: 2.2788 - val_accuracy: 0.4343\n",
            "Epoch 50/100\n",
            "44/44 [==============================] - 22s 493ms/step - loss: 0.3461 - accuracy: 0.9019 - val_loss: 2.3196 - val_accuracy: 0.4571\n",
            "Epoch 51/100\n",
            "44/44 [==============================] - 22s 493ms/step - loss: 0.3216 - accuracy: 0.9120 - val_loss: 2.3159 - val_accuracy: 0.4286\n",
            "Epoch 52/100\n",
            "44/44 [==============================] - 21s 484ms/step - loss: 0.2833 - accuracy: 0.9214 - val_loss: 2.3558 - val_accuracy: 0.4400\n",
            "Epoch 53/100\n",
            "44/44 [==============================] - 22s 492ms/step - loss: 0.2562 - accuracy: 0.9387 - val_loss: 2.3060 - val_accuracy: 0.4571\n",
            "Epoch 54/100\n",
            "44/44 [==============================] - 22s 496ms/step - loss: 0.2429 - accuracy: 0.9423 - val_loss: 2.5201 - val_accuracy: 0.4343\n",
            "Epoch 55/100\n",
            "44/44 [==============================] - 22s 493ms/step - loss: 0.2348 - accuracy: 0.9343 - val_loss: 2.3262 - val_accuracy: 0.4743\n",
            "Epoch 56/100\n",
            "44/44 [==============================] - 22s 494ms/step - loss: 0.2323 - accuracy: 0.9408 - val_loss: 2.3637 - val_accuracy: 0.4286\n",
            "Epoch 57/100\n",
            "44/44 [==============================] - 22s 490ms/step - loss: 0.2136 - accuracy: 0.9531 - val_loss: 2.3126 - val_accuracy: 0.4457\n",
            "Epoch 58/100\n",
            "44/44 [==============================] - 22s 492ms/step - loss: 0.1840 - accuracy: 0.9589 - val_loss: 2.3943 - val_accuracy: 0.4514\n",
            "Epoch 59/100\n",
            "44/44 [==============================] - 22s 490ms/step - loss: 0.1959 - accuracy: 0.9473 - val_loss: 2.4371 - val_accuracy: 0.4743\n",
            "Epoch 60/100\n",
            "44/44 [==============================] - 22s 490ms/step - loss: 0.1870 - accuracy: 0.9603 - val_loss: 2.4712 - val_accuracy: 0.4514\n",
            "Epoch 61/100\n",
            "44/44 [==============================] - 22s 490ms/step - loss: 0.1896 - accuracy: 0.9517 - val_loss: 2.4704 - val_accuracy: 0.4229\n",
            "Epoch 62/100\n",
            "44/44 [==============================] - 22s 491ms/step - loss: 0.1683 - accuracy: 0.9618 - val_loss: 2.4724 - val_accuracy: 0.4286\n",
            "Epoch 63/100\n",
            "44/44 [==============================] - 21s 487ms/step - loss: 0.1655 - accuracy: 0.9603 - val_loss: 2.4820 - val_accuracy: 0.4343\n",
            "Epoch 64/100\n",
            "44/44 [==============================] - 22s 489ms/step - loss: 0.1567 - accuracy: 0.9646 - val_loss: 2.4994 - val_accuracy: 0.4571\n",
            "Epoch 65/100\n",
            "44/44 [==============================] - 21s 488ms/step - loss: 0.1638 - accuracy: 0.9639 - val_loss: 2.5109 - val_accuracy: 0.4514\n",
            "Epoch 66/100\n",
            "44/44 [==============================] - 21s 487ms/step - loss: 0.1704 - accuracy: 0.9596 - val_loss: 2.4903 - val_accuracy: 0.4457\n",
            "Epoch 67/100\n",
            "44/44 [==============================] - 21s 489ms/step - loss: 0.1471 - accuracy: 0.9697 - val_loss: 2.5617 - val_accuracy: 0.4400\n",
            "Epoch 68/100\n",
            "44/44 [==============================] - 22s 489ms/step - loss: 0.1301 - accuracy: 0.9697 - val_loss: 2.4850 - val_accuracy: 0.4343\n",
            "Epoch 69/100\n",
            "44/44 [==============================] - 21s 485ms/step - loss: 0.1300 - accuracy: 0.9733 - val_loss: 2.6973 - val_accuracy: 0.3829\n",
            "Epoch 70/100\n",
            "44/44 [==============================] - 22s 492ms/step - loss: 0.1197 - accuracy: 0.9755 - val_loss: 2.5790 - val_accuracy: 0.4629\n",
            "Epoch 71/100\n",
            "44/44 [==============================] - 30s 685ms/step - loss: 0.1350 - accuracy: 0.9683 - val_loss: 2.4883 - val_accuracy: 0.4514\n",
            "Epoch 72/100\n",
            "44/44 [==============================] - 29s 647ms/step - loss: 0.1489 - accuracy: 0.9589 - val_loss: 2.6661 - val_accuracy: 0.4286\n",
            "Epoch 73/100\n",
            "44/44 [==============================] - 23s 518ms/step - loss: 0.1295 - accuracy: 0.9675 - val_loss: 2.6302 - val_accuracy: 0.4743\n",
            "Epoch 74/100\n",
            "44/44 [==============================] - 23s 514ms/step - loss: 0.1822 - accuracy: 0.9509 - val_loss: 2.6383 - val_accuracy: 0.4171\n",
            "Epoch 75/100\n",
            "44/44 [==============================] - 24s 539ms/step - loss: 0.1116 - accuracy: 0.9798 - val_loss: 2.5379 - val_accuracy: 0.4171\n",
            "Epoch 76/100\n",
            "44/44 [==============================] - 21s 487ms/step - loss: 0.1192 - accuracy: 0.9704 - val_loss: 2.6229 - val_accuracy: 0.4571\n",
            "Epoch 77/100\n",
            "44/44 [==============================] - 23s 515ms/step - loss: 0.1035 - accuracy: 0.9755 - val_loss: 2.6498 - val_accuracy: 0.4343\n",
            "Epoch 78/100\n",
            "44/44 [==============================] - 21s 486ms/step - loss: 0.1021 - accuracy: 0.9784 - val_loss: 2.6099 - val_accuracy: 0.4343\n",
            "Epoch 79/100\n",
            "44/44 [==============================] - 21s 485ms/step - loss: 0.0936 - accuracy: 0.9848 - val_loss: 2.6759 - val_accuracy: 0.4686\n",
            "Epoch 80/100\n",
            "44/44 [==============================] - 22s 494ms/step - loss: 0.0878 - accuracy: 0.9820 - val_loss: 2.6549 - val_accuracy: 0.4629\n",
            "Epoch 81/100\n",
            "44/44 [==============================] - 22s 491ms/step - loss: 0.0949 - accuracy: 0.9784 - val_loss: 2.6347 - val_accuracy: 0.4914\n",
            "Epoch 82/100\n",
            "44/44 [==============================] - 22s 490ms/step - loss: 0.0847 - accuracy: 0.9841 - val_loss: 2.7114 - val_accuracy: 0.4743\n",
            "Epoch 83/100\n",
            "44/44 [==============================] - 21s 488ms/step - loss: 0.0799 - accuracy: 0.9834 - val_loss: 2.6843 - val_accuracy: 0.4571\n",
            "Epoch 84/100\n",
            "44/44 [==============================] - 21s 489ms/step - loss: 0.0931 - accuracy: 0.9798 - val_loss: 2.7121 - val_accuracy: 0.4514\n",
            "Epoch 85/100\n",
            "44/44 [==============================] - 21s 488ms/step - loss: 0.1018 - accuracy: 0.9762 - val_loss: 2.8064 - val_accuracy: 0.4229\n",
            "Epoch 86/100\n",
            "44/44 [==============================] - 21s 487ms/step - loss: 0.0722 - accuracy: 0.9877 - val_loss: 2.7035 - val_accuracy: 0.4571\n",
            "Epoch 87/100\n",
            "44/44 [==============================] - 21s 485ms/step - loss: 0.0780 - accuracy: 0.9848 - val_loss: 2.7562 - val_accuracy: 0.4171\n",
            "Epoch 88/100\n",
            "44/44 [==============================] - 21s 487ms/step - loss: 0.0870 - accuracy: 0.9784 - val_loss: 2.7828 - val_accuracy: 0.4171\n",
            "Epoch 89/100\n",
            "44/44 [==============================] - 21s 488ms/step - loss: 0.0939 - accuracy: 0.9769 - val_loss: 2.7572 - val_accuracy: 0.4686\n",
            "Epoch 90/100\n",
            "44/44 [==============================] - 21s 485ms/step - loss: 0.1042 - accuracy: 0.9690 - val_loss: 2.8977 - val_accuracy: 0.4400\n",
            "Epoch 91/100\n",
            "44/44 [==============================] - 21s 489ms/step - loss: 0.0759 - accuracy: 0.9856 - val_loss: 2.7430 - val_accuracy: 0.4514\n",
            "Epoch 92/100\n",
            "44/44 [==============================] - 21s 488ms/step - loss: 0.0617 - accuracy: 0.9906 - val_loss: 2.7798 - val_accuracy: 0.4914\n",
            "Epoch 93/100\n",
            "44/44 [==============================] - 22s 508ms/step - loss: 0.0612 - accuracy: 0.9885 - val_loss: 2.7385 - val_accuracy: 0.4514\n",
            "Epoch 94/100\n",
            "44/44 [==============================] - 21s 487ms/step - loss: 0.0701 - accuracy: 0.9863 - val_loss: 2.9471 - val_accuracy: 0.4000\n",
            "Epoch 95/100\n",
            "44/44 [==============================] - 22s 492ms/step - loss: 0.0704 - accuracy: 0.9841 - val_loss: 2.7519 - val_accuracy: 0.4629\n",
            "Epoch 96/100\n",
            "44/44 [==============================] - 21s 489ms/step - loss: 0.0609 - accuracy: 0.9870 - val_loss: 2.7306 - val_accuracy: 0.4514\n",
            "Epoch 97/100\n",
            "44/44 [==============================] - 21s 488ms/step - loss: 0.0572 - accuracy: 0.9899 - val_loss: 2.8574 - val_accuracy: 0.4400\n",
            "Epoch 98/100\n",
            "44/44 [==============================] - 21s 489ms/step - loss: 0.0675 - accuracy: 0.9856 - val_loss: 2.6684 - val_accuracy: 0.4343\n",
            "Epoch 99/100\n",
            "44/44 [==============================] - 21s 487ms/step - loss: 0.0623 - accuracy: 0.9870 - val_loss: 2.6026 - val_accuracy: 0.4514\n",
            "Epoch 100/100\n",
            "44/44 [==============================] - 22s 492ms/step - loss: 0.0614 - accuracy: 0.9885 - val_loss: 2.7600 - val_accuracy: 0.4514\n"
          ]
        }
      ]
    },
    {
      "cell_type": "code",
      "source": [
        "model_w2v.load_weights(checkpoint_path)\n",
        "\n",
        "model_w2v.evaluate(v_data_pad,y_val)"
      ],
      "metadata": {
        "colab": {
          "base_uri": "https://localhost:8080/"
        },
        "id": "vQ8p9Zt-Pf7D",
        "outputId": "e4b12d49-b472-4367-940b-4dc07602304b"
      },
      "execution_count": 29,
      "outputs": [
        {
          "output_type": "stream",
          "name": "stdout",
          "text": [
            "6/6 [==============================] - 1s 130ms/step - loss: 2.6347 - accuracy: 0.4914\n"
          ]
        },
        {
          "output_type": "execute_result",
          "data": {
            "text/plain": [
              "[2.6346640586853027, 0.49142858386039734]"
            ]
          },
          "metadata": {},
          "execution_count": 29
        }
      ]
    },
    {
      "cell_type": "code",
      "source": [
        "ts_data = []\n",
        "for idx in range(len(test_data)):\n",
        "  x = nltk.tokenize.word_tokenize(test_data[idx])\n",
        "  temp = []\n",
        "  for token in x:\n",
        "    # w2vmodel[i]\n",
        "    if(token in w2vmodel):\n",
        "      temp.append(w2vmodel[token])\n",
        "  ts_data.append(temp)\n",
        "\n",
        "ts_data_pad =tf.keras.preprocessing.sequence.pad_sequences(ts_data, maxlen = t_data_pad.shape[1],dtype='float64')\n",
        "print(len(ts_data_pad[1]))"
      ],
      "metadata": {
        "colab": {
          "base_uri": "https://localhost:8080/"
        },
        "id": "I6-UVZHgSWEa",
        "outputId": "56104c26-7af5-402c-c9b0-d5496446036c"
      },
      "execution_count": 30,
      "outputs": [
        {
          "output_type": "stream",
          "name": "stdout",
          "text": [
            "184\n"
          ]
        }
      ]
    },
    {
      "cell_type": "code",
      "source": [
        "np.asarray(ts_data_pad).shape"
      ],
      "metadata": {
        "colab": {
          "base_uri": "https://localhost:8080/"
        },
        "id": "gauzv6pySy4d",
        "outputId": "2acf4a8f-3d50-4fc0-f43f-d5eb736ce3b0"
      },
      "execution_count": 31,
      "outputs": [
        {
          "output_type": "execute_result",
          "data": {
            "text/plain": [
              "(183, 184, 300)"
            ]
          },
          "metadata": {},
          "execution_count": 31
        }
      ]
    },
    {
      "cell_type": "code",
      "source": [
        "model_w2v.evaluate(ts_data_pad,y_test)"
      ],
      "metadata": {
        "colab": {
          "base_uri": "https://localhost:8080/"
        },
        "id": "itAMyoD9TDz8",
        "outputId": "dc635d94-6e34-4fda-e01e-abdde8f0e4e1"
      },
      "execution_count": 32,
      "outputs": [
        {
          "output_type": "stream",
          "name": "stdout",
          "text": [
            "6/6 [==============================] - 1s 137ms/step - loss: 2.3009 - accuracy: 0.5246\n"
          ]
        },
        {
          "output_type": "execute_result",
          "data": {
            "text/plain": [
              "[2.3009350299835205, 0.5245901346206665]"
            ]
          },
          "metadata": {},
          "execution_count": 32
        }
      ]
    }
  ],
  "metadata": {
    "kernelspec": {
      "display_name": "Python 3",
      "language": "python",
      "name": "python3"
    },
    "language_info": {
      "codemirror_mode": {
        "name": "ipython",
        "version": 3
      },
      "file_extension": ".py",
      "mimetype": "text/x-python",
      "name": "python",
      "nbconvert_exporter": "python",
      "pygments_lexer": "ipython3",
      "version": "3.8.10"
    },
    "colab": {
      "name": "RNN_685_project.ipynb",
      "provenance": [],
      "collapsed_sections": []
    }
  },
  "nbformat": 4,
  "nbformat_minor": 0
}