{
 "cells": [
  {
   "cell_type": "code",
   "execution_count": 1,
   "metadata": {},
   "outputs": [],
   "source": [
    "import json\n",
    "\n",
    "f = open(\"full_dataset.jsonl\", \"r\")\n",
    "full_dataset = json.load(f)\n",
    "f.close()"
   ]
  },
  {
   "cell_type": "code",
   "execution_count": 2,
   "metadata": {},
   "outputs": [],
   "source": [
    "f = open(\"training_data.jsonl\", \"r\")\n",
    "training_dataset = json.load(f)\n",
    "f.close()\n",
    "\n",
    "f = open(\"test_data.jsonl\", \"r\")\n",
    "test_dataset = json.load(f)\n",
    "f.close()\n",
    "\n",
    "f = open(\"validation_data.jsonl\", \"r\")\n",
    "validation_dataset = json.load(f)\n",
    "f.close()"
   ]
  },
  {
   "cell_type": "code",
   "execution_count": 3,
   "metadata": {},
   "outputs": [
    {
     "name": "stdout",
     "output_type": "stream",
     "text": [
      "\n",
      " Accuracy:  0.37404580152671757\n",
      "\n",
      "Classification Report\n",
      "======================================================\n",
      "\n",
      "                                                                    precision    recall  f1-score   support\n",
      "\n",
      "computational social science, social media and cultural analytics       0.00      0.00      0.00        15\n",
      "                                 dialogue and interactive systems       0.73      0.84      0.78        44\n",
      "                                         discourse and pragmatics       0.00      0.00      0.00         8\n",
      "                                                    ethics in nlp       0.00      0.00      0.00         5\n",
      "                                                       generation       0.00      0.00      0.00        32\n",
      "                information extraction, retrieval and text mining       0.33      0.83      0.47        53\n",
      "                  interpretability and analysis of models for nlp       0.00      0.00      0.00        13\n",
      "                language grounding to vision, robotics and beyond       0.00      0.00      0.00        16\n",
      "    linguistic theories, cognitive modeling and psycholinguistics       0.00      0.00      0.00        11\n",
      "                                         machine learning for nlp       0.17      0.65      0.27        43\n",
      "                          machine translation and multilinguality       0.48      0.94      0.63        63\n",
      "                                                 nlp applications       0.00      0.00      0.00        40\n",
      "                      phonology, morphology and word segmentation       0.00      0.00      0.00         5\n",
      "                                               question answering       1.00      0.09      0.16        35\n",
      "                                         resources and evaluation       0.00      0.00      0.00        24\n",
      "                                                        semantics       0.50      0.46      0.48        54\n",
      "      sentiment analysis, stylistic analysis, and argument mining       0.00      0.00      0.00        24\n",
      "                                         speech and multimodality       0.00      0.00      0.00         8\n",
      "                                                    summarization       0.00      0.00      0.00        18\n",
      "                            tagging, chunking, syntax and parsing       0.00      0.00      0.00        13\n",
      "\n",
      "                                                         accuracy                           0.37       524\n",
      "                                                        macro avg       0.16      0.19      0.14       524\n",
      "                                                     weighted avg       0.28      0.37      0.27       524\n",
      "\n"
     ]
    },
    {
     "name": "stderr",
     "output_type": "stream",
     "text": [
      "/home/avani/.local/lib/python3.8/site-packages/sklearn/metrics/_classification.py:1221: UndefinedMetricWarning: Precision and F-score are ill-defined and being set to 0.0 in labels with no predicted samples. Use `zero_division` parameter to control this behavior.\n",
      "  _warn_prf(average, modifier, msg_start, len(result))\n"
     ]
    }
   ],
   "source": [
    "from sklearn.feature_extraction.text import TfidfVectorizer\n",
    "from sklearn.naive_bayes import MultinomialNB\n",
    "from sklearn.model_selection import train_test_split\n",
    "from sklearn.metrics import accuracy_score, classification_report\n",
    "\n",
    "tfidf = TfidfVectorizer()\n",
    "X = [x[0][0] + ' ' + x[0][2] for x in full_dataset]\n",
    "X = tfidf.fit_transform(X).toarray()\n",
    "\n",
    "y = [x[1] for x in full_dataset]\n",
    "\n",
    "X_train, X_test, y_train, y_test = train_test_split(X, y, test_size = 0.3,\n",
    "                                                    random_state = 0)\n",
    "\n",
    "classifier = MultinomialNB()\n",
    "classifier.fit(X_train, y_train)\n",
    "\n",
    "y_pred = classifier.predict(X_test)\n",
    "classification_report = classification_report(y_test, y_pred)\n",
    "\n",
    "print('\\n Accuracy: ', accuracy_score(y_test, y_pred))\n",
    "print('\\nClassification Report')\n",
    "print('======================================================')\n",
    "print('\\n', classification_report)"
   ]
  },
  {
   "cell_type": "code",
   "execution_count": null,
   "metadata": {},
   "outputs": [],
   "source": []
  }
 ],
 "metadata": {
  "kernelspec": {
   "display_name": "Python 3",
   "language": "python",
   "name": "python3"
  },
  "language_info": {
   "codemirror_mode": {
    "name": "ipython",
    "version": 3
   },
   "file_extension": ".py",
   "mimetype": "text/x-python",
   "name": "python",
   "nbconvert_exporter": "python",
   "pygments_lexer": "ipython3",
   "version": "3.8.10"
  }
 },
 "nbformat": 4,
 "nbformat_minor": 2
}
